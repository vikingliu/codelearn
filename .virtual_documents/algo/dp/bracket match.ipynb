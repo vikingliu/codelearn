# coding=utf-8
def find_single_bracket_match(n):
    def dfs(left, right, pre):
        if left == 0 and left == right:
            print(pre)
        if left > 0:
        # left 可以随便加
            dfs(left - 1, right, pre + '(')
        if right > left:
        # 合法检测
            dfs(left, right - 1, pre + ')')
    dfs(n, n, '')
find_single_bracket_match(4)


def find_double_bracket_match(small, big):
    def dfs(s_left, s_right, b_left, b_right, pre):
        if s_left == 0 and s_left == s_right and b_left == 0 and b_left == b_right:
            print(pre)

        if s_left == s_right:
         # first generate []
            if b_left > 0:
                dfs(s_left, s_right, b_left - 1, b_right, pre + '[')
            if b_right > b_left and pre[-1] != '[':
                # filter []
                dfs(s_left, s_right, b_left, b_right - 1, pre + ']')
        # generate ()
        if s_left > 0:
            dfs(s_left - 1, s_right, b_left, b_right, pre + '(')
        if s_right > s_left:
            dfs(s_left, s_right - 1, b_left, b_right, pre + ')')
    dfs(small, small, big, big, '')

find_double_bracket_match(3,2)


def find_single_bracket_match_dp_catalan(n):
    # catalan 数， 参考catalan的推导
    dp = [''] * (n + 1)
    dp[0] = ['']
    # dp[i] 表示i个括号生成的所有合法序列
    # dp[i] = ∑(dp[k])dp[i-k-1],  0≤k<i
    # dp[i] = (dp[0])dp[i-1] + (dp[1])dp[i-2] + .... (dp[i-1])dp[0]
    for i in range(1, n + 1):
        dp[i] = []
        for j in range(0, i):
            left = dp[j]
            right = dp[i - j - 1]
            for l in left:
                for r in right:
                    dp[i].append('(' + l + ')' + r)
    return dp[-1]

print(find_single_bracket_match_dp_catalan(4))


def find_bracket_match_non_dfs(n):
    # 原理跟 dfs 差不多，每次判断left和right的值，看合法性，在已生成的集合上添加left 或者 right
    brackets = [('', 0, 0)]
    for i in range(2*n):
        # 每次添加一个left或者一个right，总共添加 2*n次
        new_brackets = []
        for j, bracket in enumerate(brackets):
            s, left, right = bracket
            if left < n:
                new_brackets.append((s + '(', left + 1, right))
            if right < left:
                new_brackets.append((s + ')', left, right + 1))
        brackets = new_brackets
            
    return [b[0] for b in brackets]
print(find_bracket_match_non_dfs(5)))


def find_bracket_bracket_match_dfs_stack(n, left_stack=0, res=''):
    if n == 0:
        print(res + ')' * left_stack)
        return
    # ( 入栈
    find_bracket_bracket_match_dfs_stack(n - 1, left_stack + 1, res + '(')
    if left_stack > 0:
        # ( 出栈 + ）
        find_bracket_bracket_match_dfs_stack(n, left_stack - 1, res + ')')

find_bracket_bracket_match_dfs_stack(4)





