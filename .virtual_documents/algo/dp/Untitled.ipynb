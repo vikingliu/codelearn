# coding=utf-8


def catalan_cnt(n):
    """
        令h(0)=1,h(1)=1，catalan数满足递推式：h(n)= h(0)*h(n-1)+h(1)*h(n-2) + ... +h(n-1)*h(0) (n>=2)

        另类递推式[2]：h(n)=h(n-1)*(4*n-2)/(n+1);

        递推关系的解为：h(n)=C(2n,n)/(n+1) (n=0,1,2,...)

        递推关系的另类解为：h(n)=c(2n,n)-c(2n,n-1)(n=0,1,2,...)

        C(2n, n) / (n+1) = (2n)!/(n!*n!*(n+1))
    """
    if n == 1:
        return 1
    n_factorial = 1 #n!
    for i in range(1, n + 1):
        n_factorial *= i
        
    n2_factorial = n_factorial # init n! cal (2n)!
    for i in range(n + 1, 2 * n + 1):
        n2_factorial *= i 

    return n2_factorial // (n_factorial * n_factorial * (n + 1))

print(catalan_cnt(5))


def stack_out_dfs(arr, start=0, stack=[], path=[]):
    if start == len(arr):
        path = path + stack[::-1]
        return [path]
    
    res = []
    # 入栈
    res += stack_out_dfs(arr, start + 1, stack + [arr[start]], path)
 
    # 出栈
    if stack:
        res += stack_out_dfs(arr, start, stack, path + [stack.pop()])
    return res
print(stack_out([1, 2, 3, 4]))


def stack_out_non_dfs(arr):
    results = [([], [])]
    for i in range(len(arr)):
        new_results = []
        for stack, path in results:
            new_results.append((stack + [arr[i]], path))
            out = []
            while stack:
                out.append(stack.pop())
                new_results.append((stack + [arr[i]], path + out))
        results = new_results
    res = [path + stack[::-1] for stack, path in results]
    return res

print(stack_out_non_dfs([1, 2, 3, 4]))


def catalan_stack_out(nums):
    n = len(nums)
    dp = [0] * (n + 1)
    dp[0] = [[]]
     # dp[i] = ∑dp[k]dp[i-k-1],  0≤k<i
    for i in range(1, n + 1):
        dp[i] = []
        for j in range(0, i):
            left = dp[j]
            right = dp[i - j - 1]
            for l in left:
                for r in right:
                    dp[i].append(l + [nums[i - 1]] + r)
    return dp[-1]

catalan_stack_out([1,2,3,4])






