# coding=utf-8


def change_combination(amount, changes=[], start=0, combo=[]):
    """
       f(n,start) = Σ f(n - c[i], i)   i = [start, len(changes)]
    """
    if amount == 0:
        print(combo)
        return

    for i in range(start, len(changes)):
        if amount >= changes[i]:
            change_combination(amount - changes[i], changes, i, combo + [changes[i]])
change_combination(9, [3, 1, 2, 5, 10])


def change_combination_limit(amount, changes=[], limits=[], start=0, combo=[]):
    """
       f(n,start) = Σ f(n - c[i], i)   i = [start, len(changes)]
    """
    if amount == 0:
        print(combo)
        return

    for i in range(start, len(changes)):
        if amount >= changes[i] and limits[i] > 0:
            limits[i] -= 1
            change_combination_limit(amount - changes[i], changes, limits, i, combo + [changes[i]])
            limits[i] += 1
change_combination_limit(9, [3, 1, 2, 5, 10], [3,5,3,1,1])




def change_combination_num(amount, changes=[], start=0):
    if amount == 0:
        return 1
    cnt = 0
    for i in range(start, len(changes)):
        if amount >= changes[i]:
            cnt += change_combination_num(amount - changes[i], changes, i)
        else:
            break
    return cnt
change_combination_num(9, [3, 1, 2, 5, 10])  


def change_combination_num_limit(amount, changes=[], limits=[], start=0):
    if amount == 0:
        return 1
    cnt = 0
    for i in range(start, len(changes)):
        if amount >= changes[i] and limits[i] > 0:
            limits[i] -= 1
            cnt += change_combination_num_limit(amount - changes[i], limits, changes, i)
            limits[i] += 1
    return cnt
change_combination_num_limit(9, [3, 1, 2, 5, 10], [3,5,3,1,1]) 


def change_combination_seq(amount, changes=[]):
    """
    dp[i] = dp[i] + dp[i-c]
    :param amount:
    :param coins:
    :return:
    """
    dp = [0] * (amount + 1)
    dp[0] = 1
    dp_s = [[] for _ in range(amount + 1)]
    dp_s[0] = [[]]
    for change in changes:
        for i in range(change, amount + 1):
            dp[i] += dp[i - change]
            for l in dp_s[i-change]:
                dp_s[i].append([change] + l)

    return dp[amount], dp_s[amount]


print(change_combination_seq(9, [3, 1, 2, 5, 10]))




def change_combination_seq_limits(amount, changes=[], limits=[]):
    """
    dp[i] = dp[i] + dp[i-c]
    :param amount:
    :param coins:
    :return:
    """
    dp = [0] * (amount + 1)
    dp[0] = 1
    dp_s = [[] for _ in range(amount + 1)]
    dp_s[0] = [[]]
    for change in changes:
        for i in range(change, amount + 1):
            dp[i] += dp[i - change]
            for l in dp_s[i-change]:
                dp_s[i].append([change] + l)

    return dp[amount], dp_s[amount]


print(change_combination_seq_limits(9, [3, 1, 2, 5, 10], [3,5,3,1,1]))
