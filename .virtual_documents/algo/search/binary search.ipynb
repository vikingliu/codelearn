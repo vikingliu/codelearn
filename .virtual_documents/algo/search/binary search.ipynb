# coding=utf-8

# 升序二分查找，查到返回位置，否则返回-1
def orderly_bin_search(nums, v):
    left = 0
    right = len(nums) - 1
    while left <= right:
        mid = (left + right) // 2
        if nums[mid] == v:
            return mid
        elif nums[mid] > v:
            # search left
            right = mid - 1
        elif nums[mid] < v:
            # search right
            left = mid + 1

    return -1

# 升序移动之后查找，查到返回位置，否则返回-1
def move_bin_search(nums, v):
    left = 0
    right = len(nums) - 1
    while left <= right:
        mid = (left + right) // 2
        if nums[mid] == v:
            return mid
        elif nums[left] < nums[right]:
            # 某一个升序
            if nums[mid] > v:
                # search left
                right = mid - 1
            else:
                # search right
                left = mid + 1
        elif nums[left] > nums[mid]:
            # 两个升序，mid 在第二个序
            if nums[mid] > v or nums[left] <= v:
                #search left 
                right = mid - 1
            else:
                #search right 
                left = mid + 1
        else:
            # 两个升序，mid 在第一个序, v 在 left-mid之间
            if  nums[left] <= v <nums[mid]:
                # search left 
                right = mid - 1
            else:
                # search right 
                left = mid + 1
    return -1

# 升序移动之后查找，查到返回位置，否则返回-1
def move_bin_search_simple(nums, v):
    left = 0
    right = len(nums) - 1
    while left <= right:
        mid = (left + right) // 2
        if nums[mid] == v:
            return mid
        elif nums[left] <= v < nums[mid]:
            #  left -> mid 有序, 且v在 left和mid 之间，
            right = mid - 1
        elif nums[left] > nums[mid] and (nums[left] <= v or nums[mid] > v):
            # left -> mid 两个序, v在 left和mid之间， v在第一个序(left < v), v在第二个序( v < mid)
            right = mid - 1
        else:
            left = mid + 1
    return -1


nums = range(0, 10, 2)
for n in nums:
    pos = orderly_bin_search(nums, n)
    print(pos, n, nums[pos])

print('--------------')
nums = [10, 11, 12, 13, 14, 1, 2, ]
for n in nums:
    pos = move_bin_search(nums, n)
    pos1 = move_bin_search_simple(nums, n)
    print(n, pos, nums[pos1], pos1, nums[pos1])



