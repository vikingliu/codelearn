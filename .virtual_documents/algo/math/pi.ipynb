#encoding=utf-8
import random


num_all = 0         #随机点总计数器
num_cir = 0         #随机点在圆内的计数器
num_halt = 1000000 #每产生这么多个随机点后，计算并打印一次目前的结果

print("将进行无限计算，请用Ctrl_C或其他方式强制退出！！！")
#input("按回车(Enter)键开始...")
print("开始计算...，退出请用Ctrl_C或其他强制退出方式...")
print("\n实验次数        计算结果")


for i in range(num_halt):
    x = random.random()         #获得随机点的横坐标
    y = random.random()         #获得随机点的纵坐标
    if x*x + y*y < 1 :          #随机点(x,y)在圆内
        num_cir = num_cir + 1   #圆内计数器+1
    num_all = num_all + 1       #总计数器+1
    if (i + 1) % 100000 == 0:
        pi = 4*num_cir*1.0/num_all
        print(num_all,"   ", pi)
        
pi = 4*num_cir*1.0/num_all
print(num_all,"   ", pi)






# coding=utf-8
import math

n = 6
m = 1
print("%-15s%-20s" % ("内接正n边形", "π计算结果"))
print("%-20d%-20.12f" % (n, n * m / 2))
for i in range(14):
    n = 2 * n
    m = math.sqrt(2 - 2 * math.sqrt(1 - (m / 2) ** 2))
    print("%-20d%-20.18f" % (n, n * m / 2))



