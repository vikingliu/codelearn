# encoding=utf-8

# 牛顿法 求解根，近似逼近

'''
 过点 (x0, f(x0)) 做切线 L0： y = f(x0) + f'(x0)(x - x0)
 切线L0与x轴的交点 (x1, 0) => x1 = x0 - f(x0)/f'(x0)
 过点（x1，f(x1)) 做切线 L1：  y = f(x1) + f'(x1)(x - x1)
 切线L1与x轴的交点 (x2, 0) => x2 = x1 - f(x1)/f'(x1)
 ....
 迭代到 (xn,f(xn))   =>  xn = xn-1 - f(xn-1)/f'(xn-1)
 if (|f(xn) - y| < e ) return xn

 开2次方， f(x) = x^2 - n
 xn = xn-1 - f(xn-1)/f'(xn-1) =  xn-1 - (xn-1 ^ 2 - n) / 2*xn-1

 开3次方， f(x) = x^3 - n
 xn = xn-1 - f(xn-1)/f'(xn-1) =  xn-1 - (xn-1 ^ 3 - n) / 3*xn-1^2
'''

def pow_int(n, m):
    if m == 0:
        return 1
    if m == 1:
        return n
    # res = n ^ (m/2) * n ^ (m/2) * n ^ (m % 2)
    r = pow_int(n, m >> 1)
    return r * r * pow_int(n, m % 2)
    

def sqrt(n, m, e = 0.0000001):
    '''

    :param n: int 需要开根的数
    :param m: int 开几次方
    :param e: float 精度
    :return: 开根号的结果
    '''
    x = n
    f = pow_int(x, m - 1)  # x^(m-1)
    y = f * x  # x ^ m
    i = 0
    while abs(y - n) > e:
        x = x - (y - n) / (m * f)
        f = pow_int(x, m - 1)
        y = f * x
        i += 1

    return x

def __pow_frac(n, y):
    denominator = pow_int(10, len(y))
    molecule = int(y)
    stop = False
    while not stop:
        stop = True
        if molecule % 2 == 0 and denominator % 2 == 0:
            molecule = molecule // 2
            denominator = denominator // 2
            stop = False
        if molecule % 5 == 0 and denominator % 5 == 0:
            molecule = molecule // 5
            denominator = denominator // 5
            stop = False
    # if n < 1:
    #     print(molecule,denominator )
    #     new_molecule = pow_int(n, molecule)
    #     return sqrt(new_molecule, denominator)
        
    v = sqrt(n, denominator)
    print(n, molecule)
    return pow_int(v, molecule)



def pow_all(n, m):
    # n ^ m = n ^ (int(m) + m - int(m)) = n^int(m) * n^(m - int(m))
    if type(m) == int:
        return pow_int(n, m)
    x, y = str(m).split('.')
    return pow_int(n, int(x)) * __pow_frac(n, y)
    

print(sqrt(30.5, 10, 0.003))
print(pow_all(0.5, 1.63))
print(pow_int(0.5, 63))







