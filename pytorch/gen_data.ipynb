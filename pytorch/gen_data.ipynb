{
 "cells": [
  {
   "cell_type": "code",
   "execution_count": 1,
   "id": "9327ac99",
   "metadata": {},
   "outputs": [],
   "source": [
    "import numpy as np\n",
    "import csv"
   ]
  },
  {
   "cell_type": "code",
   "execution_count": 2,
   "id": "9477a806",
   "metadata": {},
   "outputs": [
    {
     "name": "stdout",
     "output_type": "stream",
     "text": [
      "done !\n"
     ]
    }
   ],
   "source": [
    "def gen_points(nums):\n",
    "    x = np.random.random(nums)*100 \n",
    "    e = np.random.random(nums)\n",
    "    w = np.random.random()* 10\n",
    "    b = np.random.random()* 5\n",
    "    \n",
    "    y = w * x + b + e\n",
    "    return x,y\n",
    "\n",
    "x,y = gen_points(1000)\n",
    "with open('data/data_points.csv', 'w') as w:\n",
    "    wr = csv.writer(w)\n",
    "   # wr.writerow(['x', 'y'])\n",
    "    for i in range(len(x)):\n",
    "        wr.writerow([x[i], y[i]])\n",
    "    print('done !')"
   ]
  },
  {
   "cell_type": "code",
   "execution_count": null,
   "id": "4090f33e",
   "metadata": {},
   "outputs": [],
   "source": []
  }
 ],
 "metadata": {
  "kernelspec": {
   "display_name": "Python 3 (ipykernel)",
   "language": "python",
   "name": "python3"
  },
  "language_info": {
   "codemirror_mode": {
    "name": "ipython",
    "version": 3
   },
   "file_extension": ".py",
   "mimetype": "text/x-python",
   "name": "python",
   "nbconvert_exporter": "python",
   "pygments_lexer": "ipython3",
   "version": "3.8.2"
  },
  "toc-autonumbering": true
 },
 "nbformat": 4,
 "nbformat_minor": 5
}
