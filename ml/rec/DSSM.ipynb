{
 "cells": [
  {
   "cell_type": "markdown",
   "id": "9a2c0a24-f0d5-4c9c-bf78-93fb98663a57",
   "metadata": {},
   "source": [
    "## DSSM\n",
    "\n",
    "<img src=\"../data/img/DSSM.webp\" style=\"zoom:50%\"/>"
   ]
  },
  {
   "cell_type": "code",
   "execution_count": null,
   "id": "ca0aea61-104e-4eca-8870-18051f3314f2",
   "metadata": {},
   "outputs": [],
   "source": []
  }
 ],
 "metadata": {
  "kernelspec": {
   "display_name": "Python 3 (ipykernel)",
   "language": "python",
   "name": "python3"
  },
  "language_info": {
   "codemirror_mode": {
    "name": "ipython",
    "version": 3
   },
   "file_extension": ".py",
   "mimetype": "text/x-python",
   "name": "python",
   "nbconvert_exporter": "python",
   "pygments_lexer": "ipython3",
   "version": "3.8.2"
  }
 },
 "nbformat": 4,
 "nbformat_minor": 5
}
