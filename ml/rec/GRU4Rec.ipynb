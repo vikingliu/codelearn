{
 "cells": [
  {
   "cell_type": "markdown",
   "id": "68885701-2f3e-4eb4-998f-cf0b5da22a21",
   "metadata": {},
   "source": [
    "\n",
    "<img src=\"../data/img/gru4rec.webp\" />"
   ]
  },
  {
   "cell_type": "code",
   "execution_count": null,
   "id": "5f971be3-9e42-44cb-94bc-cd46485b108e",
   "metadata": {},
   "outputs": [],
   "source": []
  }
 ],
 "metadata": {
  "kernelspec": {
   "display_name": "Python 3 (ipykernel)",
   "language": "python",
   "name": "python3"
  },
  "language_info": {
   "codemirror_mode": {
    "name": "ipython",
    "version": 3
   },
   "file_extension": ".py",
   "mimetype": "text/x-python",
   "name": "python",
   "nbconvert_exporter": "python",
   "pygments_lexer": "ipython3",
   "version": "3.8.2"
  }
 },
 "nbformat": 4,
 "nbformat_minor": 5
}
