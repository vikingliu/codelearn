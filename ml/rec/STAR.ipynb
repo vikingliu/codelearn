{
 "cells": [
  {
   "cell_type": "markdown",
   "id": "9c955789-ac49-4ea3-8042-0a34e0e25737",
   "metadata": {},
   "source": [
    "## STAR\n",
    "\n",
    "**多任务学习解决相同场景/分布下的不同任务，而多场景建模解决不同场景/分布下的相同任务**\n",
    "\n",
    "**在多场景建模中，数据是从多个相关但分布不同的场景中采样得到，样本只在场景内独立同分布。**\n",
    "\n",
    "一个自然的想法就是对每个场景分别建模，即多场景建模。对于多场景建模，如果采用各场景独立的方式，会忽视场景共性，导致长尾小场景难以学好，同时每个场景维护一个模型极大地增加系统资源开销和人力成本；如果直接将样本混合，训练共享模型，会忽视场景差异性，导致预测准度下降。\n",
    "\n",
    "多场景建模的问题：\n",
    "- 场景数多且存在长尾问题；\n",
    "- 不同场景样本分布差异大。\n",
    "\n",
    "<img src=\"../data/img/star_vs_ctr.png\" style=\"zoom:50%\" />\n",
    "\n",
    "STAR 主要包含三部分：\n",
    "\n",
    "- Partitioned Normalization（PN）；\n",
    "- 星型拓扑结构的全连接网络（STAR Topology Fully-Connected Network）；\n",
    "- 辅助网络（Auxiliary Network）。\n",
    "\n",
    "### Partitioned Normalization（PN）\n",
    "\n",
    "\n",
    "<img src=\"../data/img/BN.png\" style=\"zoom:50%\" />\n",
    "\n",
    "\n",
    "\n",
    "<img src=\"../data/img/PN.png\" style=\"zoom:50%\" />\n",
    "\n",
    "\n",
    "### 星型拓扑结构的全连接网络（STAR Topology Fully-Connected Network）\n",
    "\n",
    "<img src=\"../data/img/star.png\" style=\"zoom:50%\" />\n",
    "\n",
    "\n",
    "$\n",
    "\\displaystyle\n",
    "\\begin{align}\n",
    "& W_p^{*} = W_p \\bigotimes W,  b_p^{*} = b_p + b \\\\\n",
    "& 其中 W、b 为中心共享 FCN 的参数， W_p、b_p 为域p 对应的域特定FCN参数。\\\\\n",
    "& 假设FC层的输入是 in_p ，那么输出由下式计算得到：\\\\\n",
    "& out_p = \\phi((W_p^{*})^T in_p + b_p^{*})\\\\\n",
    "\\end{align}\n",
    "$\n",
    "通过这样的实现方式，STAR的共享参数被所有场景样本的梯度更新，学习场景共性，而场景私有参数只被场景内样本更新，建模场景差异性。\n",
    "\n",
    "\n",
    "### 辅助网络（Auxiliary Network）\n",
    "<img src=\"../data/img/star_aux.png\" style=\"zoom:50%\" />\n",
    "\n",
    "\n",
    "### VS\n",
    "\n",
    "<img src=\"../data/img/star_vs_mmoe.png\" style=\"zoom:50%\" />"
   ]
  },
  {
   "cell_type": "code",
   "execution_count": null,
   "id": "b9e2fd10-df31-4787-a3ba-d42446d9bf0c",
   "metadata": {},
   "outputs": [],
   "source": []
  }
 ],
 "metadata": {
  "kernelspec": {
   "display_name": "Python 3 (ipykernel)",
   "language": "python",
   "name": "python3"
  },
  "language_info": {
   "codemirror_mode": {
    "name": "ipython",
    "version": 3
   },
   "file_extension": ".py",
   "mimetype": "text/x-python",
   "name": "python",
   "nbconvert_exporter": "python",
   "pygments_lexer": "ipython3",
   "version": "3.8.2"
  }
 },
 "nbformat": 4,
 "nbformat_minor": 5
}
