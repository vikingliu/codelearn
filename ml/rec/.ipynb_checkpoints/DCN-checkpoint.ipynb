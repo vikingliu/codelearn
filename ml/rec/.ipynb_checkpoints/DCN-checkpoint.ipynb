{
 "cells": [
  {
   "cell_type": "markdown",
   "id": "e24bfda6-d8db-4a98-baab-607a900e6db7",
   "metadata": {},
   "source": [
    "## DCN全称Deep & Cross Network\n",
    "\n",
    "是谷歌和斯坦福大学在2017年提出的用于Ad Click Prediction的模型。DCN(Deep Cross Network)在学习特定阶数组合特征的时候效率非常高，而且同样不需要特征工程，引入的额外的复杂度也是微乎其微的。\n",
    "\n",
    "<img src=\"../data/img/dcn.webp\" style=\"zoom:50%\" />\n",
    "\n",
    "### Cross Network 计算公式\n",
    "<img src=\"../data/img/cross_network.png\" style=\"zoom:50%\" />\n",
    "\n",
    "<img src=\"../data/img/feature_cross.webp\" style=\"zoom:50%\" />\n",
    "\n",
    "### 参数个数\n",
    "$Cross 深度L_c层，X_0的维度 d, 每一层的参数W和b维度跟X一样， 总参数量 2 * d * L_c$\n",
    "  \n",
    "\n",
    "Deep\n",
    "\n",
    "\n",
    "### Loss\n",
    "损失函数使用带正则项的log loss\n",
    "\n",
    "<img src=\"../data/img/dcn_loss.webp\" style=\"zoom:50%\" />\n",
    "\n",
    "\n",
    "\n",
    "### 泛化FM\n",
    "跟FM一样，DCN同样也是基于参数共享机制的，参数共享不仅仅使得模型更加高效而且使得模型可以泛化到之前没有出现过的特征组合，并且对噪声的抵抗性更加强。\n",
    "FM是一个非常浅的结构，并且限制在表达二阶组合特征上，DeepCrossNetwork(DCN)把这种参数共享的思想从一层扩展到多层，并且可以学习高阶的特征组合。但是和FM的高阶版本的变体不同，DCN的参数随着输入维度的增长是线性增长的。"
   ]
  },
  {
   "cell_type": "code",
   "execution_count": null,
   "id": "6da5d2a4-fb55-49e5-bf5e-4e4e078562d3",
   "metadata": {},
   "outputs": [],
   "source": []
  }
 ],
 "metadata": {
  "kernelspec": {
   "display_name": "Python 3 (ipykernel)",
   "language": "python",
   "name": "python3"
  },
  "language_info": {
   "codemirror_mode": {
    "name": "ipython",
    "version": 3
   },
   "file_extension": ".py",
   "mimetype": "text/x-python",
   "name": "python",
   "nbconvert_exporter": "python",
   "pygments_lexer": "ipython3",
   "version": "3.8.2"
  }
 },
 "nbformat": 4,
 "nbformat_minor": 5
}
