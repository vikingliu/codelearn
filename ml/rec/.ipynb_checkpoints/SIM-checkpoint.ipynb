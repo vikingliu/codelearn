{
 "cells": [
  {
   "cell_type": "markdown",
   "id": "134652bf-8446-4cdf-844a-5ff4afae2a3e",
   "metadata": {},
   "source": [
    "## SIM\n",
    "\n",
    "\n",
    "<img src=\"../data/img/sim.webp\" />\n",
    "\n",
    "两级索引缓解了长序列建模的线上服务压力, 主要借鉴了DIN中通过候选广告搜索相关用户行为的方法。SIM利用两个阶段来捕捉用户在广告上的精准兴趣表达。\n",
    "- **第一个阶段提出了GSU（General Search Unit，通用搜索单元）结构。** 从原始的超长用户行为中根据广告信息搜索到和广告相关的用户行为。\n",
    "- **第二个阶段提出了ESU（Exact Search Unit，精准搜索单元）结构。** 利用第一阶段提取出和广告相关的用户行为和候选的广告信息来精准建模用户的多样兴趣。在ESU中，采用类似DIN或者DIEN这样复杂的模型来捕捉用户和广告相关的动态兴趣表达。\n",
    "\n",
    "\n",
    "### SIM的问题\n",
    "- **目标不一致**。GSU建立索引使用的item embedding不是SIM模型生成的，可能是预训练的，也有可能是直接拿item的类别建立的索引\n",
    "- **更新频率不一致**。SIM两阶段的更新频率不一致。线上模型都是以online learning的方式频繁更新的，以捕捉用户实时的兴趣变化，但是SIM中所使用的索引都是离线建立好的，成为性能的短板\n",
    "\n",
    "\n",
    "**ETA的主要思路是使用SimHash替换SIM GSU中的类别索引方法**"
   ]
  },
  {
   "cell_type": "code",
   "execution_count": null,
   "id": "2c25cc34-5a56-407f-923a-c39ed0211e03",
   "metadata": {},
   "outputs": [],
   "source": []
  }
 ],
 "metadata": {
  "kernelspec": {
   "display_name": "Python 3 (ipykernel)",
   "language": "python",
   "name": "python3"
  },
  "language_info": {
   "codemirror_mode": {
    "name": "ipython",
    "version": 3
   },
   "file_extension": ".py",
   "mimetype": "text/x-python",
   "name": "python",
   "nbconvert_exporter": "python",
   "pygments_lexer": "ipython3",
   "version": "3.8.2"
  }
 },
 "nbformat": 4,
 "nbformat_minor": 5
}
