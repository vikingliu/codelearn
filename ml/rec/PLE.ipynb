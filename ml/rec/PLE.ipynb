{
 "cells": [
  {
   "cell_type": "markdown",
   "id": "bbee8f94-1326-42a3-8012-c83a6ef03c1d",
   "metadata": {},
   "source": [
    "### CGC\n",
    "\n",
    "CGC（Customized Gate Control）网络，在共享专家网络的基础上，又针对特定的任务有特定的专家网络，以此增强每个任务的效果\n",
    "\n",
    "<img src=\"../data/img/CGC.webp\" />\n",
    "\n",
    "\n",
    "### PLE\n",
    "\n",
    "Progressive Layered Extraction\n",
    "PLE结构可以看做是CGC网络结构的扩展，由single-level的CGC衍生为multi-level的PLE。\n",
    "<img src=\"../data/img/PLE.webp\" />\n",
    "\n",
    "\n",
    "为了解决多任务模型中普遍存在的负迁移和跷跷板现象，在MMoE模型的基础上提出了CGC模型，在共享专家的基础上增加了针对特定任务的专家网络，可以针对特定任务学习到独有的网络部分，从而避免任务之间的相互影响，同时为了进一步提升整体网络的泛化效果，在CGC的基础上通过堆叠Extraction Network构造了更深的网络结构，进一步提升多任务模型的学习效果。"
   ]
  },
  {
   "cell_type": "code",
   "execution_count": null,
   "id": "01a494f9-1043-4d03-a90e-88bac27998a3",
   "metadata": {},
   "outputs": [],
   "source": []
  }
 ],
 "metadata": {
  "kernelspec": {
   "display_name": "Python 3 (ipykernel)",
   "language": "python",
   "name": "python3"
  },
  "language_info": {
   "codemirror_mode": {
    "name": "ipython",
    "version": 3
   },
   "file_extension": ".py",
   "mimetype": "text/x-python",
   "name": "python",
   "nbconvert_exporter": "python",
   "pygments_lexer": "ipython3",
   "version": "3.8.2"
  }
 },
 "nbformat": 4,
 "nbformat_minor": 5
}
