{
 "cells": [
  {
   "cell_type": "markdown",
   "id": "a35149a0-b5bc-4f7c-92bf-0b1d2dab5a43",
   "metadata": {},
   "source": [
    "## ESMM\n",
    "\n",
    "<img src=\"../data/img/esmm_math.png\" style=\"zoom:50%\" />\n",
    "\n",
    "其中x,y,z分别表示曝光，点击，转换。   \n",
    "注意到，在全部样本空间中，CTR对应的label为click，而CTCVR对应的label为click & conversion，这两个任务是可以使用全部样本的。   \n",
    "因此，ESMM通过学习CTR，CTCVR两个任务，再根据上式隐式地学习CVR任务。\n",
    "\n",
    "<img src=\"../data/img/esmm.png\" style=\"zoom:50%\" />\n",
    "\n",
    "<img src=\"../data/img/esmm_loss.png\"  />\n",
    "\n",
    "实验发现，ESMM的跷跷板现象较为明显，CTR与CVR任务的效果较难同时提升"
   ]
  },
  {
   "cell_type": "code",
   "execution_count": null,
   "id": "be0e61ce-7cd3-4ce4-8892-0cae9729aaf3",
   "metadata": {},
   "outputs": [],
   "source": []
  }
 ],
 "metadata": {
  "kernelspec": {
   "display_name": "Python 3 (ipykernel)",
   "language": "python",
   "name": "python3"
  },
  "language_info": {
   "codemirror_mode": {
    "name": "ipython",
    "version": 3
   },
   "file_extension": ".py",
   "mimetype": "text/x-python",
   "name": "python",
   "nbconvert_exporter": "python",
   "pygments_lexer": "ipython3",
   "version": "3.8.2"
  }
 },
 "nbformat": 4,
 "nbformat_minor": 5
}
