{
 "cells": [
  {
   "cell_type": "markdown",
   "id": "0fab0ad2-440d-464f-8e07-13ab0d81c020",
   "metadata": {},
   "source": [
    "## EDCN\n",
    "\n",
    "\n",
    "特征交叉有显式和隐式两种方式，联合学习显式和隐式特征交叉能显著提升模型效果，根据交叉组合方式，深度CTR模型分为两类：\n",
    "\n",
    "1. 堆叠结构：如PIN、DIN、DIEN\n",
    "2. 并行结构：如DeepFM、DCN、XDeepFM\n",
    "\n",
    "<img src=\"../data/img/compare_stacked_parallel_ctr.jpeg\" style=\"zoom:70%\" />\n",
    "\n",
    "\n",
    "存在以下两个问题：\n",
    "\n",
    "（1）隐层共享不足：显式和隐式交叉分别独立进行，只在最后一层进行融合，中间隐层没有进行信息共享，会弱化两者之间的交叉信号，容易导致反向传播时发生梯度倾斜；\n",
    "\n",
    "（2）输入层过度共享：两种交叉方式采用相同的embedding作为输入，未作区分，不同的特征适合不同的交叉方式，共享输入对于并行结构不一定是合理的，可能导致模型结果为次优。\n",
    "\n",
    "为解决上面问题，论文提升EDCN模型：引入了两个核心模块：\n",
    "\n",
    "Bridge模块：通过协同工作来更好地捕获子网络分层间的交互信号\n",
    "Regulation模块：为不同并行子网络的隐层学习不同的特征分布\n",
    "这两个轻量级的模块是模型无关的，可以很好地适配到各类主流并行深度CTR模型。\n",
    "\n",
    "\n",
    "<img src=\"../data/img/EDCN.jpeg\" style=\"zoom:70%\" />\n",
    "\n",
    "\n",
    "<img src=\"../data/img/fusion.webp\" style=\"zoom:70%\" />\n",
    "\n",
    "<img src=\"../data/img/diff_cross_fusion.webp\" style=\"zoom:50%\" />\n",
    "\n",
    "<img src=\"../data/img/regulation.webp\" style=\"zoom:50%\" />"
   ]
  },
  {
   "cell_type": "code",
   "execution_count": null,
   "id": "1fc41a87-0432-4abe-bf8e-ae79d8673a02",
   "metadata": {},
   "outputs": [],
   "source": []
  }
 ],
 "metadata": {
  "kernelspec": {
   "display_name": "Python 3 (ipykernel)",
   "language": "python",
   "name": "python3"
  },
  "language_info": {
   "codemirror_mode": {
    "name": "ipython",
    "version": 3
   },
   "file_extension": ".py",
   "mimetype": "text/x-python",
   "name": "python",
   "nbconvert_exporter": "python",
   "pygments_lexer": "ipython3",
   "version": "3.8.2"
  }
 },
 "nbformat": 4,
 "nbformat_minor": 5
}
