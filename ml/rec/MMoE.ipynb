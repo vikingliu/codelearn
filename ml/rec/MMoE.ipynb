{
 "cells": [
  {
   "cell_type": "markdown",
   "id": "71d4dd98-4d3b-4683-b850-b999196b0cd6",
   "metadata": {},
   "source": [
    "## MMoE\n",
    "\n",
    "Multi-gate Mixture-of-Experts\n",
    "\n",
    "<img src=\"../data/img/mmoe.jpeg\" style=\"zoom:50%\"/>"
   ]
  },
  {
   "cell_type": "code",
   "execution_count": null,
   "id": "fcb9c553-22e6-43ed-acf2-3d77b7d9b166",
   "metadata": {},
   "outputs": [],
   "source": []
  }
 ],
 "metadata": {
  "kernelspec": {
   "display_name": "Python 3 (ipykernel)",
   "language": "python",
   "name": "python3"
  },
  "language_info": {
   "codemirror_mode": {
    "name": "ipython",
    "version": 3
   },
   "file_extension": ".py",
   "mimetype": "text/x-python",
   "name": "python",
   "nbconvert_exporter": "python",
   "pygments_lexer": "ipython3",
   "version": "3.8.2"
  }
 },
 "nbformat": 4,
 "nbformat_minor": 5
}
