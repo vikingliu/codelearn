{
 "cells": [
  {
   "cell_type": "code",
   "execution_count": 1,
   "id": "27f62122-0c67-4f30-b696-482dab92beea",
   "metadata": {},
   "outputs": [
    {
     "ename": "ModuleNotFoundError",
     "evalue": "No module named 'numpy'",
     "output_type": "error",
     "traceback": [
      "\u001b[0;31m---------------------------------------------------------------------------\u001b[0m",
      "\u001b[0;31mModuleNotFoundError\u001b[0m                       Traceback (most recent call last)",
      "Cell \u001b[0;32mIn[1], line 6\u001b[0m\n\u001b[1;32m      1\u001b[0m \u001b[38;5;66;03m# coding=utf-8\u001b[39;00m\n\u001b[1;32m      2\u001b[0m \n\u001b[1;32m      3\u001b[0m \u001b[38;5;66;03m# s(vi) = (1-d) + d * sum(1/|out(vj)| * s(vj)\u001b[39;00m\n\u001b[1;32m      4\u001b[0m \u001b[38;5;66;03m# d = 0.85  s(vx) = 1\u001b[39;00m\n\u001b[0;32m----> 6\u001b[0m \u001b[38;5;28;01mimport\u001b[39;00m \u001b[38;5;21;01mnumpy\u001b[39;00m \u001b[38;5;28;01mas\u001b[39;00m \u001b[38;5;21;01mnp\u001b[39;00m\n\u001b[1;32m      8\u001b[0m d \u001b[38;5;241m=\u001b[39m \u001b[38;5;241m0.85\u001b[39m\n\u001b[1;32m     11\u001b[0m \u001b[38;5;28;01mdef\u001b[39;00m \u001b[38;5;21mcal_pr\u001b[39m(m, pr, epoch\u001b[38;5;241m=\u001b[39m\u001b[38;5;241m100\u001b[39m):\n",
      "\u001b[0;31mModuleNotFoundError\u001b[0m: No module named 'numpy'"
     ]
    }
   ],
   "source": [
    "# coding=utf-8\n",
    "\n",
    "# s(vi) = (1-d) + d * sum(1/|out(vj)| * s(vj)\n",
    "# d = 0.85  s(vx) = 1\n",
    "\n",
    "import numpy as np\n",
    "\n",
    "d = 0.85\n",
    "\n",
    "\n",
    "def cal_pr(m, pr, epoch=100):\n",
    "    for i in range(epoch):\n",
    "        pr = 1 - d + d * m.dot(pr)\n",
    "        print(pr)\n",
    "    return pr\n",
    "\n",
    "\n",
    "if __name__ == '__main__':\n",
    "    m = np.array([[0, 1, 1], [0, 0, 0], [0, 0, 0]])\n",
    "    pr = np.array([1, 1, 1])\n",
    "    cal_pr(m, pr)\n"
   ]
  },
  {
   "cell_type": "code",
   "execution_count": null,
   "id": "80f234e3-834c-414a-9f5b-e5810b6a8272",
   "metadata": {},
   "outputs": [],
   "source": []
  }
 ],
 "metadata": {
  "kernelspec": {
   "display_name": "Python 3 (ipykernel)",
   "language": "python",
   "name": "python3"
  },
  "language_info": {
   "codemirror_mode": {
    "name": "ipython",
    "version": 3
   },
   "file_extension": ".py",
   "mimetype": "text/x-python",
   "name": "python",
   "nbconvert_exporter": "python",
   "pygments_lexer": "ipython3",
   "version": "3.8.2"
  }
 },
 "nbformat": 4,
 "nbformat_minor": 5
}
