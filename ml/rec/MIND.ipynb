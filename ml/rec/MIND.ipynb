{
 "cells": [
  {
   "cell_type": "markdown",
   "id": "bc2b4316-9551-450f-8dd2-3c21f0ab41c3",
   "metadata": {},
   "source": [
    "##  MIND\n",
    "Multi-Interest Network with Dynamic routing (MIND)\n",
    "\n",
    "<img src=\"../data/img/MIND.jpeg\" style=\"zoom:50% \"/>\n",
    "\n",
    "MIND模型的目标就是通过用户行为+用户基础属性，计算用户的K个兴趣向量 \n",
    " （当K=1时，则与YouTube DNN类似）："
   ]
  },
  {
   "cell_type": "code",
   "execution_count": null,
   "id": "0cf6c813-b963-4dbc-9ec6-03550ac7e411",
   "metadata": {},
   "outputs": [],
   "source": []
  }
 ],
 "metadata": {
  "kernelspec": {
   "display_name": "Python 3 (ipykernel)",
   "language": "python",
   "name": "python3"
  },
  "language_info": {
   "codemirror_mode": {
    "name": "ipython",
    "version": 3
   },
   "file_extension": ".py",
   "mimetype": "text/x-python",
   "name": "python",
   "nbconvert_exporter": "python",
   "pygments_lexer": "ipython3",
   "version": "3.8.2"
  }
 },
 "nbformat": 4,
 "nbformat_minor": 5
}
