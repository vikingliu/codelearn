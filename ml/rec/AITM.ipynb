{
 "cells": [
  {
   "cell_type": "markdown",
   "id": "8f242bca-e22f-4d0d-86c8-a1c63efd510f",
   "metadata": {},
   "source": [
    "## AITM\n",
    "\n",
    "AITM模型是美团2021年提出来的多任务框架，与MMOE以及ESMM的架构有所区别。看的出来，MMOE在进行各个任务的预测时，各个任务在tower层后就独立进行输出了，联系主要在底层的专家网络和门控上。ESMM模式使用联合概率预测，但依然忽视了任务前后的关系。AITM的框架则考虑到前一任务对后一任务的影响，通过attention机制对前一任务的信息与当前信息进行加权，并输入给当前任务tower层，完成对当前任务的预测。这个想法看起来还是相当不错的。\n",
    "\n",
    "<img src=\"../data/img/AITM.webp\" />"
   ]
  },
  {
   "cell_type": "code",
   "execution_count": null,
   "id": "3af65978-90ea-4e34-ab51-793772ffc8dc",
   "metadata": {},
   "outputs": [],
   "source": []
  }
 ],
 "metadata": {
  "kernelspec": {
   "display_name": "Python 3 (ipykernel)",
   "language": "python",
   "name": "python3"
  },
  "language_info": {
   "codemirror_mode": {
    "name": "ipython",
    "version": 3
   },
   "file_extension": ".py",
   "mimetype": "text/x-python",
   "name": "python",
   "nbconvert_exporter": "python",
   "pygments_lexer": "ipython3",
   "version": "3.8.2"
  }
 },
 "nbformat": 4,
 "nbformat_minor": 5
}
