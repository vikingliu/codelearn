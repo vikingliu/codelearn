{
 "cells": [
  {
   "cell_type": "markdown",
   "id": "8ac33655-8dbc-4a67-a2b0-74e60cd009f2",
   "metadata": {},
   "source": [
    "## youtube DNN\n",
    "\n",
    "### 召回\n",
    "<img src=\"../data/img/youtube_dnn.webp\" style=\"zoom:50%\" />\n",
    "\n",
    "\n",
    "严格意义上说这个算是个单塔，user侧的信息是通过tower变换的，但是item的tower其实仅仅是Softmax前面矩阵的权重。\n",
    "\n",
    "### 排序\n",
    "- 排序模型较为简单常见，但对于训练数据和特征都做了一些结合业务场景的相应处理。\n",
    "- 对模型的训练和服务过程进行了一些处理，以更加适合于视频推荐的业务场景。训练时使用 weighted LR 进行加权处理, 模型服务时使用 \n",
    "exp(Wx+b) 而并非 p(y|x) 来给出预测用户播放时长\n",
    "<img src=\"../data/img/youtube_dnn_ranking.png\" style=\"zoom:50%\" />"
   ]
  },
  {
   "cell_type": "code",
   "execution_count": null,
   "id": "de920f52-8cab-4cc7-8fab-d8fb32a04386",
   "metadata": {},
   "outputs": [],
   "source": []
  }
 ],
 "metadata": {
  "kernelspec": {
   "display_name": "Python 3 (ipykernel)",
   "language": "python",
   "name": "python3"
  },
  "language_info": {
   "codemirror_mode": {
    "name": "ipython",
    "version": 3
   },
   "file_extension": ".py",
   "mimetype": "text/x-python",
   "name": "python",
   "nbconvert_exporter": "python",
   "pygments_lexer": "ipython3",
   "version": "3.8.2"
  }
 },
 "nbformat": 4,
 "nbformat_minor": 5
}
