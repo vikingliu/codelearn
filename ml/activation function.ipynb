{
 "cells": [
  {
   "cell_type": "markdown",
   "id": "f91e50bb-fe1c-44db-bea8-f8eed44dbe61",
   "metadata": {},
   "source": [
    "<img src=\"./data/img/activation_func.png\">"
   ]
  },
  {
   "cell_type": "markdown",
   "id": "23d5e990-2d8b-47e2-b357-10a3a78726d2",
   "metadata": {},
   "source": [
    "## ReLU\n",
    "$ReLU激活函数 f(x) = max(0, x)$  \n",
    "$X^{[l]} = f(Z^{[l]}) = max(0, Z^{[l]}), Z^{[l]} = W^{[l]}X^{[l-1]} + b^{[l]}$  \n",
    "$\n",
    "\\frac {\\partial X^{[l]}}{\\partial Z ^{[l]}} = \\begin{cases}\n",
    "1, & {{Z ^{[l]}} > 0}   \\\\\n",
    "0, & {{Z ^{[l]}} ≤ 0}\n",
    "\\end{cases}\n",
    "$  \n",
    "\n",
    "<img src=\"./data/img/d_relu.webp\"/>   \n",
    "\n",
    "计算非常简单，只需要判断激活函数的输入是否大于0  \n",
    "### relu的优点\n",
    "1. 没有饱和区，不存在梯度消失问题，防止梯度弥散；\n",
    "2. 稀疏性；\n",
    "3. 没有复杂的指数运算，计算简单、效率提高；\n",
    "4. 实际收敛速度较快，比 Sigmoid/tanh 快很多；\n",
    "5. 比 Sigmoid 更符合生物学神经激活机制。\n",
    "\n",
    "### relu也存在不足\n",
    "就是训练的时候很”脆弱”，很容易就”die”了。举个例子：一个非常大的梯度流过一个 ReLU 神经元，更新过参数之后，这个神经元再也不会对任何数据有激活现象了。如果这个情况发生了，那么这个神经元的梯度就永远都会是0。实际操作中，如果你的learning rate 很大，那么很有可能你网络中的40%的神经元都”dead”了。 当然，如果你设置了一个合适的较小的learning rate，这个问题发生的情况其实也不会太频繁。"
   ]
  },
  {
   "cell_type": "markdown",
   "id": "a2e9a24a-29e6-4337-8e1c-8a4d4909faff",
   "metadata": {},
   "source": [
    "## Sigmoid\n",
    "$Sigmoid激活函数 f(x) = \\frac {e^x}{1+e^x}$  \n",
    "$ X^{[l]} = f(Z^{[l]}) =  \\frac {e^{Z{[l]}}}{1+e^{Z{[l]}}}, Z^{[l]} = W^{[l]}X^{[l-1]} + b^{[l]}$\n",
    "$\\frac {\\partial X^{[l]}}{\\partial Z ^{[l]}} = f(Z ^{[l]})(1-f(Z ^{[l]}))$\n",
    "\n",
    "$e^x, \\frac {1}{1+e^x} 计算量比较大，幂次计算，除法$  \n",
    "<img src=\"./data/img/d_sigmoid.webp\">   \n",
    "\n",
    "### Sigmoid 缺点\n",
    " * 第一，采用sigmoid等函数，算激活函数时（指数运算），计算量大，反向传播求误差梯度时，求导涉及除法，计算量相对大，而采用Relu激活函数，整个过程的计算量节省很多。  \n",
    " * 第二，对于深层网络，sigmoid函数反向传播时，很容易就会出现 梯度消失 的情况（在sigmoid接近饱和区时，变换太缓慢，导数趋于0，这种情况会造成信息丢失），从而无法完成深层网络的训练。   \n",
    " * 第三，ReLu会使一部分神经元的输出为0，这样就造成了 网络的稀疏性，并且减少了参数的相互依存关系，缓解了过拟合问题的发生。\n",
    "\n",
    "### Sigmoid 优点\n",
    "1. 全程可导\n",
    "2. [0,1] 尤其是输出层的表达上有优势。\n"
   ]
  },
  {
   "cell_type": "markdown",
   "id": "232b08a7-f74a-4b75-bd12-f814c81a4314",
   "metadata": {},
   "source": [
    "## tanH\n",
    "$tanh激活函数 ，tanh(x) = \\frac {\\sin hx}{\\cos hx} = \\frac {e^x - e^{-x}} {e^x + e^{-x}}$  \n",
    "$tanh^{'}(x) =  \\frac {e^x + e^{-x}} {e^x + e^{-x}} - \\frac {(e^x - e^{-x})^2} {(e^x + e^{-x})^2} = 1 - tanh^{2}(x)$ \n",
    "\n",
    "跟sigmoid 损失函数比较像"
   ]
  },
  {
   "cell_type": "markdown",
   "id": "96ee3fe9-cd6e-4660-b31f-9b6233d331ae",
   "metadata": {},
   "source": [
    "## PReLU and Dice\n",
    "\n",
    "<img src=\"./data/img/activation_prelu_dice.webp\">"
   ]
  },
  {
   "cell_type": "code",
   "execution_count": null,
   "id": "a47ccfaf-12b2-42fa-b805-a94454d86b67",
   "metadata": {},
   "outputs": [],
   "source": []
  }
 ],
 "metadata": {
  "kernelspec": {
   "display_name": "Python 3 (ipykernel)",
   "language": "python",
   "name": "python3"
  },
  "language_info": {
   "codemirror_mode": {
    "name": "ipython",
    "version": 3
   },
   "file_extension": ".py",
   "mimetype": "text/x-python",
   "name": "python",
   "nbconvert_exporter": "python",
   "pygments_lexer": "ipython3",
   "version": "3.8.2"
  }
 },
 "nbformat": 4,
 "nbformat_minor": 5
}
