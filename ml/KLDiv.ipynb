{
 "cells": [
  {
   "cell_type": "markdown",
   "id": "70eb260d-6e1b-43cb-b67c-7cf722a6b3e8",
   "metadata": {},
   "source": [
    "<img src=\"./data/img/kl.webp\">\n",
    "\n",
    "左侧就是常见的交叉熵，而右侧是我们刚刚讲过的信息熵，注意根据表达式P||Q的位置不能交换，P在前表示该相对熵是以P为基准，去考虑PQ两个分布之间相差多少。\n",
    "\n",
    "KL散度的一些结论下：\n",
    "\n",
    "以P为基准，则右侧P的信息熵是一个恒定的值，则表示PQ两个分布的距离主要由左侧交叉熵来决定。\n",
    "如果左侧交叉熵能够大于右侧或者小于右侧（满足其一），那么KL散度便是一个单调的量，可以单独用交叉熵来表示。\n",
    "\n",
    "吉布斯不等式证明了左侧一定大于右侧。\n",
    "因此我们可以只使用交叉熵来衡量两个分布之间的差距。回到神经网络的损失函数上，回顾一下前面提到，神经网络的损失函数是衡量的是模型的预测值与真实值的误差，这实际也是衡量真实的模型分布与神经网络所表示的模型分布两个分布之间的差距。"
   ]
  },
  {
   "cell_type": "code",
   "execution_count": null,
   "id": "41c4da52-268d-4d30-864d-17615144d929",
   "metadata": {},
   "outputs": [],
   "source": []
  }
 ],
 "metadata": {
  "kernelspec": {
   "display_name": "Python 3 (ipykernel)",
   "language": "python",
   "name": "python3"
  },
  "language_info": {
   "codemirror_mode": {
    "name": "ipython",
    "version": 3
   },
   "file_extension": ".py",
   "mimetype": "text/x-python",
   "name": "python",
   "nbconvert_exporter": "python",
   "pygments_lexer": "ipython3",
   "version": "3.8.2"
  }
 },
 "nbformat": 4,
 "nbformat_minor": 5
}
