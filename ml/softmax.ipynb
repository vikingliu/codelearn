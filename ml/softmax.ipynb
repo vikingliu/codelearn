{
 "cells": [
  {
   "cell_type": "markdown",
   "id": "9ce40c4a-cef3-46d7-8e97-5183289e2991",
   "metadata": {},
   "source": [
    "### $p_i = softmax(z_i) = \\frac {e^{z_i}} {\\sum _c{e ^ {z_c}}}$\n",
    "### $P = [p_0, p_1,...,p_C], Z = [z_0, z_1, ..., z_C], P = softmax(Z), Y=[y_0, y_1, ...., y_C] 真实label$\n",
    "### $p = sigmoid(z) = \\frac {e^z} {1 + e^z} $  sigmoid（二分类） 是softmax（多分类）的特殊形式\n"
   ]
  },
  {
   "cell_type": "code",
   "execution_count": 17,
   "id": "c15f93c7-29c7-44a1-ab7d-712d84f462cd",
   "metadata": {},
   "outputs": [
    {
     "name": "stdout",
     "output_type": "stream",
     "text": [
      "[0.011656230956039609, 0.08612854443626872, 0.6364086465588309, 0.031684920796124276, 0.23412165725273665]\n"
     ]
    }
   ],
   "source": [
    "# coding=utf-8\n",
    "import math\n",
    "def softmax(zi, X):\n",
    "    return math.exp(zi) / sum([math.exp(zc) for zc in X])\n",
    "\n",
    "def Softmax(X, normalize=True):\n",
    "    M = max(X) if normalize else 0\n",
    "    total = sum([math.exp(zc - M) for zc in X])\n",
    "    rst = []\n",
    "    for z in X:\n",
    "        rst.append(math.exp(z - M) / total)\n",
    "    return rst\n",
    "    \n",
    "X = [1,3,5,2,4]\n",
    "print(Softmax(X, False))"
   ]
  },
  {
   "cell_type": "markdown",
   "id": "02d707c7-1732-40a3-9acf-34582095d1b4",
   "metadata": {},
   "source": [
    "## softmax 求偏导\n",
    "\n",
    "----\n",
    "#### 当 i = j\n",
    "#### $\\frac {\\partial p_i} {\\partial z_i} = \\frac {\\partial {\\left ({\\frac {e^{z_i}} {\\sum _c{e ^ {z_c}}}}\\right)}} {\\partial z_i}$ = $\\frac{e^{z_i}\\left( {\\sum _c{e ^ {z_c}} - e^{z_i}}\\right)}{ \\left({\\sum _c{e ^ {z_c}}}\\right)^2}$ = $\\frac {e^{z_i}} {\\sum _c{e ^ {z_c}}}  * \\frac {\\sum _c{e ^ {z_c}} - e^{z_i}} {\\sum _c{e ^ {z_c}}} $ = $\\frac {e^{z_i}} {\\sum _c{e ^ {z_c}}}  * \\left(1 - {\\frac {e^{z_i}} {\\sum _c{e ^ {z_c}}}} \\right) $ = $p_i * (1 - p_i)$\n",
    "-----\n",
    "#### 当 $i \\neq  j$\n",
    "#### $\\frac {\\partial p_i} {\\partial z_j} = \\frac {\\partial {\\left ({\\frac {e^{z_i}} {\\sum _c{e ^ {z_c}}}}\\right)}} {\\partial z_j}$ = $-\\frac{e^{z_i}*e^{z_j}}{\\sum _c{e ^ {z_c}}}$ = $-{\\frac {e^{z_i}} {\\sum _c{e ^ {z_c}}}}* {\\frac {e^{z_j}} {\\sum _c{e ^ {z_c}}}}$ = $-p_i * p_j$\n",
    "-----\n",
    "$\n",
    "\\frac {\\partial p_i} {\\partial z_j} = \\begin{cases}\n",
    "p_i * (1 - p_i), & \\text{i = j}   \\\\\n",
    "-p_i * p_j, & \\text{i $\\neq$ j}\n",
    "\\end{cases}\n",
    "$"
   ]
  },
  {
   "cell_type": "code",
   "execution_count": 27,
   "id": "d07ccfbd-78ab-48f3-ac28-2d7155f3d59d",
   "metadata": {},
   "outputs": [
    {
     "name": "stdout",
     "output_type": "stream",
     "text": [
      "-8.673617379884035e-19\n"
     ]
    }
   ],
   "source": [
    "# dyi/dxj = yi(1-yi)  i==j\n",
    "# dyi/dxj = -yiyj    i!=j\n",
    "def softmax_dx(X, i=0):\n",
    "    dx = 0\n",
    "    pi = softmax(X[i], X)\n",
    "    for j in range(len(X)):\n",
    "        if i == j:\n",
    "            dx += pi * (1 - pi)\n",
    "        if i != j:\n",
    "            pj = softmax(X[j], X)\n",
    "            dx -=  pi * pj\n",
    "    return dx\n",
    "X = [1,3,5,2,4]\n",
    "print(softmax_dx(X, 0))"
   ]
  },
  {
   "cell_type": "markdown",
   "id": "9f7feb4b-e542-486f-a046-df1dfc198fec",
   "metadata": {},
   "source": [
    "### Softmax 损失函数(交叉熵）\n",
    "### $ p_i 是预测值[0,1] 概率，y_i 是真实label， y_i ∈ \\{0,1\\}$\n",
    "### 极大释然估计(模型已定，参数未知）\n",
    "### $\\theta 表示模型参数 , D = \\{x_1,x_2,x_3....x_n\\} 表示样本集合$\n",
    "### $l(\\theta) = p(D|\\theta) = \\Pi_i^N p(x_i|\\theta)  = \\Pi_i^N\\Pi_c^C p_{ic}^{y_{ic}}$\n",
    "### 如果是二分类 $ p(x_i|\\theta) = \\Pi_c^C p_{ic}^{y_{ic}} = p_i^{y_i} * (1-p_i)^{1-y_i}$\n",
    "### $ \\hat \\theta = \\underset{\\theta}{\\operatorname{argmax}} H(\\theta) = \\underset{\\theta}{\\operatorname{argmax}}\\, \\log \\,l(\\theta) = \\sum _i^N \\sum_c^C \\log p_{ic}^{y_{ic}} = \\sum _i^N \\sum_c^C y_{ic} \\log p_{ic}  $\n",
    "### $ L = -\\sum_i^N \\sum_c^C{y_{ic}}{\\log p_{ic}} = -\\sum_i^N \\sum_c^C {y_{ic}}(z_{ic} - \\log\\sum_c e^{ic}), 交叉熵 = 极大释然求最小值 $ \n",
    "### 只考虑一个样本的情况， $Z = [z_1, z_2...z_C]$\n",
    "### $ \\frac {\\partial L} {\\partial z_i} = -\\sum_c^C{y_c}\\frac {\\partial {\\log p_c} }{\\partial z_i} =  -\\sum_c^C{y_c}\\frac {\\partial {\\log p_c} }{\\partial p_c}\\frac {\\partial  p_c}{\\partial z_i} = -\\sum_c^C{y_c} \\frac {1}{p_c} \\frac {\\partial  p_c}{\\partial z_i} $\n",
    "\n",
    "### $\\frac {\\partial  p_c}{\\partial z_i} 就是softmax求导的结果$\n",
    "$\n",
    "\\frac {\\partial p_i} {\\partial z_j} = \\begin{cases}\n",
    "p_i * (1 - p_i), & \\text{i = j}   \\\\\n",
    "-p_i * p_j, & \\text{i $\\neq$ j}\n",
    "\\end{cases}\n",
    "$\n",
    "\n",
    "### $ \\frac {\\partial L} {\\partial z_i} =  \\left (-y_i* \\frac {1}{p_i} \\right ) * p_i (1-p_i) - \\sum_{c \\neq i} y_c* \\frac {1}{p_c} * (-p_i*p_c) = -y_i*(1-p_i) + \\sum_{c \\neq i} y_c * p_i $\n",
    "### $= p_i \\left ( y_i + \\sum_{c\\neq i} y_c \\right) - y_i = p_i \\sum_c y_c - y_i = p_i - y_i$\n",
    "$\\sum_c y_c  = 1$\n",
    "\n",
    "### $ \\frac {\\partial L} {\\partial Z} = P - Y$\n",
    "\n",
    "<img src=\"./data/img/softmax_loss.webp\">"
   ]
  },
  {
   "cell_type": "code",
   "execution_count": 41,
   "id": "73e67ce7-3dff-43ed-822b-155cfa24a7b0",
   "metadata": {},
   "outputs": [
    {
     "ename": "TypeError",
     "evalue": "unsupported operand type(s) for -: 'list' and 'list'",
     "output_type": "error",
     "traceback": [
      "\u001b[0;31m---------------------------------------------------------------------------\u001b[0m",
      "\u001b[0;31mTypeError\u001b[0m                                 Traceback (most recent call last)",
      "Cell \u001b[0;32mIn[41], line 25\u001b[0m\n\u001b[1;32m     16\u001b[0m learningrate \u001b[38;5;241m=\u001b[39m \u001b[38;5;241m0.0001\u001b[39m\n\u001b[1;32m     18\u001b[0m \u001b[38;5;66;03m# softmax(z) = [p1,p2,33]\u001b[39;00m\n\u001b[1;32m     19\u001b[0m \u001b[38;5;66;03m# label Y= [y1,y2,y3]\u001b[39;00m\n\u001b[1;32m     20\u001b[0m \u001b[38;5;66;03m# Z = σ(WX + b)\u001b[39;00m\n\u001b[1;32m     21\u001b[0m \u001b[38;5;66;03m# δL/δw = δL/δz * δz/δw = x * δL/δz\u001b[39;00m\n\u001b[1;32m     22\u001b[0m \u001b[38;5;66;03m# δL/δb = δL/δz * δz/δb = δL/δz\u001b[39;00m\n\u001b[1;32m     23\u001b[0m \u001b[38;5;66;03m# 新的梯度 δL/δX = δL/δz * δz/δX = W * δL/δz\u001b[39;00m\n\u001b[0;32m---> 25\u001b[0m Grad \u001b[38;5;241m=\u001b[39m \u001b[43mP\u001b[49m\u001b[43m \u001b[49m\u001b[38;5;241;43m-\u001b[39;49m\u001b[43m \u001b[49m\u001b[43mY\u001b[49m\n\u001b[1;32m     26\u001b[0m W \u001b[38;5;241m-\u001b[39m\u001b[38;5;241m=\u001b[39m learningrate \u001b[38;5;241m*\u001b[39m Grad \u001b[38;5;241m*\u001b[39m X\n\u001b[1;32m     27\u001b[0m b \u001b[38;5;241m-\u001b[39m\u001b[38;5;241m=\u001b[39m learningrate \u001b[38;5;241m*\u001b[39m Grad\n",
      "\u001b[0;31mTypeError\u001b[0m: unsupported operand type(s) for -: 'list' and 'list'"
     ]
    }
   ],
   "source": [
    "# loss func  L = - ΣΣtki log(yki)\n",
    "# dL/dxi = dL/dyj * dyj/dxi = yi - xi\n",
    "def loss_dx(Y, P, i=0):\n",
    "    \"\"\"\n",
    "     loss_i = -Y[i] * (1 - P[i])\n",
    "     for c in range(len(Y)):\n",
    "         if c != i:\n",
    "            loss_i += Y[c] * P[i]\n",
    "    \"\"\"\n",
    "    return P[i] - Y[i]\n",
    "X = [1, 3, 5]\n",
    "W = [4, -4, 3]\n",
    "b = [4, -4, 3]\n",
    "P = [0.7308, 0.0003, 0.2689]\n",
    "Y = [0, 0, 1]\n",
    "learningrate = 0.0001\n",
    "\n",
    "# softmax(z) = [p1,p2,33]\n",
    "# label Y= [y1,y2,y3]\n",
    "# Z = σ(WX + b)\n",
    "# δL/δw = δL/δz * δz/δw = x * δL/δz\n",
    "# δL/δb = δL/δz * δz/δb = δL/δz\n",
    "# 新的梯度 δL/δX = δL/δz * δz/δX = W * δL/δz\n",
    "\n",
    "Gradient = P - Y\n",
    "W -= learningrate * Grad * X\n",
    "b -= learningrate * Grad\n",
    "\n",
    "for i in range(len(Y)):\n",
    "    grad = loss_dx(Y, P, i)\n",
    "    W[i] -= learningrate * grad * X[i]\n",
    "    B[i] -= learningrate * grad\n",
    "\n"
   ]
  },
  {
   "cell_type": "code",
   "execution_count": null,
   "id": "ef3575df-41d4-434e-b2a7-89846963939b",
   "metadata": {},
   "outputs": [],
   "source": []
  }
 ],
 "metadata": {
  "kernelspec": {
   "display_name": "Python 3 (ipykernel)",
   "language": "python",
   "name": "python3"
  },
  "language_info": {
   "codemirror_mode": {
    "name": "ipython",
    "version": 3
   },
   "file_extension": ".py",
   "mimetype": "text/x-python",
   "name": "python",
   "nbconvert_exporter": "python",
   "pygments_lexer": "ipython3",
   "version": "3.8.2"
  }
 },
 "nbformat": 4,
 "nbformat_minor": 5
}
