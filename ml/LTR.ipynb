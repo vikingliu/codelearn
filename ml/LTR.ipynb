{
 "cells": [
  {
   "cell_type": "markdown",
   "id": "04a486c4-7407-4d13-b1ec-f969d3a5ac81",
   "metadata": {},
   "source": [
    "pointwise常用算法\n",
    "--\n",
    "\n",
    "Classification\n",
    "+ Discriminative model for IR (SIGIR 2004)\n",
    "+ McRank (NIPS 2007)\n",
    "\n",
    "Regression\n",
    "+ Least Square Retrieval Function (TOIS 1989)\n",
    "+ Regression Tree for Ordinal Class Prediction (Fundamenta Informaticae, 2000)\n",
    " + Subset Ranking using Regression (COLT 2006)\n",
    " \n",
    "Ordinal Classification\n",
    "+ Ranking with Large Margin Principles (NIPS 2002)\n",
    "+ Constraint Ordinal Regression (ICML 2005)\n",
    "\n",
    "Pairwise常用算法:\n",
    "--\n",
    "\n",
    "+ Learning to Retrieve Information (SCC 1995)\n",
    "+ Learning to Order Things (NIPS 1998)\n",
    "+ Ranking SVM (ICANN 1999)\n",
    "+ RankBoost (JMLR 2003)\n",
    "+ LDM (SIGIR 2005)\n",
    "+ RankNet (ICML 2005)\n",
    "+ Frank (SIGIR 2007)\n",
    "+ MHR(SIGIR 2007)\n",
    "+ GBRank (SIGIR 2007)\n",
    "+ QBRank (NIPS 2007)\n",
    "+ MPRank (ICML 2007)\n",
    "+ IRSVM (SIGIR 2006)\n",
    "+ LambdaRank (NIPS 2006)\n",
    "+ LambdaMART (inf.retr 2010)\n",
    "\n",
    "\n",
    "Listwise常用算法:\n",
    "--\n",
    "\n",
    "+ Measure-specific\n",
    "+ AdaRank (SIGIR 2007)\n",
    "+ SVM-MAP (SIGIR 2007)\n",
    "+ SoftRank (LR4IR 2007)\n",
    "+ RankGP (LR4IR 2007)\n",
    "+ LambdaMART (inf.retr 2010)（也可以做Listwise）\n",
    "+ Non-measure specific\n",
    "+ ListNet (ICML 2007)\n",
    "+ ListMLE (ICML 2008)\n",
    "+ BoltzRank (ICML 2009)"
   ]
  },
  {
   "cell_type": "markdown",
   "id": "235d3757-a302-4133-9e8b-533746fa797b",
   "metadata": {},
   "source": [
    "L2R 评价指标主要有 NDCG、MAP、WTA、MRR \n",
    "![alt \"ltr\"](./data/img/ltr.png)"
   ]
  },
  {
   "cell_type": "code",
   "execution_count": null,
   "id": "e16cccea-ab85-4fb9-92bd-b3d0ca341cfd",
   "metadata": {},
   "outputs": [],
   "source": []
  }
 ],
 "metadata": {
  "kernelspec": {
   "display_name": "Python 3 (ipykernel)",
   "language": "python",
   "name": "python3"
  },
  "language_info": {
   "codemirror_mode": {
    "name": "ipython",
    "version": 3
   },
   "file_extension": ".py",
   "mimetype": "text/x-python",
   "name": "python",
   "nbconvert_exporter": "python",
   "pygments_lexer": "ipython3",
   "version": "3.8.2"
  }
 },
 "nbformat": 4,
 "nbformat_minor": 5
}
