{
 "cells": [
  {
   "cell_type": "markdown",
   "id": "6733ec8a-2b1d-4136-b8a1-de83c38e6b9a",
   "metadata": {},
   "source": [
    "## GBDT\n",
    "GBDT（Gradient Boosting Decision Tree），全名叫梯度提升决策树，是一种迭代的决策树算法，又叫 MART（Multiple Additive Regression Tree），它通过构造一组弱的学习器（树），并把多颗决策树的结果累加起来作为最终的预测输出。该算法将决策树与集成思想进行了有效的结合。\n",
    "\n",
    "\n",
    "## GBDT与负梯度近似残差\n",
    "回归任务下，此时的损失函数为均方差损失函数：\n",
    "$$L(y_i, \\hat y_i) = \\frac{1}{2} (y_i - \\hat y_i) ^ 2$$\n",
    "\n",
    "损失函数的负梯度计算如下：\n",
    "$$-\\frac{\\partial L}{\\partial \\hat y_i} = y_i - \\hat y_i$$\n",
    "\n",
    "可以看出，当损失函数选用「均方误差损失」时，每一次拟合的值就是（真实值-预测值），即残差\n",
    "\n",
    "分类任务下，此时的损失函数为交叉熵损失函数：\n",
    "$$L(y_i, \\hat y_i) = y_i\\ln(1 + e^{-\\hat y_i}) + (1 - y_i)\\ln(1 + e^{\\hat y_i})$$\n",
    "\n",
    "损失函数的负梯度计算如下：\n",
    "\n",
    "$$-\\frac{\\partial L}{\\partial \\hat y_i} = sigmoid(\\hat y_i) -  y_i$$\n",
    "\n",
    "如果是多分类， sigmoid -> softmax\n"
   ]
  },
  {
   "cell_type": "markdown",
   "id": "97dea0ff-e6d9-493f-a907-cb81754cf970",
   "metadata": {},
   "source": [
    "## 梯度提升 vs 梯度下降\n",
    "\n",
    "下面我们来对比一下「梯度提升」与「梯度下降」。这两种迭代优化算法，都是在每1轮迭代中，利用损失函数负梯度方向的信息，更新当前模型，只不过：\n",
    "\n",
    "梯度下降中，模型是以参数化形式表示，从而模型的更新等价于参数的更新。\n",
    "梯度提升中，模型并不需要进行参数化表示，而是直接定义在函数空间中，从而大大扩展了可以使用的模型种类\n",
    "\n",
    "<img src=\"../data/img/gbdt_vs.png\" style=\"zoom:40%\">"
   ]
  },
  {
   "cell_type": "markdown",
   "id": "8635b57b-f2e2-4642-9849-b7d9a7fefe88",
   "metadata": {},
   "source": [
    "## GBDT优缺点\n",
    "\n",
    "### 1）优点\n",
    "- 预测阶段，因为每棵树的结构都已确定，可并行化计算，计算速度快。\n",
    "- 适用稠密数据，泛化能力和表达能力都不错，数据科学竞赛榜首常见模型。\n",
    "- 可解释性不错，鲁棒性亦可，能够自动发现特征间的高阶关系。\n",
    "### 2）缺点\n",
    "- GBDT 在高维稀疏的数据集上，效率较差，且效果表现不如 SVM 或神经网络。\n",
    "- 适合数值型特征，在 NLP 或文本特征上表现弱。\n",
    "- 训练过程无法并行，工程加速只能体现在单颗树构建过程中。"
   ]
  },
  {
   "cell_type": "code",
   "execution_count": null,
   "id": "c9a6952a-f601-4348-8f4d-2737b6bfeb61",
   "metadata": {},
   "outputs": [],
   "source": []
  }
 ],
 "metadata": {
  "kernelspec": {
   "display_name": "Python 3 (ipykernel)",
   "language": "python",
   "name": "python3"
  },
  "language_info": {
   "codemirror_mode": {
    "name": "ipython",
    "version": 3
   },
   "file_extension": ".py",
   "mimetype": "text/x-python",
   "name": "python",
   "nbconvert_exporter": "python",
   "pygments_lexer": "ipython3",
   "version": "3.8.2"
  }
 },
 "nbformat": 4,
 "nbformat_minor": 5
}
