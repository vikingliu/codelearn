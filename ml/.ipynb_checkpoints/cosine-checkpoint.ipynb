{
 "cells": [
  {
   "cell_type": "markdown",
   "id": "cd6e64b5-03d8-47f6-b463-2537d55454cf",
   "metadata": {},
   "source": [
    "<img src=\"./data/img/cosine\" style=\"zoom:50%\"/>\n",
    "\n",
    "$定义 c = a - b$   \n",
    "$c^2 = (a-b)\\cdot (a-b)=a^2 + b^2 -2a\\cdot b$   \n",
    "$三角形余弦定理 c^2 = a^2 + b^2 - 2|a||b|\\cos\\theta $   \n",
    "\n",
    "$\n",
    " a\\cdot b = |a||b|cos\\theta => cos\\theta = \\frac {a\\cdot b}{|a||b|}\n",
    "$\n",
    "\n",
    "$\n",
    " cosine(v, w) = \\frac {v \\cdot w}{|v||w|} = \\frac {\\sum_i^N v_i*w_i}{\\sqrt{\\sum_i^N v_i^2} \\sqrt{\\sum_i^N w_i^2}}\n",
    "$"
   ]
  },
  {
   "cell_type": "code",
   "execution_count": 3,
   "id": "65799338-429e-4e62-95de-a0f4911deea2",
   "metadata": {},
   "outputs": [
    {
     "name": "stdout",
     "output_type": "stream",
     "text": [
      "0.6236095644623236\n"
     ]
    }
   ],
   "source": [
    "import math\n",
    "def cosine(v, w):\n",
    "    N = len(v)\n",
    "    M = len(w)\n",
    "    if N != M:\n",
    "        return -1\n",
    "    v_w = 0\n",
    "    v2 = 0\n",
    "    w2 = 0\n",
    "    for i in range(N):\n",
    "        v_w += v[i]*w[i]\n",
    "        v2 += v[i]*v[i]\n",
    "        w2 += w[i]*w[i]\n",
    "    cos = v_w / (math.sqrt(v2) * math.sqrt(w2))\n",
    "    return cos\n",
    "v = [1,2,4]\n",
    "w = [1,-1,2]\n",
    "print(cosine(v, w))"
   ]
  },
  {
   "cell_type": "markdown",
   "id": "d0adee20-4ccd-458e-a961-f582d8142d08",
   "metadata": {},
   "source": [
    "$J = cosine(v, w) = \\frac {v \\cdot w}{|v||w|}$   \n",
    "$\\frac {\\partial J}{\\partial v_i} = \\frac {w_i}{|v||w|} - \\frac {v_i * v\\cdot w}{|v|^3|w|}$   \n",
    "$\\frac {\\partial J}{\\partial v} =  \\frac {w}{|v||w|} - \\frac {v * v\\cdot w}{|v|^3|w|}$  \n",
    "$\\frac {\\partial J}{\\partial w} =  \\frac {v}{|v||w|} - \\frac {w * v\\cdot w}{|v||w|^3}$  "
   ]
  },
  {
   "cell_type": "code",
   "execution_count": null,
   "id": "597bc93e-b039-496c-b6bf-672147d31c53",
   "metadata": {},
   "outputs": [],
   "source": []
  }
 ],
 "metadata": {
  "kernelspec": {
   "display_name": "Python 3 (ipykernel)",
   "language": "python",
   "name": "python3"
  },
  "language_info": {
   "codemirror_mode": {
    "name": "ipython",
    "version": 3
   },
   "file_extension": ".py",
   "mimetype": "text/x-python",
   "name": "python",
   "nbconvert_exporter": "python",
   "pygments_lexer": "ipython3",
   "version": "3.8.2"
  }
 },
 "nbformat": 4,
 "nbformat_minor": 5
}
