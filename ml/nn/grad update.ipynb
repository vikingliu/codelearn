{
 "cells": [
  {
   "cell_type": "markdown",
   "id": "bb6ed5e3-ee03-4c6d-9032-3f1f0e1a2057",
   "metadata": {},
   "source": [
    "## 第一轮参数更新\n",
    "### $X^{[l]} =\\sigma(Z^{[l]}) , Z^{[l]} = W^{[l]}X^{[l-1]} + b^{[l]}， \\sigma是激活函数，ReLU，tanH，sigmod等$\n",
    "### $J^{[l+1]} 表示 l+1 层的损失函数， 最小化J^{[l+1]}，求梯度 \\frac {\\partial J^{[l+1]}}{\\partial X^{[l]}} $ \n",
    "### $X^{[l]^*} = X^{[l]}  - \\eta \\frac {\\partial J^{[l+1]}}{\\partial X^{[l]}}, 对W^{[l]}, X^{[l-1]}, b^{[l]}分别求偏导更新参数$\n",
    "### $W^{[l]*} = W^{[l]} - \\eta * \\frac {\\partial J^{[l+1]}}{\\partial W^{[l]}} = W^{[l]} - \\eta *  \\frac {\\partial J^{[l+1]}}{\\partial X^{[l]}} \\frac {\\partial X^{[l]}}{\\partial Z^{[l]}} \\frac{\\partial Z^{[l]}} {\\partial W^{[l]} } = W^{[l]} - \\eta *  \\frac {\\partial J^{[l+1]}}{\\partial X^{[l]}} \\frac {\\partial X^{[l]}} {\\partial Z^{[l]}} * X^{[l-1]}$  \n",
    "### $b^{[l]*}  = b^{[l]} - \\eta * \\frac {\\partial J^{[l+1]}}{\\partial b^{[l]} } = b^{[l]} - \\eta *  \\frac {\\partial J^{[l+1]}}{\\partial X^{[l]}} \\frac {\\partial X^{[l]}}{\\partial Z^{[l]}}  $\n",
    "\n",
    "### $X^{[l-1]^*} =  X^{[l-1]} - \\frac {\\partial J^{[l+1]}}{\\partial X^{[l-1]}} =  X^{[l-1]} - \\frac {\\partial J^{[l+1]}}{\\partial X^{[l]}} \\frac {\\partial X^{[l]}}{\\partial Z^{[l]}}\\frac {\\partial Z^{[l]}}{\\partial X^{[l-1]}} =  X^{[l-1]} -  \\frac {\\partial J^{[l+1]}}{\\partial X^{[l]}} \\frac {\\partial X^{[l]}}{\\partial Z^{[l]}} * W^{[l]}$\n",
    "\n",
    "### $X^{[l-1]^*} 是l-1层的输出，不能直接更新，通过l层的损失函数的梯度更新 W^{[l-1]}, b^{[l-1]}$\n",
    "### $J^{[l]} = \\frac {1}{2} (X^{[l-1]} - X^{[l-1]^*})^2 表示 l层的损失函数，最小化 J^{[l]}, 求梯度  \\frac {\\partial J^{[l]}}{\\partial X^{[l-1]}} = X^{[l-1]} - X^{[l-1]^*} = \\frac {\\partial J^{[l+1]}}{\\partial X^{[l]}} \\frac {\\partial X^{[l]}}{\\partial Z ^{[l]}} * W^{[l]} $ \n",
    "\n",
    "\n",
    "### $如果最后一层是softmax, 那么P=softmax(X)，交叉熵损失函数的梯度  \\frac {\\partial J^{[l+1]}}{\\partial X^{[l]}} = P - Y$\n",
    "\n",
    "\n",
    "$\n",
    "假设\\sigma = ReLU ，f(x) = \\begin{cases}\n",
    "x, & \\text{x > 0}   \\\\\n",
    "0, & \\text{x ≤ 0}\n",
    "\\end{cases}\n",
    "$ ,\n",
    "$\n",
    "\\frac {\\partial X^{[l]}}{\\partial Z ^{[l]}} = \\begin{cases}\n",
    "1, & {Z ^{[l]} > 0}   \\\\\n",
    "0, & {Z ^{[l]} ≤ 0}\n",
    "\\end{cases}\n",
    "$\n",
    "\n",
    "\n",
    "\n",
    "----\n",
    "## 第二轮参数更新\n",
    "### $X^{[l-1]} = \\sigma(Z^{[l-1]}), Z^{[l-1]} = W^{[l-1]}X^{[l-2]} + b^{[l-1]}$  \n",
    "### $W^{[l-1]*} = W^{[l-1]} - \\eta * \\frac {\\partial J^{[l]}}{\\partial W^{[l-1]}} = W^{[l-1]} - \\eta *  \\frac {\\partial J^{[l]}}{\\partial X^{[l-1]}} \\frac {\\partial X^{[l-1]}}{\\partial Z ^{[l-1]}} \\frac {\\partial Z^{[l-1]}} {\\partial W^{[l-1]} } = W^{[l-1]} - \\eta *  \\frac {\\partial J^{[l]}}{\\partial X^{[l-1]}} \\frac {\\partial X^{[l-1]}}{\\partial Z ^{[l-1]}} * X^{[l-2]}$  \n",
    "### $b^{[l-1]*}  = b^{[l-1]} - \\eta * \\frac {\\partial J^{[l]}}{\\partial b^{[l-1]} } = b^{[l-1]} - \\eta *  \\frac {\\partial J^{[l]}}{\\partial X^{[l-1]}} \\frac {\\partial X^{[l-1]}}{\\partial Z ^{[l-1]}}$\n",
    "\n",
    "### $X^{[l-2]^*} =  X^{[l-2]} - \\frac {\\partial J^{[l]}}{\\partial X^{[l-2]}} =  X^{[l-2]} - \\frac {\\partial J^{[l]}}{\\partial X^{[l-1]}} \\frac {\\partial X^{[l-1]}}{\\partial Z ^{[l-1]}} \\frac {\\partial Z ^{[l-1]}} {\\partial X^{[l-2]}} =  X^{[l-2]} -  \\frac {\\partial J^{[l]}}{\\partial X^{[l-1]}} \\frac {\\partial X^{[l-1]}}{\\partial Z ^{[l-1]}} * W^{[l-1]}$\n",
    "\n",
    "### $J^{[l-1]} = \\frac {1}{2} (X^{[l-2]} - X^{[l-2]^*})^2 表示 l-1层的损失函数，最小化 J^{[l-1]}, 求梯度  \\frac {\\partial J^{[l-1]}}{\\partial X^{[l-2]}} = X^{[l-2]} - X^{[l-2]^*} = \\frac {\\partial J^{[l]}}{\\partial X^{[l-1]}} \\frac {\\partial X^{[l-1]}}{\\partial Z ^{[l-1]}} * W^{[l-1]} $ \n",
    "\n",
    "----\n",
    "\n",
    "### 第i轮参数更新\n",
    "\n",
    "### $X^{[l-i]} = \\sigma (Z^{[l-i]}), Z^{[l-i]}=W^{[l-i]}X^{[l-i-1]} + b^{[l-i]}$  \n",
    "### $W^{[l-i]*} = W^{[l-i]} - \\eta * \\frac {\\partial J^{[l-i+1]}}{\\partial W^{[l-i]}} = W^{[l-i]} - \\eta *  \\frac {\\partial J^{[l-i+1]}}{\\partial X^{[l-i]}} \\frac {\\partial X^{[l-i]}}{\\partial Z ^{[l-i]}} \\frac {\\partial Z^{[l-i]}} {\\partial W^{[l-i]} } = W^{[l-i]} - \\eta *  \\frac {\\partial J^{[l-i+1]}}{\\partial X^{[l-i]}} \\frac {\\partial X^{[l-i]}}{\\partial Z ^{[l-i]}} * X^{[l-i-1]}$  \n",
    "### $b^{[l-i]*}  = b^{[l-i]} - \\eta * \\frac {\\partial J^{[l-i+1]}}{\\partial b^{[l-i]} } = b^{[l-i]} - \\eta *  \\frac {\\partial J^{[l-i+1]}}{\\partial X^{[l-i]}} \\frac {\\partial X^{[l-i]}}{\\partial Z ^{[l-i]}}$\n",
    "\n",
    "### $X^{[l-i-1]^*} =  X^{[l-i-1]} - \\frac {\\partial J^{[l-i+1]}}{\\partial X^{[l-i-1]}} =  X^{[l-i-1]} - \\frac {\\partial J^{[l-i+1]}}{\\partial X^{[l-i]}} \\frac {\\partial X^{[l-i]}}{\\partial Z ^{[l-i]}} \\frac {\\partial Z ^{[l-i]}} {\\partial X^{[l-i-1]}} =  X^{[l-i-1]} -  \\frac {\\partial J^{[l-i+1]}}{\\partial X^{[l-i]}} \\frac {\\partial X^{[l-i]}}{\\partial Z ^{[l-i]}} * W^{[l-i]}$\n",
    "\n",
    "### $J^{[l-i]} = \\frac {1}{2} (X^{[l-i-1]} - X^{[l-i-1]^*})^2 表示 l-1层的损失函数，最小化 J^{[l-i-1]}, 求梯度  \\frac {\\partial J^{[l-i-1]}}{\\partial X^{[l-i-1]}} = X^{[l-i-1]} - X^{[l-i-1]^*} = \\frac {\\partial J^{[l-i+1]}}{\\partial X^{[l-i]}} \\frac {\\partial X^{[l-i]}}{\\partial Z ^{[l-i]}} * W^{[l-i]} $ \n",
    "\n"
   ]
  },
  {
   "cell_type": "code",
   "execution_count": null,
   "id": "8a59e8a2-d4b2-45f3-9cca-e96715754d9d",
   "metadata": {},
   "outputs": [],
   "source": []
  }
 ],
 "metadata": {
  "kernelspec": {
   "display_name": "Python 3 (ipykernel)",
   "language": "python",
   "name": "python3"
  },
  "language_info": {
   "codemirror_mode": {
    "name": "ipython",
    "version": 3
   },
   "file_extension": ".py",
   "mimetype": "text/x-python",
   "name": "python",
   "nbconvert_exporter": "python",
   "pygments_lexer": "ipython3",
   "version": "3.8.2"
  }
 },
 "nbformat": 4,
 "nbformat_minor": 5
}
