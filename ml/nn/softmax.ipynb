{
 "cells": [
  {
   "cell_type": "markdown",
   "id": "9ce40c4a-cef3-46d7-8e97-5183289e2991",
   "metadata": {},
   "source": [
    "## $softmax(z_i) = \\frac {e^{z_i}} {\\sum _c{e ^ {z_c}}}$\n"
   ]
  },
  {
   "cell_type": "code",
   "execution_count": 17,
   "id": "c15f93c7-29c7-44a1-ab7d-712d84f462cd",
   "metadata": {},
   "outputs": [
    {
     "name": "stdout",
     "output_type": "stream",
     "text": [
      "[0.011656230956039609, 0.08612854443626872, 0.6364086465588309, 0.031684920796124276, 0.23412165725273665]\n"
     ]
    }
   ],
   "source": [
    "# coding=utf-8\n",
    "import math\n",
    "def softmax(zi, X):\n",
    "    return math.exp(zi) / sum([math.exp(zc) for zc in X])\n",
    "\n",
    "def Softmax(X, normalize=True):\n",
    "    M = max(X) if normalize else 0\n",
    "    total = sum([math.exp(zc - M) for zc in X])\n",
    "    rst = []\n",
    "    for z in X:\n",
    "        rst.append(math.exp(z - M) / total)\n",
    "    return rst\n",
    "    \n",
    "X = [1,3,5,2,4]\n",
    "print(Softmax(X, False))"
   ]
  },
  {
   "cell_type": "markdown",
   "id": "02d707c7-1732-40a3-9acf-34582095d1b4",
   "metadata": {},
   "source": [
    "## softmax 求导\n",
    "\n",
    "#### $p_i = y_i = softmax(z_i) = \\frac {e^{z_i}} {\\sum _c{e ^ {z_c}}} $ \n",
    "\n",
    "----\n",
    "#### 当 i = j\n",
    "#### $\\frac {\\partial y_i} {\\partial z_i} = \\frac {\\partial {\\left ({\\frac {e^{z_i}} {\\sum _c{e ^ {z_c}}}}\\right)}} {\\partial z_i}$ = $\\frac{e^{z_i}\\left( {\\sum _c{e ^ {z_c}} - e^{z_i}}\\right)}{ \\left({\\sum _c{e ^ {z_c}}}\\right)^2}$ = $\\frac {e^{z_i}} {\\sum _c{e ^ {z_c}}}  * \\frac {\\sum _c{e ^ {z_c}} - e^{z_i}} {\\sum _c{e ^ {z_c}}} $ = $\\frac {e^{z_i}} {\\sum _c{e ^ {z_c}}}  * \\left(1 - {\\frac {e^{z_i}} {\\sum _c{e ^ {z_c}}}} \\right) $ = $p_i * (1 - p_i)$\n",
    "-----\n",
    "#### 当 $i \\neq  j$\n",
    "#### $\\frac {\\partial y_i} {\\partial z_j} = \\frac {\\partial {\\left ({\\frac {e^{z_i}} {\\sum _c{e ^ {z_c}}}}\\right)}} {\\partial z_j}$ = $-\\frac{e^{z_i}*e^{z_j}}{\\sum _c{e ^ {z_c}}}$ = $-{\\frac {e^{z_i}} {\\sum _c{e ^ {z_c}}}}* {\\frac {e^{z_j}} {\\sum _c{e ^ {z_c}}}}$ = $-p_i * p_j$\n",
    "-----\n",
    "### \n",
    "$$\n",
    "\\frac {\\partial y_i} {\\partial z_j} = \\begin{cases}\n",
    "p_i * (1 - p_i), & \\text{i = j}   \\\\\n",
    "-p_i * p_j, & \\text{i $\\neq$ j}\n",
    "\\end{cases}\n",
    "$$"
   ]
  },
  {
   "cell_type": "code",
   "execution_count": 27,
   "id": "d07ccfbd-78ab-48f3-ac28-2d7155f3d59d",
   "metadata": {},
   "outputs": [
    {
     "name": "stdout",
     "output_type": "stream",
     "text": [
      "-8.673617379884035e-19\n"
     ]
    }
   ],
   "source": [
    "# dyi/dxj = yi(1-yi)  i==j\n",
    "# dyi/dxj = -yiyj    i!=j\n",
    "def softmax_dx(X, i=0):\n",
    "    dx = 0\n",
    "    pi = softmax(X[i], X)\n",
    "    for j in range(len(X)):\n",
    "        if i == j:\n",
    "            dx += pi * (1 - pi)\n",
    "        if i != j:\n",
    "            pj = softmax(X[j], X)\n",
    "            dx -=  pi * pj\n",
    "    return dx\n",
    "X = [1,3,5,2,4]\n",
    "print(softmax_dx(X, 0))"
   ]
  },
  {
   "cell_type": "markdown",
   "id": "9f7feb4b-e542-486f-a046-df1dfc198fec",
   "metadata": {},
   "source": [
    "### Softmax 损失函数(交叉熵）\n",
    "### $ loss_i = 1-p_i => \\log(1 - p_i) = - \\log p_i = -\\log(\\frac{e^{z_i}}{\\sum_c{e^{z_c}}}) = -(z_i - \\log \\sum_c{e^{z_c}})$\n",
    "### $ L = -\\sum_c{y_c}{\\log p_c},  y_c = 0  或者  y_c = 1 $ \n",
    "\n",
    "### $ \\frac {\\partial L} {\\partial z_i} = -\\sum_c{y_c}\\frac {\\partial {\\log p_c} }{\\partial z_i} =  -\\sum_c{y_c}\\frac {\\partial {\\log p_c} }{\\partial p_c}\\frac {\\partial  p_c}{\\partial z_i} = -\\sum_c{y_c} \\frac {1}{p_c} \\frac {\\partial  p_c}{\\partial z_i} $\n",
    "\n",
    "### $\\frac {\\partial  p_c}{\\partial z_i} 就是softmax求导的结果$\n",
    "$$\n",
    "\\frac {\\partial y_i} {\\partial z_j} = \\begin{cases}\n",
    "p_i * (1 - p_i), & \\text{i = j}   \\\\\n",
    "-p_i * p_j, & \\text{i $\\neq$ j}\n",
    "\\end{cases}\n",
    "$$\n",
    "\n",
    "### $ \\frac {\\partial L} {\\partial z_i} =  \\left (-y_i* \\frac {1}{p_i} \\right ) * p_i (1-p_i) - \\sum_{c \\neq i} y_c* \\frac {1}{p_c} * (-p_i*p_c) = -y_i*(1-p_i) + \\sum_{c \\neq i} y_c * p_i $\n",
    "### $= p_i \\left ( y_i + \\sum_{c\\neq i} y_c \\right) - y_i = p_i \\sum_c y_c - y_i = p_i - y_i$\n",
    "$\\sum_c y_c  = 1$\n",
    "\n",
    "\n",
    "<img src=\"./../data/img/softmax_loss.webp\">"
   ]
  },
  {
   "cell_type": "code",
   "execution_count": 36,
   "id": "73e67ce7-3dff-43ed-822b-155cfa24a7b0",
   "metadata": {},
   "outputs": [
    {
     "name": "stdout",
     "output_type": "stream",
     "text": [
      "0.7308 4.00007308\n",
      "0.0003 -3.99999997\n",
      "-0.7311000000000001 2.99992689\n"
     ]
    }
   ],
   "source": [
    "# loss func  L = - ΣΣtki log(yki)\n",
    "# dL/dxi = dL/dyj * dyj/dxi = yi - xi\n",
    "def loss_dx(Y, P, i=0):\n",
    "    \"\"\"\n",
    "     loss_i = -Y[i] * (1 - P[i])\n",
    "     for c in range(len(Y)):\n",
    "         if c != i:\n",
    "            loss_i += Y[c] * P[i]\n",
    "    \"\"\"\n",
    "    return P[i] - Y[i]\n",
    "\n",
    "W = [4, -4, 3]\n",
    "P = [0.7308, 0.0003, 0.2689]\n",
    "Y = [0, 0, 1]\n",
    "learningrate = 0.0001\n",
    "for i in range(len(W)):\n",
    "    loss = loss_dx(Y, P, i)\n",
    "    W[i] += learningrate * loss\n",
    "    print(loss, W[i])\n"
   ]
  },
  {
   "cell_type": "code",
   "execution_count": null,
   "id": "ef3575df-41d4-434e-b2a7-89846963939b",
   "metadata": {},
   "outputs": [],
   "source": []
  }
 ],
 "metadata": {
  "kernelspec": {
   "display_name": "Python 3 (ipykernel)",
   "language": "python",
   "name": "python3"
  },
  "language_info": {
   "codemirror_mode": {
    "name": "ipython",
    "version": 3
   },
   "file_extension": ".py",
   "mimetype": "text/x-python",
   "name": "python",
   "nbconvert_exporter": "python",
   "pygments_lexer": "ipython3",
   "version": "3.8.2"
  }
 },
 "nbformat": 4,
 "nbformat_minor": 5
}
