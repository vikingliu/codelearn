{
 "cells": [
  {
   "cell_type": "markdown",
   "id": "7f2539e2-a289-4e46-8223-7de3433cf293",
   "metadata": {},
   "source": [
    "## UIE\n",
    "\n",
    "通用信息抽取利用单一模型支持多种类型的抽取任务，用户可以使用自然语言自定义抽取目标，无需训练即可抽取输入文本中的对应信息。\n",
    "\n",
    "ERNIE-UIE 是一个面向多领域、多任务、跨模态的通用内容理解技术框架。\n",
    "\n",
    "其采用统一建模思想，单模型可以跨模态支持实体、关系、事件、标签、情感等多种内容理解任务，并使得不同任务间具备良好的迁移和泛化能力。\n",
    "\n",
    "UIE 支持不限定行业领域和抽取目标的关键信息抽取，可以实现零样本快速冷启动，同时具备优秀的小样本微调能力，低成本适配特定领域的抽取目标。\n",
    "\n",
    "<img src=\"../data/img/uie_task.png\">\n"
   ]
  },
  {
   "cell_type": "markdown",
   "id": "4e701476-d950-4690-a03c-61c4b7236dde",
   "metadata": {},
   "source": [
    "## 技术方案\n",
    "\n",
    "UIE 的输入跟输出都跟传统的信息抽取任务不同，输入是SSL+Text，输出是 SEL\n",
    "\n",
    "<img src=\"../data/img/uie_in_out.png\">\n",
    "\n",
    "- SpotName：显示存在原文中属于 spot name 这种类型的特定信息的片段，可以理解为实体类型或者事件类型，例如上图6中的 person，start-position，organization。\n",
    "\n",
    "- AssoName：显示存在跟 SpotName 存在AssoName 这种联系的信息片段，可以理解为关系，例如图6中的 work for，employee，employer，time。\n",
    "\n",
    "- InfoSpan：跟上面这种语义单元关联的原文片段。其实就是以上两种语义单元的具体取值\n",
    "\n",
    "<img src=\"../data/img/uie_tech.png\">\n",
    "\n",
    "<img src=\"../data/img/uie_ie.png\">"
   ]
  },
  {
   "cell_type": "markdown",
   "id": "97fa25ef-818e-4509-9ca1-b22a99a67400",
   "metadata": {},
   "source": [
    "## 解码\n",
    "<img src=\"../data/img/uie_dec.png\">"
   ]
  },
  {
   "cell_type": "code",
   "execution_count": null,
   "id": "78faee45-5492-4636-a6a4-689cb090bd05",
   "metadata": {},
   "outputs": [],
   "source": []
  }
 ],
 "metadata": {
  "kernelspec": {
   "display_name": "Python 3 (ipykernel)",
   "language": "python",
   "name": "python3"
  },
  "language_info": {
   "codemirror_mode": {
    "name": "ipython",
    "version": 3
   },
   "file_extension": ".py",
   "mimetype": "text/x-python",
   "name": "python",
   "nbconvert_exporter": "python",
   "pygments_lexer": "ipython3",
   "version": "3.8.2"
  }
 },
 "nbformat": 4,
 "nbformat_minor": 5
}
