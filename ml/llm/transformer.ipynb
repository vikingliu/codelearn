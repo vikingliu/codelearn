{
 "cells": [
  {
   "cell_type": "markdown",
   "id": "656c4701-b676-4cfa-a2b4-9dba8bf7f9fa",
   "metadata": {},
   "source": [
    "## Transformer\n",
    "\n",
    "<img src=\"../data/img/transformer.png\" />\n",
    "\n",
    "Transformer的代码实现分成了如下几步：\n",
    "\n",
    "数据预处理\n",
    "Positional Embedding实现\n",
    "Mask实现\n",
    "根据Q，K和V计算出注意力以及加权求和后的值（点积运算封装）\n",
    "Multi-Head Attention实现\n",
    "Feed Forward实现\n",
    "一个Encoder Layer实现\n",
    "Encoder实现\n",
    "Decoder Layer实现\n",
    "Decoder实现\n",
    "Transformer封装实现\n",
    "模型&损失函数&优化器实现\n",
    "训练\n",
    "测试\n",
    "\n"
   ]
  },
  {
   "cell_type": "code",
   "execution_count": null,
   "id": "1e2a1e99-3b0d-4edd-ad2b-2c7fd9696cf5",
   "metadata": {},
   "outputs": [],
   "source": []
  }
 ],
 "metadata": {
  "kernelspec": {
   "display_name": "Python 3 (ipykernel)",
   "language": "python",
   "name": "python3"
  },
  "language_info": {
   "codemirror_mode": {
    "name": "ipython",
    "version": 3
   },
   "file_extension": ".py",
   "mimetype": "text/x-python",
   "name": "python",
   "nbconvert_exporter": "python",
   "pygments_lexer": "ipython3",
   "version": "3.8.2"
  }
 },
 "nbformat": 4,
 "nbformat_minor": 5
}
