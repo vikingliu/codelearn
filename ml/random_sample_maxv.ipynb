{
 "cells": [
  {
   "cell_type": "code",
   "execution_count": 2,
   "id": "89841d44-14b1-4730-a104-d24023e94a29",
   "metadata": {},
   "outputs": [
    {
     "name": "stdout",
     "output_type": "stream",
     "text": [
      "[0, 4, 5, 7, 9]\n",
      "defaultdict(<class 'int'>, {9: 2010, 5: 2031, 0: 1968, 4: 2018, 7: 1973})\n"
     ]
    }
   ],
   "source": [
    "# coding=utf-8\n",
    "import collections\n",
    "import random\n",
    "\n",
    "\n",
    "def get_max_v_index(nums):\n",
    "    max_v = nums[0]\n",
    "    max_indexs = [0]\n",
    "    for i in range(1, len(nums)):\n",
    "        if nums[i] > max_v:\n",
    "            max_v = nums[i]\n",
    "            max_indexs = [i]\n",
    "        elif nums[i] < max_v:\n",
    "            continue\n",
    "        else:\n",
    "            max_indexs.append(i)\n",
    "    return max_indexs\n",
    "\n",
    "\n",
    "indexs = get_max_v_index([6, 4, 3, 2, 6, 6, 3, 6, 5, 6])\n",
    "print(indexs)\n",
    "stats = collections.defaultdict(int)\n",
    "\n",
    "for _ in range(10000):\n",
    "    i = random.choice(indexs)\n",
    "    stats[i] += 1\n",
    "print(stats)\n"
   ]
  },
  {
   "cell_type": "code",
   "execution_count": null,
   "id": "c588972c-8e3a-42ec-9e2e-bbb647cbcf1f",
   "metadata": {},
   "outputs": [],
   "source": []
  }
 ],
 "metadata": {
  "kernelspec": {
   "display_name": "Python 3 (ipykernel)",
   "language": "python",
   "name": "python3"
  },
  "language_info": {
   "codemirror_mode": {
    "name": "ipython",
    "version": 3
   },
   "file_extension": ".py",
   "mimetype": "text/x-python",
   "name": "python",
   "nbconvert_exporter": "python",
   "pygments_lexer": "ipython3",
   "version": "3.8.2"
  }
 },
 "nbformat": 4,
 "nbformat_minor": 5
}
