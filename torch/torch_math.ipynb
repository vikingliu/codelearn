{
 "cells": [
  {
   "cell_type": "code",
   "execution_count": 18,
   "id": "046b3f9b-d06f-45a0-9862-5520bcdb9c2e",
   "metadata": {
    "scrolled": true
   },
   "outputs": [
    {
     "name": "stdout",
     "output_type": "stream",
     "text": [
      "tensor([ 2,  6, 12]) tensor([ 2,  6, 12]) tensor([ 2,  6, 12])\n",
      "tensor(20)\n",
      "tensor(20) tensor([[20, 26],\n",
      "        [28, 37]]) tensor([[20, 26],\n",
      "        [28, 37]])\n"
     ]
    }
   ],
   "source": [
    "import torch\n",
    "\n",
    "a = torch.tensor([1,2,3])\n",
    "b = torch.tensor([2,3,4])\n",
    "\n",
    "# element-wise   c = [a1*b1, ...., ai*bi, ...., an*bn]\n",
    "c = torch.mul(a,b)\n",
    "c_1 = torch.multiply(a,b)\n",
    "c_2 = a*b\n",
    "print(c, c_1, c_2)\n",
    "\n",
    "# d = ∑ai*bi,  torch.dot = torch.sum(torch.mul(a,b))\n",
    "d = torch.dot(a,b)\n",
    "print(d)\n",
    "\n",
    "# matrix multiply , n*m x m*n = n*n\n",
    "e = torch.matmul(a,b)\n",
    "a_1 = torch.tensor([[1,2,3],[2,3,4]])\n",
    "b_1 = torch.tensor([[1,2],[2,3], [5,6]])\n",
    "e_1 = torch.mm(a_1, b_1)\n",
    "e_2 = torch.matmul(a_1, b_1)\n",
    "print( e, e_1, e_2)\n"
   ]
  },
  {
   "cell_type": "code",
   "execution_count": 29,
   "id": "e6b7db82-62c9-428c-ae04-15bd422d66a7",
   "metadata": {},
   "outputs": [
    {
     "name": "stdout",
     "output_type": "stream",
     "text": [
      "tensor([ 0,  1,  2,  3,  4,  5,  6,  7,  8,  9, 10, 11, 12, 13, 14, 15])\n",
      "tensor([[ 0,  1],\n",
      "        [ 2,  3],\n",
      "        [ 4,  5],\n",
      "        [ 6,  7],\n",
      "        [ 8,  9],\n",
      "        [10, 11],\n",
      "        [12, 13],\n",
      "        [14, 15]])\n",
      "tensor([[ 0,  1,  2,  3,  4,  5,  6,  7],\n",
      "        [ 8,  9, 10, 11, 12, 13, 14, 15]])\n",
      "tensor([[ 0,  1,  2,  3],\n",
      "        [ 4,  5,  6,  7],\n",
      "        [ 8,  9, 10, 11],\n",
      "        [12, 13, 14, 15]])\n",
      "tensor([[[[ 0,  1,  2,  3]],\n",
      "\n",
      "         [[ 4,  5,  6,  7]]],\n",
      "\n",
      "\n",
      "        [[[ 8,  9, 10, 11]],\n",
      "\n",
      "         [[12, 13, 14, 15]]]])\n",
      "tensor([[ 0,  1,  2,  3,  4,  5,  6,  7,  8,  9, 10, 11, 12, 13, 14, 15]])\n",
      "tensor([[ 0,  1,  2,  3,  4,  5,  6,  7],\n",
      "        [ 8,  9, 10, 11, 12, 13, 14, 15]])\n",
      "tensor([[ 0,  1,  2,  3],\n",
      "        [ 4,  5,  6,  7],\n",
      "        [ 8,  9, 10, 11],\n",
      "        [12, 13, 14, 15]])\n",
      "tensor([[ 0,  1],\n",
      "        [ 2,  3],\n",
      "        [ 4,  5],\n",
      "        [ 6,  7],\n",
      "        [ 8,  9],\n",
      "        [10, 11],\n",
      "        [12, 13],\n",
      "        [14, 15]])\n",
      "tensor([[ 0],\n",
      "        [ 1],\n",
      "        [ 2],\n",
      "        [ 3],\n",
      "        [ 4],\n",
      "        [ 5],\n",
      "        [ 6],\n",
      "        [ 7],\n",
      "        [ 8],\n",
      "        [ 9],\n",
      "        [10],\n",
      "        [11],\n",
      "        [12],\n",
      "        [13],\n",
      "        [14],\n",
      "        [15]])\n",
      "tensor([[ 0,  1,  2,  3],\n",
      "        [ 4,  5,  6,  7],\n",
      "        [ 8,  9, 10, 11],\n",
      "        [12, 13, 14, 15]])\n",
      "tensor([[ 0,  1],\n",
      "        [ 2,  3],\n",
      "        [ 4,  5],\n",
      "        [ 6,  7],\n",
      "        [ 8,  9],\n",
      "        [10, 11],\n",
      "        [12, 13],\n",
      "        [14, 15]])\n",
      "tensor([[ 0,  1,  2,  3,  4,  5,  6,  7,  8,  9, 10, 11, 12, 13, 14, 15]])\n"
     ]
    }
   ],
   "source": [
    "import torch\n",
    "\n",
    "# view()相当于reshape、resize，重新调整Tensor的形状\n",
    "a1 = torch.arange(0,16)\n",
    "print(a1) # tensor([ 0,  1,  2,  3,  4,  5,  6,  7,  8,  9, 10, 11, 12, 13, 14, 15])\n",
    "\n",
    "a2 = a1.view(8, 2) # 将a1的维度改为8*2\n",
    "a3 = a1.view(2, 8) # 将a1的维度改为2*8\n",
    "a4 = a1.view(4, 4) # 将a1的维度改为4*4\n",
    "\n",
    "a5 = a1.view(2,2,1,4)\n",
    "# 更多的维度也没有问题，只要保证维度改变前后的元素个数相同就行,即 2*2*1*4=16。\n",
    "\n",
    "print(a2)\n",
    "print(a3)\n",
    "print(a4)\n",
    "print(a5)\n",
    "\n",
    "#特殊用法：参数-1 (自动调整size)\n",
    "a2 = a1.view(-1, 16)\n",
    "a3 = a1.view(-1, 8)\n",
    "a4 = a1.view(-1, 4)\n",
    "a5 = a1.view(-1, 2)\n",
    "a6 = a1.view(4*4, -1)\n",
    "a7 = a1.view(1*4, -1)\n",
    "a8 = a1.view(2*4, -1)\n",
    "\n",
    "print(a2)\n",
    "print(a3)\n",
    "print(a4)\n",
    "print(a5)\n",
    "print(a6)\n",
    "print(a7)\n",
    "print(a8)\n",
    "\n"
   ]
  },
  {
   "cell_type": "code",
   "execution_count": 30,
   "id": "78dd2fd4-a611-4155-a323-e82811ca2218",
   "metadata": {},
   "outputs": [
    {
     "name": "stdout",
     "output_type": "stream",
     "text": [
      "tensor([[ 0,  1,  2,  3,  4,  5,  6,  7,  8,  9, 10, 11, 12, 13, 14, 15]])\n"
     ]
    }
   ],
   "source": [
    "a1 = torch.arange(0,16)\n",
    "# a.reshape = a.view() + a.contiguous().view()。\n",
    "print(a1.reshape(-1, 16))"
   ]
  },
  {
   "cell_type": "code",
   "execution_count": 25,
   "id": "5463cb34-4427-45dc-b18e-a4996d2f5d04",
   "metadata": {},
   "outputs": [
    {
     "name": "stdout",
     "output_type": "stream",
     "text": [
      "torch.Size([2, 3]) torch.Size([3, 2])\n",
      "torch.Size([3, 2]) torch.Size([2, 3])\n"
     ]
    }
   ],
   "source": [
    "import torch\n",
    "\n",
    "#transpose 转置\n",
    "a_1 = torch.tensor([[1,2,3],[2,3,4]])\n",
    "b_1 = torch.tensor([[1,2],[2,3], [5,6]])\n",
    "\n",
    "a_2 = a_1.transpose(0,1)\n",
    "print(a_1.shape, a_2.shape)\n",
    "\n",
    "b_2 = b_1.transpose(0,1)\n",
    "print(b_1.shape, b_2.shape)\n"
   ]
  },
  {
   "cell_type": "code",
   "execution_count": 28,
   "id": "c8a06609-1967-494d-953d-29be7c71e981",
   "metadata": {},
   "outputs": [
    {
     "name": "stdout",
     "output_type": "stream",
     "text": [
      "torch.Size([2, 3]) torch.Size([1, 4, 3])\n"
     ]
    }
   ],
   "source": [
    "import torch\n",
    "a_1 = torch.tensor([[1,2,3],[2,3,4]])\n",
    "a_2 = a_1.repeat(1, 2, 1)\n",
    "print(a_1.shape, a_2.shape)\n"
   ]
  },
  {
   "cell_type": "code",
   "execution_count": null,
   "id": "e0c90717-d981-4cb8-bb3d-408aca96a07d",
   "metadata": {},
   "outputs": [],
   "source": []
  }
 ],
 "metadata": {
  "kernelspec": {
   "display_name": "Python 3 (ipykernel)",
   "language": "python",
   "name": "python3"
  },
  "language_info": {
   "codemirror_mode": {
    "name": "ipython",
    "version": 3
   },
   "file_extension": ".py",
   "mimetype": "text/x-python",
   "name": "python",
   "nbconvert_exporter": "python",
   "pygments_lexer": "ipython3",
   "version": "3.8.2"
  }
 },
 "nbformat": 4,
 "nbformat_minor": 5
}
