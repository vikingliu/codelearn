{
 "cells": [
  {
   "cell_type": "code",
   "execution_count": 1,
   "id": "3677097f",
   "metadata": {
    "cell_id": 3
   },
   "outputs": [
    {
     "name": "stdout",
     "output_type": "stream",
     "text": [
      "Before 400 iterations, b = 0, w = 0, error = 124994.34909772703\n",
      "Runing...\n",
      "After 20 iterations, b = 0.09700826929114052, w = 6.134931261698613, error = 6.7311466361449\n",
      "After 40 iterations, b = 0.10223556074649039, w = 6.134853067015577, error = 6.717481641323153\n",
      "After 60 iterations, b = 0.10745747554949173, w = 6.1347749506999065, error = 6.703844742780502\n",
      "After 80 iterations, b = 0.11267401926122694, w = 6.13469691473213, error = 6.690235882748952\n",
      "After 100 iterations, b = 0.11788519740622551, w = 6.134618959029606, error = 6.676655003579099\n",
      "After 120 iterations, b = 0.12309101550333425, w = 6.134541083509775, error = 6.663102047740046\n",
      "After 140 iterations, b = 0.12829147906572366, w = 6.134463288090163, error = 6.649576957819548\n",
      "After 160 iterations, b = 0.13348659360089363, w = 6.134385572688383, error = 6.636079676522884\n",
      "After 180 iterations, b = 0.138676364610679, w = 6.134307937222131, error = 6.622610146673508\n",
      "After 200 iterations, b = 0.14386079759125572, w = 6.134230381609187, error = 6.609168311212303\n",
      "After 220 iterations, b = 0.14903989803314652, w = 6.134152905767419, error = 6.595754113197421\n",
      "After 240 iterations, b = 0.15421367142122686, w = 6.134075509614774, error = 6.582367495804208\n",
      "After 260 iterations, b = 0.1593821232347305, w = 6.133998193069287, error = 6.5690084023248\n",
      "After 280 iterations, b = 0.1645452589472556, w = 6.133920956049078, error = 6.555676776167826\n",
      "After 300 iterations, b = 0.16970308402677015, w = 6.133843798472348, error = 6.542372560858453\n",
      "After 320 iterations, b = 0.17485560393561814, w = 6.133766720257387, error = 6.529095700037829\n",
      "After 340 iterations, b = 0.18000282413052507, w = 6.133689721322563, error = 6.515846137463021\n",
      "After 360 iterations, b = 0.18514475006260384, w = 6.133612801586332, error = 6.502623817006776\n",
      "After 380 iterations, b = 0.19028138717736054, w = 6.133535960967233, error = 6.4894286826571665\n",
      "After 400 iterations, b = 0.19541274091470018, w = 6.133459199383889, error = 6.476260678517434\n",
      "Ending...\n",
      "Final 400 iterations, b = 0.19541274091470018, w = 6.133459199383889, error = 6.476260678517434\n"
     ]
    }
   ],
   "source": [
    "import numpy as np\n",
    "def compute_error_for_line_given_points(b, w, points):\n",
    "    totalError = 0\n",
    "    for i in range(0, len(points)):\n",
    "        x = points[i,0]\n",
    "        y = points[i,1]\n",
    "        totalError += (y - (w*x + b))**2\n",
    "    return totalError / float(len(points))\n",
    "\n",
    "def step_gradient(b_current, w_current, points, learningRate):\n",
    "    b_gradient = 0\n",
    "    w_gradient = 0\n",
    "    N = float(len(points))\n",
    "    for i in range(0, len(points)):\n",
    "        x = points[i,0]\n",
    "        y = points[i,1]\n",
    "        b_gradient += -(2/N)*(y - (w_current * x + b_current))\n",
    "        w_gradient += -(2/N)*x*(y - (w_current * x + b_current))\n",
    "    new_b = b_current - learningRate * b_gradient\n",
    "    new_w = w_current - learningRate * w_gradient\n",
    "    return [new_b, new_w]\n",
    "\n",
    "def gradient_descent_runner(points, starting_b, starting_w, learningRate, num_iterations):\n",
    "    b = starting_b\n",
    "    w = starting_w\n",
    "    for i in range(num_iterations):\n",
    "        b, w = step_gradient(b, w, np.array(points), learningRate)\n",
    "        out_num = num_iterations/20\n",
    "        if (i+1) % out_num == 0:\n",
    "            print('After {0} iterations, b = {1}, w = {2}, error = {3}'.format(i+1, b, w , compute_error_for_line_given_points(b, w, points)))\n",
    "    return [b, w]\n",
    "points = np.genfromtxt('data/data_points.csv', delimiter=',')\n",
    "learningRate = 0.0001\n",
    "initial_b = 0\n",
    "initial_w = 0\n",
    "num_iterations = 400\n",
    "\n",
    "print('Before {0} iterations, b = {1}, w = {2}, error = {3}'.format(num_iterations, initial_b, initial_w , compute_error_for_line_given_points(initial_b, initial_w, points)))\n",
    "print('Runing...')\n",
    "[b, w] = gradient_descent_runner(points, initial_b, initial_w, learningRate, num_iterations)\n",
    "print(\"Ending...\")\n",
    "print('Final {0} iterations, b = {1}, w = {2}, error = {3}'.format(num_iterations, b, w , compute_error_for_line_given_points(b, w, points)))\n"
   ]
  },
  {
   "cell_type": "code",
   "execution_count": null,
   "id": "13507c86",
   "metadata": {
    "cell_id": 13
   },
   "outputs": [],
   "source": []
  }
 ],
 "metadata": {
  "kernelspec": {
   "display_name": "Python 3 (ipykernel)",
   "language": "python",
   "name": "python3"
  },
  "language_info": {
   "codemirror_mode": {
    "name": "ipython",
    "version": 3
   },
   "file_extension": ".py",
   "mimetype": "text/x-python",
   "name": "python",
   "nbconvert_exporter": "python",
   "pygments_lexer": "ipython3",
   "version": "3.8.2"
  },
  "max_cell_id": 14
 },
 "nbformat": 4,
 "nbformat_minor": 5
}
