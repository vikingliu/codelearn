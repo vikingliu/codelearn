{
 "cells": [
  {
   "cell_type": "code",
   "execution_count": 14,
   "id": "3677097f",
   "metadata": {
    "cell_id": 3
   },
   "outputs": [
    {
     "name": "stdout",
     "output_type": "stream",
     "text": [
      "Before 400 iterations, b = 0, w = 0, error = 198021.71663389218\n",
      "Runing...\n",
      "After 20 iterations, b = 0.11491967256212114, w = 7.518594195330828, error = 4.994340631306002\n",
      "After 40 iterations, b = 0.11928926529448247, w = 7.518529950049856, error = 4.984792128685509\n",
      "After 60 iterations, b = 0.12365461004098682, w = 7.5184657669714445, error = 4.975262182554884\n",
      "After 80 iterations, b = 0.12801571093513867, w = 7.518401646289824, error = 4.965750756851853\n",
      "After 100 iterations, b = 0.13237257210267928, w = 7.518337587944337, error = 4.9562578155836325\n",
      "After 120 iterations, b = 0.136725197665339, w = 7.5182735918743795, error = 4.946783322827889\n",
      "After 140 iterations, b = 0.14107359174084103, w = 7.518209658019409, error = 4.937327242731824\n",
      "After 160 iterations, b = 0.14541775844290553, w = 7.518145786318945, error = 4.927889539512562\n",
      "After 180 iterations, b = 0.14975770188125345, w = 7.518081976712561, error = 4.918470177456521\n",
      "After 200 iterations, b = 0.15409342616161048, w = 7.518018229139891, error = 4.9090691209194794\n",
      "After 220 iterations, b = 0.15842493538571062, w = 7.517954543540627, error = 4.89968633432689\n",
      "After 240 iterations, b = 0.1627522336513006, w = 7.517890919854522, error = 4.890321782172899\n",
      "After 260 iterations, b = 0.16707532505214312, w = 7.517827358021385, error = 4.880975429020867\n",
      "After 280 iterations, b = 0.17139421367802132, w = 7.517763857981085, error = 4.871647239503062\n",
      "After 300 iterations, b = 0.1757089036147422, w = 7.517700419673549, error = 4.8623371783202645\n",
      "After 320 iterations, b = 0.1800193989441408, w = 7.517637043038761, error = 4.85304521024221\n",
      "After 340 iterations, b = 0.18432570374408375, w = 7.5175737280167665, error = 4.843771300106662\n",
      "After 360 iterations, b = 0.1886278220884735, w = 7.517510474547666, error = 4.834515412820142\n",
      "After 380 iterations, b = 0.19292575804725184, w = 7.51744728257162, error = 4.825277513357054\n",
      "After 400 iterations, b = 0.19721951568640403, w = 7.517384152028848, error = 4.8160575667599\n",
      "Ending...\n",
      "Final 400 iterations, b = 0.19721951568640403, w = 7.517384152028848, error = 4.8160575667599\n"
     ]
    }
   ],
   "source": [
    "import numpy as np\n",
    "def compute_error_for_line_given_points(b, w, points):\n",
    "    totalError = 0\n",
    "    for i in range(0, len(points)):\n",
    "        x = points[i,0]\n",
    "        y = points[i,1]\n",
    "        totalError += (y - (w*x + b))**2\n",
    "    return totalError / float(len(points))\n",
    "\n",
    "def step_gradient(b_current, w_current, points, learningRate):\n",
    "    b_gradient = 0\n",
    "    w_gradient = 0\n",
    "    N = float(len(points))\n",
    "    for i in range(0, len(points)):\n",
    "        x = points[i,0]\n",
    "        y = points[i,1]\n",
    "        b_gradient += -(2/N)*(y - (w_current * x + b_current))\n",
    "        w_gradient += -(2/N)*x*(y - (w_current * x + b_current))\n",
    "    new_b = b_current - learningRate * b_gradient\n",
    "    new_w = w_current - learningRate * w_gradient\n",
    "    return [new_b, new_w]\n",
    "\n",
    "def gradient_descent_runner(points, starting_b, starting_w, learningRate, num_iterations):\n",
    "    b = starting_b\n",
    "    w = starting_w\n",
    "    for i in range(num_iterations):\n",
    "        b, w = step_gradient(b, w, np.array(points), learningRate)\n",
    "        out_num = num_iterations/20\n",
    "        if (i+1) % out_num == 0:\n",
    "            print('After {0} iterations, b = {1}, w = {2}, error = {3}'.format(i+1, b, w , compute_error_for_line_given_points(b, w, points)))\n",
    "    return [b, w]\n",
    "points = np.genfromtxt('data/data_points.csv', delimiter=',')\n",
    "learningRate = 0.0001\n",
    "initial_b = 0\n",
    "initial_w = 0\n",
    "num_iterations = 400\n",
    "\n",
    "print('Before {0} iterations, b = {1}, w = {2}, error = {3}'.format(num_iterations, initial_b, initial_w , compute_error_for_line_given_points(initial_b, initial_w, points)))\n",
    "print('Runing...')\n",
    "[b, w] = gradient_descent_runner(points, initial_b, initial_w, learningRate, num_iterations)\n",
    "print(\"Ending...\")\n",
    "print('Final {0} iterations, b = {1}, w = {2}, error = {3}'.format(num_iterations, b, w , compute_error_for_line_given_points(b, w, points)))\n"
   ]
  },
  {
   "cell_type": "code",
   "execution_count": null,
   "id": "13507c86",
   "metadata": {
    "cell_id": 13
   },
   "outputs": [],
   "source": []
  }
 ],
 "metadata": {
  "kernelspec": {
   "display_name": "Python 3",
   "language": "python",
   "name": "python3"
  },
  "language_info": {
   "codemirror_mode": {
    "name": "ipython",
    "version": 3
   },
   "file_extension": ".py",
   "mimetype": "text/x-python",
   "name": "python",
   "nbconvert_exporter": "python",
   "pygments_lexer": "ipython3",
   "version": "3.7.12"
  },
  "max_cell_id": 14
 },
 "nbformat": 4,
 "nbformat_minor": 5
}
