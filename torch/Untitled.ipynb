{
 "cells": [
  {
   "cell_type": "markdown",
   "id": "d24edc28-4834-4a2e-a35c-287f53799c82",
   "metadata": {},
   "source": [
    "## 矩阵的形变及特殊矩阵构造方法\n",
    "\n",
    "|函数\t|描述|\n",
    "|----|----|\n",
    "|torch.t(t)|\tt转置|\n",
    "|torch.eye(n)\t|创建包含n个分量的单位矩阵|\n",
    "|torch.diag(t1)|\t以t1中各元素,创建对角矩阵|\n",
    "|torch.triu(t)|\t取矩阵t中的上三角矩阵|\n",
    "|torch.tril(t)|\t取矩阵t中的下三角矩阵|\n",
    "\n",
    "## 矩阵的基本运算\n",
    "|函数|\t描述|\n",
    "|----|----|\n",
    "|torch.dot(t1,t2)\t|计算t1,t2张量内积|\n",
    "|torch.mm(t1,t2)\t|矩阵乘法|\n",
    "|torch.mv(t1,t2)\t|矩阵乘向量|\n",
    "|torch.bmm(t1,t2)\t|批量矩阵乘法|\n",
    "|torch.addmm(t, t1, t2)\t|矩阵相乘后相加|\n",
    "|torch.addbmm(t, t1, t2)\t|批量矩阵相乘后相加|\n",
    "\n",
    "\n",
    "\n",
    "## 矩阵的线性代数运算\n",
    "|函数\t|描述|\n",
    "|----|----|\n",
    "|torch.trace(A)|\t矩阵的迹|\n",
    "|matrix_rank(A)|\t矩阵的秩|\n",
    "|torch.det(A)|\t计算矩阵A的行列式|\n",
    "|torch.inverse(A)|\t矩阵的逆|\n",
    "|torch.lstsq(A)\t|最小二乘法|\n",
    "|torch.trace(A)|\t矩阵的迹|789"
   ]
  },
  {
   "cell_type": "code",
   "execution_count": null,
   "id": "e42ff211-9655-45f7-bb30-cd54827af0ff",
   "metadata": {},
   "outputs": [],
   "source": []
  }
 ],
 "metadata": {
  "kernelspec": {
   "display_name": "Python 3 (ipykernel)",
   "language": "python",
   "name": "python3"
  },
  "language_info": {
   "codemirror_mode": {
    "name": "ipython",
    "version": 3
   },
   "file_extension": ".py",
   "mimetype": "text/x-python",
   "name": "python",
   "nbconvert_exporter": "python",
   "pygments_lexer": "ipython3",
   "version": "3.8.2"
  }
 },
 "nbformat": 4,
 "nbformat_minor": 5
}
