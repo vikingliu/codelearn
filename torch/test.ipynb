{
 "cells": [
  {
   "cell_type": "code",
   "execution_count": 1,
   "id": "e3cc5d86",
   "metadata": {},
   "outputs": [
    {
     "ename": "ModuleNotFoundError",
     "evalue": "No module named 'torch'",
     "output_type": "error",
     "traceback": [
      "\u001b[0;31m---------------------------------------------------------------------------\u001b[0m",
      "\u001b[0;31mModuleNotFoundError\u001b[0m                       Traceback (most recent call last)",
      "Cell \u001b[0;32mIn[1], line 1\u001b[0m\n\u001b[0;32m----> 1\u001b[0m \u001b[38;5;28;01mimport\u001b[39;00m \u001b[38;5;21;01mtorch\u001b[39;00m\n\u001b[1;32m      2\u001b[0m a \u001b[38;5;241m=\u001b[39m torch\u001b[38;5;241m.\u001b[39mrandn(\u001b[38;5;241m0\u001b[39m,\u001b[38;5;241m2\u001b[39m)\n\u001b[1;32m      3\u001b[0m \u001b[38;5;28mprint\u001b[39m(a\u001b[38;5;241m.\u001b[39mtype())\n",
      "\u001b[0;31mModuleNotFoundError\u001b[0m: No module named 'torch'"
     ]
    }
   ],
   "source": [
    "import torch\n",
    "a = torch.randn(0,2)\n",
    "print(a.type())\n",
    "isinstance(a, torch.FloatTensor)\n",
    "b=torch.tensor(1.)\n",
    "print(b)\n",
    "c = torch.tensor([1.3,12])\n",
    "print(c)\n",
    "print(c.shape)\n",
    "print(c.dim())\n",
    "print(c.size())\n",
    "\n",
    "d=torch.FloatTensor(2,3)\n",
    "print(d)\n",
    "print(d.shape)\n",
    "print(d.dim())\n",
    "\n",
    "e=torch.ones(3,4,2)\n",
    "print(e)\n",
    "print(e.dim())\n",
    "print(e.shape)\n",
    "print(e.size(0))"
   ]
  },
  {
   "cell_type": "code",
   "execution_count": 32,
   "id": "8aaf488f",
   "metadata": {},
   "outputs": [
    {
     "name": "stdout",
     "output_type": "stream",
     "text": [
      "tensor([[[0.3484, 0.9383, 0.1361],\n",
      "         [0.6953, 0.8978, 0.5822]]])\n"
     ]
    }
   ],
   "source": [
    "f = torch.rand(1,2,3)\n",
    "print(f)"
   ]
  },
  {
   "cell_type": "code",
   "execution_count": 35,
   "id": "6ca57b98",
   "metadata": {},
   "outputs": [
    {
     "name": "stdout",
     "output_type": "stream",
     "text": [
      "<built-in method dim of Tensor object at 0x7f108aec1410>\n",
      "torch.Size([1, 2, 3])\n",
      "torch.Size([1, 2, 3])\n",
      "6\n"
     ]
    }
   ],
   "source": [
    "print(f.dim)\n",
    "print(f.size())\n",
    "print(f.shape)\n",
    "print(f.numel())"
   ]
  },
  {
   "cell_type": "code",
   "execution_count": 43,
   "id": "181d537c",
   "metadata": {},
   "outputs": [
    {
     "name": "stdout",
     "output_type": "stream",
     "text": [
      "tensor([2.0000, 2.3000], dtype=torch.float64)\n",
      "tensor([[1., 1., 1.],\n",
      "        [1., 1., 1.]], dtype=torch.float64)\n",
      "tensor([1.1000, 2.0000])\n",
      "tensor([1.1000, 2.0000])\n",
      "tensor([[1, 2],\n",
      "        [3, 4]])\n"
     ]
    }
   ],
   "source": [
    "import numpy as np\n",
    "g=np.array([2,2.3])\n",
    "h=torch.from_numpy(g)\n",
    "print(h)\n",
    "g=np.ones([2,3])\n",
    "h = torch.from_numpy(g)\n",
    "print(h)\n",
    "g=torch.tensor([1.1,2.])\n",
    "print(g)\n",
    "g=torch.FloatTensor([1.1, 2.0])\n",
    "print(g)\n",
    "g=torch.tensor([[1,2],[3,4]])\n",
    "print(g)"
   ]
  },
  {
   "cell_type": "code",
   "execution_count": 50,
   "id": "a6932219",
   "metadata": {},
   "outputs": [
    {
     "name": "stdout",
     "output_type": "stream",
     "text": [
      "tensor([[ 1.8847e+08,  4.5587e-41, -2.6489e-15],\n",
      "        [ 3.0646e-41,  4.4842e-44,  0.0000e+00]])\n",
      "tensor([[ 1.8847e+08,  4.5587e-41, -2.6716e-15],\n",
      "        [ 3.0646e-41,  0.0000e+00,  0.0000e+00]])\n",
      "tensor([[ 1.8847e+08,  4.5587e-41, -2.6547e-15],\n",
      "        [ 3.0646e-41, -2.2241e-32,  4.5581e-41]])\n",
      "tensor([[ 1295236192,       32532, -1490389840],\n",
      "        [      21870, -1964574608,       32528]], dtype=torch.int32)\n",
      "<torch._C.Generator object at 0x7f143847a490>\n"
     ]
    }
   ],
   "source": [
    "g=torch.empty(2,3)\n",
    "print(g)\n",
    "g=torch.Tensor(2,3)\n",
    "print(g)\n",
    "g=torch.FloatTensor(2,3)\n",
    "print(g)\n",
    "g=torch.IntTensor(2,3)\n",
    "print(g)\n"
   ]
  },
  {
   "cell_type": "code",
   "execution_count": 57,
   "id": "e4cf2f75",
   "metadata": {},
   "outputs": [
    {
     "name": "stdout",
     "output_type": "stream",
     "text": [
      "tensor([[0.9683, 0.0624, 0.5229],\n",
      "        [0.6256, 0.3751, 0.7619],\n",
      "        [0.7913, 0.8144, 0.5907]])\n",
      "tensor([[4, 6, 3],\n",
      "        [9, 5, 5],\n",
      "        [3, 8, 9]])\n",
      "tensor([[-0.3112,  1.7755,  0.0406],\n",
      "        [ 0.1649,  0.4827, -0.5854],\n",
      "        [ 2.6178, -0.5622, -0.6759]])\n"
     ]
    }
   ],
   "source": [
    "g=torch.rand(3,3)\n",
    "print(g)\n",
    "g=torch.randint(3,10,[3,3])\n",
    "print(g)\n",
    "g=torch.randn(3,3)\n",
    "print(g)"
   ]
  },
  {
   "cell_type": "code",
   "execution_count": 69,
   "id": "28ebb3e9",
   "metadata": {},
   "outputs": [
    {
     "name": "stdout",
     "output_type": "stream",
     "text": [
      "tensor([ 0.2508,  0.4849, -0.3918,  0.7020, -0.0458,  0.2327, -0.2432,  0.0793,\n",
      "         0.0089,  0.0792])\n"
     ]
    }
   ],
   "source": [
    "g=torch.normal(mean=torch.full([10],0.), std=torch.arange(1,0,-0.1))\n",
    "print(g)"
   ]
  },
  {
   "cell_type": "code",
   "execution_count": 71,
   "id": "a6199795",
   "metadata": {},
   "outputs": [
    {
     "name": "stdout",
     "output_type": "stream",
     "text": [
      "tensor([ 0.0000,  3.3333,  6.6667, 10.0000])\n"
     ]
    }
   ],
   "source": [
    "g=torch.linspace(0,10, steps=4)\n",
    "print(g)"
   ]
  },
  {
   "cell_type": "code",
   "execution_count": 72,
   "id": "2328f152",
   "metadata": {},
   "outputs": [
    {
     "name": "stdout",
     "output_type": "stream",
     "text": [
      "tensor([1.0000, 0.4642, 0.2154, 0.1000])\n"
     ]
    }
   ],
   "source": [
    "g=torch.logspace(0, -1, steps=4)\n",
    "print(g)"
   ]
  },
  {
   "cell_type": "code",
   "execution_count": 73,
   "id": "c524b4b2",
   "metadata": {},
   "outputs": [
    {
     "name": "stdout",
     "output_type": "stream",
     "text": [
      "tensor([[1., 1., 1.],\n",
      "        [1., 1., 1.]])\n"
     ]
    }
   ],
   "source": [
    "g=torch.ones(2,3)\n",
    "print(g)"
   ]
  },
  {
   "cell_type": "code",
   "execution_count": 74,
   "id": "995e38e0",
   "metadata": {},
   "outputs": [
    {
     "name": "stdout",
     "output_type": "stream",
     "text": [
      "tensor([[0., 0., 0.],\n",
      "        [0., 0., 0.]])\n"
     ]
    }
   ],
   "source": [
    "g=torch.zeros(2,3)\n",
    "print(g)"
   ]
  },
  {
   "cell_type": "code",
   "execution_count": 77,
   "id": "67af4be8",
   "metadata": {},
   "outputs": [
    {
     "name": "stdout",
     "output_type": "stream",
     "text": [
      "tensor([[1., 0., 0.],\n",
      "        [0., 1., 0.]])\n",
      "tensor([[1., 0., 0.],\n",
      "        [0., 1., 0.],\n",
      "        [0., 0., 1.]])\n",
      "tensor([[1., 1., 1.],\n",
      "        [1., 1., 1.],\n",
      "        [1., 1., 1.]])\n"
     ]
    }
   ],
   "source": [
    "g=torch.eye(2,3)\n",
    "print(g)\n",
    "g=torch.eye(3)\n",
    "print(g)\n",
    "g=torch.ones_like(g)\n",
    "print(g)"
   ]
  },
  {
   "cell_type": "code",
   "execution_count": 82,
   "id": "0884d33b",
   "metadata": {},
   "outputs": [
    {
     "name": "stdout",
     "output_type": "stream",
     "text": [
      "tensor([4, 7, 9, 3, 8, 5, 0, 6, 2, 1])\n"
     ]
    },
    {
     "data": {
      "text/plain": [
       "tensor([4, 7, 9, 3, 8, 5, 0, 6, 2, 1])"
      ]
     },
     "execution_count": 82,
     "metadata": {},
     "output_type": "execute_result"
    }
   ],
   "source": [
    "g=torch.randperm(10)\n",
    "g\n",
    "print(g)\n",
    "g"
   ]
  },
  {
   "cell_type": "code",
   "execution_count": null,
   "id": "2a24550d",
   "metadata": {},
   "outputs": [],
   "source": []
  }
 ],
 "metadata": {
  "kernelspec": {
   "display_name": "Python 3 (ipykernel)",
   "language": "python",
   "name": "python3"
  },
  "language_info": {
   "codemirror_mode": {
    "name": "ipython",
    "version": 3
   },
   "file_extension": ".py",
   "mimetype": "text/x-python",
   "name": "python",
   "nbconvert_exporter": "python",
   "pygments_lexer": "ipython3",
   "version": "3.12.1"
  }
 },
 "nbformat": 4,
 "nbformat_minor": 5
}
