{
 "cells": [
  {
   "cell_type": "code",
   "execution_count": 2,
   "id": "0d7f330d-9536-475c-8476-78092732eb8f",
   "metadata": {},
   "outputs": [
    {
     "name": "stdout",
     "output_type": "stream",
     "text": [
      "42\n"
     ]
    }
   ],
   "source": [
    "# coding=utf-8\n",
    "\n",
    "\n",
    "def catalan_cnt(n):\n",
    "    \"\"\"\n",
    "        令h(0)=1,h(1)=1，catalan数满足递推式：h(n)= h(0)*h(n-1)+h(1)*h(n-2) + ... +h(n-1)*h(0) (n>=2)\n",
    "\n",
    "        另类递推式[2]：h(n)=h(n-1)*(4*n-2)/(n+1);\n",
    "\n",
    "        递推关系的解为：h(n)=C(2n,n)/(n+1) (n=0,1,2,...)\n",
    "\n",
    "        递推关系的另类解为：h(n)=c(2n,n)-c(2n,n-1)(n=0,1,2,...)\n",
    "\n",
    "        C(2n, n) / (n+1) = (2n)!/(n!*n!*(n+1))\n",
    "    \"\"\"\n",
    "    if n == 1:\n",
    "        return 1\n",
    "    n_factorial = 1 #n!\n",
    "    for i in range(1, n + 1):\n",
    "        n_factorial *= i\n",
    "        \n",
    "    n2_factorial = n_factorial # init n! cal (2n)!\n",
    "    for i in range(n + 1, 2 * n + 1):\n",
    "        n2_factorial *= i \n",
    "\n",
    "    return n2_factorial // (n_factorial * n_factorial * (n + 1))\n",
    "\n",
    "print(catalan_cnt(5))"
   ]
  },
  {
   "cell_type": "code",
   "execution_count": 19,
   "id": "04d72bce-3d5b-4285-bcd3-e30ec137d78b",
   "metadata": {},
   "outputs": [
    {
     "name": "stdout",
     "output_type": "stream",
     "text": [
      "[[4, 3, 2, 1], [3, 4, 2, 1], [3, 2, 4, 1], [3, 2, 1, 4], [2, 4, 3, 1], [2, 3, 4, 1], [2, 3, 1, 4], [2, 1, 4, 3], [2, 1, 3, 4], [1, 4, 3, 2], [1, 3, 4, 2], [1, 3, 2, 4], [1, 2, 4, 3], [1, 2, 3, 4]]\n"
     ]
    }
   ],
   "source": [
    "def stack_out_dfs(arr, start=0, stack=[], path=[]):\n",
    "    if start == len(arr):\n",
    "        path = path + stack[::-1]\n",
    "        return [path]\n",
    "    \n",
    "    res = []\n",
    "    # 入栈\n",
    "    res += stack_out_dfs(arr, start + 1, stack + [arr[start]], path)\n",
    " \n",
    "    # 出栈\n",
    "    if stack:\n",
    "        res += stack_out_dfs(arr, start, stack, path + [stack.pop()])\n",
    "    return res\n",
    "print(stack_out([1, 2, 3, 4]))"
   ]
  },
  {
   "cell_type": "code",
   "execution_count": 11,
   "id": "f60de932-ed0f-4aab-9fb9-8fafc194911a",
   "metadata": {},
   "outputs": [
    {
     "name": "stdout",
     "output_type": "stream",
     "text": [
      "[[4, 3, 2, 1], [3, 4, 2, 1], [3, 2, 4, 1], [3, 2, 1, 4], [2, 4, 3, 1], [2, 3, 4, 1], [2, 3, 1, 4], [2, 1, 4, 3], [2, 1, 3, 4], [1, 4, 3, 2], [1, 3, 4, 2], [1, 3, 2, 4], [1, 2, 4, 3], [1, 2, 3, 4]]\n"
     ]
    }
   ],
   "source": [
    "def stack_out_non_dfs(arr):\n",
    "    results = [([], [])]\n",
    "    for i in range(len(arr)):\n",
    "        new_results = []\n",
    "        for stack, path in results:\n",
    "            new_results.append((stack + [arr[i]], path))\n",
    "            out = []\n",
    "            while stack:\n",
    "                out.append(stack.pop())\n",
    "                new_results.append((stack + [arr[i]], path + out))\n",
    "        results = new_results\n",
    "    res = [path + stack[::-1] for stack, path in results]\n",
    "    return res\n",
    "\n",
    "print(stack_out_non_dfs([1, 2, 3, 4]))"
   ]
  },
  {
   "cell_type": "code",
   "execution_count": 23,
   "id": "ebbac656-8f09-4057-a3b0-2a8b51be4c29",
   "metadata": {},
   "outputs": [
    {
     "data": {
      "text/plain": [
       "[[4, 3, 2, 1],\n",
       " [4, 3, 1, 2],\n",
       " [4, 1, 3, 1],\n",
       " [4, 2, 1, 3],\n",
       " [4, 1, 2, 3],\n",
       " [1, 4, 2, 1],\n",
       " [1, 4, 1, 2],\n",
       " [2, 1, 4, 1],\n",
       " [1, 2, 4, 1],\n",
       " [3, 2, 1, 4],\n",
       " [3, 1, 2, 4],\n",
       " [1, 3, 1, 4],\n",
       " [2, 1, 3, 4],\n",
       " [1, 2, 3, 4]]"
      ]
     },
     "execution_count": 23,
     "metadata": {},
     "output_type": "execute_result"
    }
   ],
   "source": [
    "def catalan_stack_out(nums):\n",
    "    n = len(nums)\n",
    "    dp = [0] * n\n",
    "    dp[0] = [[nums[0]]\n",
    "     # dp[i] = ∑dp[k]dp[i-k-1],  0≤k<i\n",
    "    for i in range(1, n):\n",
    "        dp[i] = []\n",
    "        for j in range(0, i):\n",
    "            left = dp[j]\n",
    "            right = dp[i - j - 1]\n",
    "            for l in left:\n",
    "                for r in right:\n",
    "                    dp[i].append(l + [nums[i - 1]] + r)\n",
    "    return dp[-1]\n",
    "\n",
    "catalan_stack_out([1,2,3,4])"
   ]
  },
  {
   "cell_type": "code",
   "execution_count": null,
   "id": "bbca9e12-188c-4c39-a55f-f7abdc4d3265",
   "metadata": {},
   "outputs": [],
   "source": []
  },
  {
   "cell_type": "code",
   "execution_count": null,
   "id": "91f24557-9017-4c80-8c52-8babd616ba29",
   "metadata": {},
   "outputs": [],
   "source": []
  }
 ],
 "metadata": {
  "kernelspec": {
   "display_name": "Python 3 (ipykernel)",
   "language": "python",
   "name": "python3"
  },
  "language_info": {
   "codemirror_mode": {
    "name": "ipython",
    "version": 3
   },
   "file_extension": ".py",
   "mimetype": "text/x-python",
   "name": "python",
   "nbconvert_exporter": "python",
   "pygments_lexer": "ipython3",
   "version": "3.12.1"
  }
 },
 "nbformat": 4,
 "nbformat_minor": 5
}
