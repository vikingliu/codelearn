{
 "cells": [
  {
   "cell_type": "markdown",
   "id": "c4792210-c4e5-49f9-b589-aca20c4e295e",
   "metadata": {},
   "source": [
    "changes是无限量（count(changes[i]) ≥ (amount / changes[i]) + 1)\n",
    "\n",
    "dp[i][j] = dp[i-1][j] + dp[i][j-changes[i]]  , i∈ [0, len(changes)], changes[i] ≤ j ≤ amount\n",
    "\n",
    "初始化 dp[i][0] = 1 \n",
    "\n",
    "dp[i][j] 表示 changes[0 -> i] 和 amount = j的 所有组合数据\n",
    "* 一种就是使用 changes[i]的所有组合, dp[i][j-changes[i]]\n",
    "* 一种是不适用 changes[i]的所有组合, dp[i-1][j]\n",
    "\n",
    "dp[i][j] 可以简化，dp[j] = dp[j] +  dp[j - changes[i]],  changes[i] ≤ j ≤ amount\n",
    "\n",
    "dp[j] 上一轮结果， dp[j - changes[i]] 是这一轮的 j - changes[i]的结果， 所以需要顺序执行\n",
    "\n",
    "初始化 dp[0] = 1， 根据每一个i，从前往后计算dp, 计算i+1的时候，新结果覆盖 dp"
   ]
  },
  {
   "cell_type": "code",
   "execution_count": 41,
   "id": "d10042d9-416d-47b1-9800-f2edbfb15d8c",
   "metadata": {},
   "outputs": [
    {
     "name": "stdout",
     "output_type": "stream",
     "text": [
      "[3, 3, 3]\n",
      "[3, 3, 1, 1, 1]\n",
      "[3, 3, 1, 2]\n",
      "[3, 1, 1, 1, 1, 1, 1]\n",
      "[3, 1, 1, 1, 1, 2]\n",
      "[3, 1, 1, 2, 2]\n",
      "[3, 1, 5]\n",
      "[3, 2, 2, 2]\n",
      "[1, 1, 1, 1, 1, 1, 1, 1, 1]\n",
      "[1, 1, 1, 1, 1, 1, 1, 2]\n",
      "[1, 1, 1, 1, 1, 2, 2]\n",
      "[1, 1, 1, 1, 5]\n",
      "[1, 1, 1, 2, 2, 2]\n",
      "[1, 1, 2, 5]\n",
      "[1, 2, 2, 2, 2]\n",
      "[2, 2, 5]\n",
      "64\n"
     ]
    }
   ],
   "source": [
    "# coding=utf-8\n",
    "cnt = 0\n",
    "def change_combination(amount, changes=[], start=0, combo=[]):\n",
    "    \"\"\"\n",
    "       dfs(n, start) = Σ dfs(n - changes[c], c)   c = [start, len(changes)]\n",
    "       dfs 有重复计算\n",
    "    \"\"\"\n",
    "    global cnt\n",
    "    cnt += 1\n",
    "    if amount == 0:\n",
    "        print(combo)\n",
    "        return\n",
    "    for c in range(start, len(changes)):\n",
    "        if amount >= changes[c]:\n",
    "            change_combination(amount - changes[c], changes, c, combo + [changes[c]])\n",
    "change_combination(9, [3, 1, 2, 5, 10])\n",
    "print(cnt)"
   ]
  },
  {
   "cell_type": "code",
   "execution_count": 42,
   "id": "b86ff4a7-31e3-460d-8b48-5283a21bf7cb",
   "metadata": {},
   "outputs": [
    {
     "name": "stdout",
     "output_type": "stream",
     "text": [
      "[[3, 3, 3], [3, 3, 1, 1, 1], [3, 3, 1, 2], [3, 3, 1, 1, 1], [3, 3, 1, 2], [3, 1, 1, 2, 2], [3, 1, 5], [3, 1, 1, 2, 2], [3, 3, 1, 1, 1], [3, 3, 1, 2], [3, 1, 1, 2, 2], [3, 1, 5], [3, 1, 1, 2, 2], [1, 1, 2, 5], [3, 1, 1, 2, 2], [1, 1, 2, 5]]\n",
      "40\n"
     ]
    }
   ],
   "source": [
    "# coding=utf-8\n",
    "cur_cache = {}\n",
    "cnt = 0\n",
    "def change_combination_with_cache(amount, changes=[], start=0, combo=[]):\n",
    "    \"\"\"\n",
    "       dfs(n, start) = Σ dfs(n - changes[c], c)   c = [start, len(changes)]\n",
    "       dfs 有重复计算, 增加cache\n",
    "    \"\"\"\n",
    "    global cnt\n",
    "    cnt += 1\n",
    "    key = str(amount) + '_' + str(start)\n",
    "    if key in cur_cache:\n",
    "        return cur_cache[key]\n",
    "    if amount == 0:\n",
    "        return [combo+[]]\n",
    "    res = []\n",
    "    for c in range(start, len(changes)):\n",
    "        if amount >= changes[c]:\n",
    "            res += change_combination_with_cache(amount - changes[c], changes, c, combo + [changes[c]])\n",
    "    cur_cache[key] = res\n",
    "    return res\n",
    "print(change_combination_with_cache(9, [3, 1, 2, 5, 10]))\n",
    "print(cnt)"
   ]
  },
  {
   "cell_type": "code",
   "execution_count": 30,
   "id": "d4032556-5be7-4e69-ae3f-b00e302c5755",
   "metadata": {},
   "outputs": [
    {
     "name": "stdout",
     "output_type": "stream",
     "text": [
      "[3, 3, 3]\n",
      "[3, 3, 1, 1, 1]\n",
      "[3, 3, 1, 2]\n",
      "[3, 1, 1, 1, 1, 2]\n",
      "[3, 1, 1, 2, 2]\n",
      "[3, 1, 5]\n",
      "[3, 2, 2, 2]\n",
      "[1, 1, 1, 1, 1, 2, 2]\n",
      "[1, 1, 1, 1, 5]\n",
      "[1, 1, 1, 2, 2, 2]\n",
      "[1, 1, 2, 5]\n",
      "[2, 2, 5]\n"
     ]
    }
   ],
   "source": [
    "def change_combination_limit(amount, changes=[], limits=[], start=0, combo=[]):\n",
    "    \"\"\"\n",
    "       f(n,start) = Σ f(n - c[i], i)   i = [start, len(changes)]\n",
    "    \"\"\"\n",
    "    if amount == 0:\n",
    "        print(combo)\n",
    "        return\n",
    "\n",
    "    for i in range(start, len(changes)):\n",
    "        if amount >= changes[i] and limits[i] > 0:\n",
    "            limits[i] -= 1\n",
    "            change_combination_limit(amount - changes[i], changes, limits, i, combo + [changes[i]])\n",
    "            limits[i] += 1\n",
    "change_combination_limit(9, [3, 1, 2, 5, 10], [3,5,3,1,1])\n"
   ]
  },
  {
   "cell_type": "code",
   "execution_count": 37,
   "id": "3e41776a-eb9f-4060-adb6-d0b8a1261977",
   "metadata": {},
   "outputs": [
    {
     "data": {
      "text/plain": [
       "16"
      ]
     },
     "execution_count": 37,
     "metadata": {},
     "output_type": "execute_result"
    }
   ],
   "source": [
    "\n",
    "def change_combination_num(amount, changes=[], start=0):\n",
    "    if amount == 0:\n",
    "        return 1\n",
    "    cnt = 0\n",
    "    for i in range(start, len(changes)):\n",
    "        if amount >= changes[i]:\n",
    "            cnt += change_combination_num(amount - changes[i], changes, i)\n",
    "        else:\n",
    "            break\n",
    "    return cnt\n",
    "change_combination_num(9, [3, 1, 2, 5, 10])  "
   ]
  },
  {
   "cell_type": "code",
   "execution_count": 33,
   "id": "124fbd1d-a755-46ee-916f-8938a23f92db",
   "metadata": {},
   "outputs": [
    {
     "data": {
      "text/plain": [
       "12"
      ]
     },
     "execution_count": 33,
     "metadata": {},
     "output_type": "execute_result"
    }
   ],
   "source": [
    "def change_combination_num_limit(amount, changes=[], limits=[], start=0):\n",
    "    if amount == 0:\n",
    "        return 1\n",
    "    cnt = 0\n",
    "    for i in range(start, len(changes)):\n",
    "        if amount >= changes[i] and limits[i] > 0:\n",
    "            limits[i] -= 1\n",
    "            cnt += change_combination_num_limit(amount - changes[i], limits, changes, i)\n",
    "            limits[i] += 1\n",
    "    return cnt\n",
    "change_combination_num_limit(9, [3, 1, 2, 5, 10], [3,5,3,1,1]) "
   ]
  },
  {
   "cell_type": "code",
   "execution_count": 49,
   "id": "0269fc68-b0b7-4dc0-9e58-4e9fa1cb39e5",
   "metadata": {},
   "outputs": [
    {
     "name": "stdout",
     "output_type": "stream",
     "text": [
      "(16, [[3, 3, 3], [1, 1, 1, 3, 3], [1, 1, 1, 1, 1, 1, 3], [1, 1, 1, 1, 1, 1, 1, 1, 1], [2, 1, 3, 3], [2, 1, 1, 1, 1, 3], [2, 1, 1, 1, 1, 1, 1, 1], [2, 2, 1, 1, 3], [2, 2, 1, 1, 1, 1, 1], [2, 2, 2, 3], [2, 2, 2, 1, 1, 1], [2, 2, 2, 2, 1], [5, 1, 3], [5, 1, 1, 1, 1], [5, 2, 1, 1], [5, 2, 2]])\n"
     ]
    }
   ],
   "source": [
    "def change_combination_seq(amount, changes=[]):\n",
    "    \"\"\"\n",
    "    dp[i] = dp[i] + dp[i-c]\n",
    "    :param amount:\n",
    "    :param coins:\n",
    "    :return:\n",
    "    \"\"\"\n",
    "    dp = [0] * (amount + 1)\n",
    "    dp[0] = 1\n",
    "    dp_s = [[] for _ in range(amount + 1)]\n",
    "    dp_s[0] = [[]]\n",
    "    for change in changes:\n",
    "        for i in range(change, amount + 1):\n",
    "            dp[i] += dp[i - change]\n",
    "            for l in dp_s[i-change]:\n",
    "                dp_s[i].append([change] + l)\n",
    "\n",
    "    return dp[amount], dp_s[amount]\n",
    "\n",
    "\n",
    "print(change_combination_seq(9, [3, 1, 2, 5, 10]))\n",
    "\n"
   ]
  },
  {
   "cell_type": "code",
   "execution_count": 55,
   "id": "58e10d45-820c-4c63-b99b-b4ab847ef1b5",
   "metadata": {},
   "outputs": [
    {
     "name": "stdout",
     "output_type": "stream",
     "text": [
      "(12, [[3, 3, 3], [1, 1, 1, 3, 3], [2, 1, 3, 3], [2, 1, 1, 1, 1, 3], [2, 2, 1, 1, 3], [2, 2, 1, 1, 1, 1, 1], [2, 2, 2, 3], [2, 2, 2, 1, 1, 1], [5, 1, 3], [5, 1, 1, 1, 1], [5, 2, 1, 1], [5, 2, 2]])\n"
     ]
    }
   ],
   "source": [
    "def change_combination_seq_limits(amount, changes=[], limits=[]):\n",
    "    \"\"\"\n",
    "    dp[i] = dp[i] + dp[i-c]  剔除序列中超过limit的数据\n",
    "    :param amount:\n",
    "    :param coins:\n",
    "    :return:\n",
    "    \"\"\"\n",
    "    dp_s = [[] for _ in range(amount + 1)]\n",
    "    dp_s[0] = [[]]\n",
    "    for c, change in enumerate(changes):\n",
    "        for i in range(change, amount + 1):\n",
    "            for l in dp_s[i-change]:\n",
    "                c_count = 0\n",
    "                for x in l:\n",
    "                    c_count += 1 if x == change else 0\n",
    "                if c_count < limits[c]:\n",
    "                    dp_s[i].append([change] + l)\n",
    "            \n",
    "    return len(dp_s[amount]), dp_s[amount]\n",
    "\n",
    "\n",
    "print(change_combination_seq_limits(9, [3, 1, 2, 5, 10], [3,5,3,1,1]))"
   ]
  },
  {
   "cell_type": "code",
   "execution_count": null,
   "id": "d2bccf7b-a3a3-4f0a-bb1e-d88cb0718b5b",
   "metadata": {},
   "outputs": [],
   "source": []
  }
 ],
 "metadata": {
  "kernelspec": {
   "display_name": "Python 3 (ipykernel)",
   "language": "python",
   "name": "python3"
  },
  "language_info": {
   "codemirror_mode": {
    "name": "ipython",
    "version": 3
   },
   "file_extension": ".py",
   "mimetype": "text/x-python",
   "name": "python",
   "nbconvert_exporter": "python",
   "pygments_lexer": "ipython3",
   "version": "3.12.1"
  }
 },
 "nbformat": 4,
 "nbformat_minor": 5
}
