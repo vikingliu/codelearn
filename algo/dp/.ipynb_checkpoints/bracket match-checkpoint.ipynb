{
 "cells": [
  {
   "cell_type": "code",
   "execution_count": null,
   "id": "c0465b2e-b213-4d10-ba80-4ef8d84a1393",
   "metadata": {
    "scrolled": true
   },
   "outputs": [],
   "source": [
    "# coding=utf-8\n",
    "def find_single_bracket_match(n):\n",
    "    def dfs(left, right, pre):\n",
    "        if left == 0 and left == right:\n",
    "            print(pre)\n",
    "        if left > 0:\n",
    "        # left 可以随便加\n",
    "            dfs(left - 1, right, pre + '(')\n",
    "        if right > left:\n",
    "        # 合法检测\n",
    "            dfs(left, right - 1, pre + ')')\n",
    "    dfs(n, n, '')\n",
    "find_single_bracket_match(4)"
   ]
  },
  {
   "cell_type": "code",
   "execution_count": null,
   "id": "a9e65448-6a5f-497e-85c1-6c0ab68ec846",
   "metadata": {},
   "outputs": [],
   "source": [
    "def find_double_bracket_match(small, big):\n",
    "    def dfs(s_left, s_right, b_left, b_right, pre):\n",
    "        if s_left == 0 and s_left == s_right and b_left == 0 and b_left == b_right:\n",
    "            print(pre)\n",
    "\n",
    "        if s_left == s_right:\n",
    "         # first generate []\n",
    "            if b_left > 0:\n",
    "                dfs(s_left, s_right, b_left - 1, b_right, pre + '[')\n",
    "            if b_right > b_left and pre[-1] != '[':\n",
    "                # filter []\n",
    "                dfs(s_left, s_right, b_left, b_right - 1, pre + ']')\n",
    "        # generate ()\n",
    "        if s_left > 0:\n",
    "            dfs(s_left - 1, s_right, b_left, b_right, pre + '(')\n",
    "        if s_right > s_left:\n",
    "            dfs(s_left, s_right - 1, b_left, b_right, pre + ')')\n",
    "    dfs(small, small, big, big, '')\n",
    "\n",
    "find_double_bracket_match(3,2)"
   ]
  },
  {
   "cell_type": "code",
   "execution_count": null,
   "id": "7682fe42-4625-40c7-902d-e8625e6ce210",
   "metadata": {},
   "outputs": [],
   "source": [
    "def find_single_bracket_match_dp_catalan(n):\n",
    "    # catalan 数， 参考catalan的推导\n",
    "    dp = [''] * (n + 1)\n",
    "    dp[0] = ['']\n",
    "    # dp[i] 表示i个括号生成的所有合法序列\n",
    "    # dp[i] = ∑(dp[k])dp[i-k-1],  0≤k<i\n",
    "    # dp[i] = (dp[0])dp[i-1] + (dp[1])dp[i-2] + .... (dp[i-1])dp[0]\n",
    "    for i in range(1, n + 1):\n",
    "        dp[i] = []\n",
    "        for j in range(0, i):\n",
    "            left = dp[j]\n",
    "            right = dp[i - j - 1]\n",
    "            for l in left:\n",
    "                for r in right:\n",
    "                    dp[i].append('(' + l + ')' + r)\n",
    "    return dp[-1]\n",
    "\n",
    "print(find_single_bracket_match_dp_catalan(4))"
   ]
  },
  {
   "cell_type": "code",
   "execution_count": 42,
   "id": "7d5a5778-b341-4f8c-b4ed-517ad724d656",
   "metadata": {},
   "outputs": [
    {
     "name": "stdout",
     "output_type": "stream",
     "text": [
      "42\n"
     ]
    }
   ],
   "source": [
    "def find_bracket_match_non_dfs(n):\n",
    "    # 原理跟 dfs 差不多，每次判断left和right的值，看合法性，在已生成的集合上添加left 或者 right\n",
    "    brackets = [('', 0, 0)]\n",
    "    for i in range(2*n):\n",
    "        # 每次添加一个left或者一个right，总共添加 2*n次\n",
    "        new_brackets = []\n",
    "        for j, bracket in enumerate(brackets):\n",
    "            s, left, right = bracket\n",
    "            if left < n:\n",
    "                new_brackets.append((s + '(', left + 1, right))\n",
    "            if right < left:\n",
    "                new_brackets.append((s + ')', left, right + 1))\n",
    "        brackets = new_brackets\n",
    "            \n",
    "    return [b[0] for b in brackets]\n",
    "print(find_bracket_match_non_dfs(5))"
   ]
  },
  {
   "cell_type": "code",
   "execution_count": 61,
   "id": "ca3f4b3a-b4d9-46d8-ba7f-c711a237b713",
   "metadata": {},
   "outputs": [
    {
     "name": "stdout",
     "output_type": "stream",
     "text": [
      "{'(((((())', '((((((()', '((((()))', '(((())))'}\n"
     ]
    }
   ],
   "source": [
    "def find_bracket_match_dfs_stack(n, left_stack=0, pre='', brackets=[]):\n",
    "    if n == 0:\n",
    "        # 剩下的左括号全部出栈\n",
    "        res =  pre  + ')' * left_stack\n",
    "        brackets.append(res)\n",
    "        return\n",
    "\n",
    "    \n",
    "    # left 入栈\n",
    "    find_bracket_match_dfs_stack(n - 1, left_stack + 1, pre+'(',brackets)\n",
    "\n",
    "    cur = ''\n",
    "    if left_stack > 0 :\n",
    "    \n",
    "        # left 继续入栈\n",
    "        find_bracket_match_dfs_stack(n, left_stack - 1, pre + '(',brackets)\n",
    "brackets=[]\n",
    "find_bracket_match_dfs_stack(4, brackets=brackets)\n",
    "print(set(brackets))"
   ]
  },
  {
   "cell_type": "code",
   "execution_count": 49,
   "id": "79406189-d290-42c6-8f2b-babe8603db3e",
   "metadata": {},
   "outputs": [
    {
     "name": "stdout",
     "output_type": "stream",
     "text": [
      "(((())))\n",
      "((()()))\n",
      "((())())\n",
      "((()))()\n",
      "(()(()))\n",
      "(()()())\n",
      "(()())()\n",
      "(())(())\n",
      "(())()()\n",
      "()((()))\n",
      "()(()())\n",
      "()(())()\n",
      "()()(())\n",
      "()()()()\n"
     ]
    }
   ],
   "source": [
    "def find_bracket_bracket_match_dfs_stack(n, left_stack=0, res=''):\n",
    "    if n == 0:\n",
    "        print(res + ')' * left_stack)\n",
    "        return\n",
    "    # ( 入栈\n",
    "    find_bracket_bracket_match_dfs_stack(n - 1, left_stack + 1, res + '(')\n",
    "    if left_stack > 0:\n",
    "        # ( 出栈 + ）\n",
    "        find_bracket_bracket_match_dfs_stack(n, left_stack - 1, res + ')')\n",
    "\n",
    "find_bracket_bracket_match_dfs_stack(4)\n",
    "\n"
   ]
  },
  {
   "cell_type": "code",
   "execution_count": null,
   "id": "79e69435-553e-4be0-9fc5-a3c374851e77",
   "metadata": {},
   "outputs": [],
   "source": []
  }
 ],
 "metadata": {
  "kernelspec": {
   "display_name": "Python 3 (ipykernel)",
   "language": "python",
   "name": "python3"
  },
  "language_info": {
   "codemirror_mode": {
    "name": "ipython",
    "version": 3
   },
   "file_extension": ".py",
   "mimetype": "text/x-python",
   "name": "python",
   "nbconvert_exporter": "python",
   "pygments_lexer": "ipython3",
   "version": "3.12.1"
  }
 },
 "nbformat": 4,
 "nbformat_minor": 5
}
