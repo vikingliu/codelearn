{
 "cells": [
  {
   "cell_type": "code",
   "execution_count": null,
   "id": "248ec608-ce77-4035-ada7-e754f1fc7822",
   "metadata": {},
   "outputs": [],
   "source": [
    "# coding=utf-8\n",
    "\n",
    "'''\n",
    "一个m行n列的迷宫，迷宫左上角是入口，右下角是出口，每次只能向下或者向右走一格，问从入口到出口总共有多少种走法\n",
    "\n",
    "dp[i][j] = dp[i - 1][j] + dp[i][j - 1]\n",
    "dp[i - 1][j] 下走\n",
    "dp[i][j - 1] 右走\n",
    "\n",
    "'''\n",
    "\n",
    "\n",
    "def f(n, m):\n",
    "    n += 1\n",
    "    m += 1\n",
    "    dp = [[1] * m for _ in range(n)]\n",
    "    for i in range(1, n):\n",
    "        for j in range(1, m):\n",
    "            dp[i][j] = dp[i - 1][j] + dp[i][j - 1]\n",
    "    return dp[-1][-1]\n",
    "\n",
    "\n",
    "print(f(3, 3))\n"
   ]
  }
 ],
 "metadata": {
  "kernelspec": {
   "display_name": "Python 3 (ipykernel)",
   "language": "python",
   "name": "python3"
  },
  "language_info": {
   "codemirror_mode": {
    "name": "ipython",
    "version": 3
   },
   "file_extension": ".py",
   "mimetype": "text/x-python",
   "name": "python",
   "nbconvert_exporter": "python",
   "pygments_lexer": "ipython3",
   "version": "3.8.2"
  }
 },
 "nbformat": 4,
 "nbformat_minor": 5
}
