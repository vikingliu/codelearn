{
 "cells": [
  {
   "cell_type": "markdown",
   "id": "dadda28f-0e13-459a-86fc-c0c67867c67a",
   "metadata": {},
   "source": [
    "最短编辑距离  \n",
    "字符串s1 <=> 字符串s2,  通过增删改， 权重一样\n",
    "dp[i][j] = dp[i-1][j-1]  if s1[i] == s2[j]\n",
    "dp[i][j] = min(dp[i-1][j], dp[i][j-1], dp[i-1][j-1]) + 1,  if s1[i] <> s2[j]\n",
    "dp[i-1][j-1] 改， dp[i][j-1] 增，dp[i-1][j] 删\n",
    "\n",
    "初始化 dp[0][j] = j, dp[i][0] = i\n",
    "\n"
   ]
  },
  {
   "cell_type": "code",
   "execution_count": 8,
   "id": "18b2bbb2-be5b-49f3-be80-9439822408c8",
   "metadata": {},
   "outputs": [
    {
     "name": "stdout",
     "output_type": "stream",
     "text": [
      "4\n",
      "4\n",
      "4\n"
     ]
    }
   ],
   "source": [
    "\n",
    "def min_edit_distance(word1, word2):\n",
    "    n = len(word1)\n",
    "    m = len(word2)\n",
    "    if n == 0 or m == 0:\n",
    "        return max(n, m)\n",
    "    dp = [[0] * (m + 1) for j in range(n + 1)]\n",
    "    for i in range(1, n + 1):\n",
    "        dp[i][0] = i\n",
    "        if i == 1:\n",
    "            for j in range(1, m + 1):\n",
    "                dp[0][j] = j\n",
    "        for j in range(1, m + 1):\n",
    "            if word1[i - 1] == word2[j - 1]:\n",
    "                dp[i][j] = dp[i - 1][j - 1]\n",
    "            else:\n",
    "                dp[i][j] = min(dp[i][j - 1] , dp[i - 1][j] , dp[i - 1][j - 1] ) + 1\n",
    "    return dp[-1][-1]\n",
    "\n",
    "\n",
    "def min_edit_distance_optimize_space(word1, word2):\n",
    "    n = len(word1)\n",
    "    m = len(word2)\n",
    "\n",
    "    if n > m:\n",
    "        word1, word2 = word2, word1\n",
    "        n, m = m, n\n",
    "    if n == 0:\n",
    "        return m\n",
    "    dp = [i for i in range(n + 1)]\n",
    "    dp_ij = 0\n",
    "    for j in range(1, m + 1):\n",
    "        for i in range(1, n + 1):\n",
    "            c = 0 if word1[i - 1] == word2[j - 1] else 1\n",
    "            # dp[i] == dp[i][j-1]\n",
    "            # dp[i-1] == dp[i-1][j-1]\n",
    "            # d_ij == dp[i-1][j]\n",
    "            dp_i_1_j_1 = dp[i - 1] + c\n",
    "            dp_i_1_j = dp_ij if i > 1 else j\n",
    "            # dp[i-1][j-1] for the next is dp[i-1][j]\n",
    "            dp[i - 1] = dp_i_1_j\n",
    "\n",
    "            #dp_ij = min(min(dp_i_1_j, dp_i_j1) + 1, dp_i_1_j_1 + c)\n",
    "            dp_ij = dp_i_1_j + 1 if dp_i_1_j < dp[i] else dp[i] + 1\n",
    "            dp_ij = dp_ij if dp_ij < dp_i_1_j_1 else dp_i_1_j_1\n",
    "\n",
    "        dp[-1] = dp_ij\n",
    "\n",
    "    return dp[-1]\n",
    "\n",
    "\n",
    "def min_edit_distance_dfs(word1, word2):\n",
    "    def min_distance(i, j):\n",
    "        if i < 0: # 初始化 dp[0][j] = j + 1\n",
    "            return j + 1\n",
    "        elif j < 0: # 初始化 dp[i][0] = i + 1\n",
    "            return i + 1\n",
    "\n",
    "        if dp[i][j] == -1:\n",
    "            if word1[i] == word2[j]:\n",
    "                # dp[i][j] = dp[i-1][j-1]\n",
    "                dp[i][j] = min_distance(i - 1, j - 1)\n",
    "            else:\n",
    "                \n",
    "                add_dis = min_distance(i, j - 1)# dp[i][j-1]\n",
    "                del_dis = min_distance(i - 1, j)# dp[i-1][j]\n",
    "                rep_dis = min_distance(i - 1, j - 1) #dp[i-1][j-1]\n",
    "                dp[i][j] = 1 + min(add_dis, del_dis, rep_dis) \n",
    "                #dp[i][j] = min(dp[i-1][j], dp[i][j-1], dp[i-1][j-1]) + 1\n",
    "\n",
    "        return dp[i][j]\n",
    "\n",
    "    dp = [[-1] * len(word2) for _ in word1]\n",
    "    return min_distance(len(word1) - 1, len(word2) - 1)\n",
    "\n",
    "s1='abcde'\n",
    "s2='acefdg'\n",
    "print(min_edit_distance(s1,s2))\n",
    "print(min_edit_distance_optimize_space(s1,s2))\n",
    "print(min_edit_distance_dfs(s1,s2))"
   ]
  },
  {
   "cell_type": "code",
   "execution_count": null,
   "id": "d4dbbeb1-3af4-4165-8ab4-75bff02f5fbd",
   "metadata": {},
   "outputs": [],
   "source": []
  }
 ],
 "metadata": {
  "kernelspec": {
   "display_name": "Python 3 (ipykernel)",
   "language": "python",
   "name": "python3"
  },
  "language_info": {
   "codemirror_mode": {
    "name": "ipython",
    "version": 3
   },
   "file_extension": ".py",
   "mimetype": "text/x-python",
   "name": "python",
   "nbconvert_exporter": "python",
   "pygments_lexer": "ipython3",
   "version": "3.12.1"
  }
 },
 "nbformat": 4,
 "nbformat_minor": 5
}
