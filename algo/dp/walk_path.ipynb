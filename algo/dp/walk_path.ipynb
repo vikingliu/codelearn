{
 "cells": [
  {
   "cell_type": "code",
   "execution_count": 1,
   "id": "0156ee8c-043f-4001-a46e-9e42385559be",
   "metadata": {},
   "outputs": [
    {
     "name": "stdout",
     "output_type": "stream",
     "text": [
      "[1, 1, 1, -1]\n",
      "[1, 1, -1, 1]\n",
      "[1, -1, 1, 1]\n",
      "[-1, 1, 1, 1]\n",
      "4\n"
     ]
    }
   ],
   "source": [
    "# coding=utf-8\n",
    "\n",
    "\n",
    "def walk(N, m, p, k, path=[]):\n",
    "    \"\"\"\n",
    "    多少种走法\n",
    "    :param N:\n",
    "    :param m: start\n",
    "    :param p: end position\n",
    "    :param k: max k-step\n",
    "    :param path: from m to p steps\n",
    "    :return:    \n",
    "    \"\"\"\n",
    "\n",
    "    step = len(path)\n",
    "    if step > k or m > N or m < 1:\n",
    "        return 0\n",
    "    if m == p and k == step:\n",
    "        print(path)\n",
    "        return 1\n",
    "    return walk(N, m + 1, p, k, path + [1]) + walk(N, m - 1, p, k, path + [-1])\n",
    "\n",
    "\n",
    "if __name__ == '__main__':\n",
    "    print(walk(5, 2, 4, 4))"
   ]
  },
  {
   "cell_type": "code",
   "execution_count": null,
   "id": "72480c6c-c9de-42e8-bffb-16a6d65047d0",
   "metadata": {},
   "outputs": [],
   "source": []
  }
 ],
 "metadata": {
  "kernelspec": {
   "display_name": "Python 3 (ipykernel)",
   "language": "python",
   "name": "python3"
  },
  "language_info": {
   "codemirror_mode": {
    "name": "ipython",
    "version": 3
   },
   "file_extension": ".py",
   "mimetype": "text/x-python",
   "name": "python",
   "nbconvert_exporter": "python",
   "pygments_lexer": "ipython3",
   "version": "3.12.1"
  }
 },
 "nbformat": 4,
 "nbformat_minor": 5
}
