{
 "cells": [
  {
   "cell_type": "code",
   "execution_count": 1,
   "id": "c0465b2e-b213-4d10-ba80-4ef8d84a1393",
   "metadata": {},
   "outputs": [
    {
     "name": "stdout",
     "output_type": "stream",
     "text": [
      "[[''], ['()'], ['()()', '(())'], ['()()()', '()(())', '(())()', '(()())', '((()))']]\n"
     ]
    },
    {
     "data": {
      "text/plain": [
       "['()()()', '()(())', '(())()', '(()())', '((()))']"
      ]
     },
     "execution_count": 1,
     "metadata": {},
     "output_type": "execute_result"
    }
   ],
   "source": [
    "# coding=utf-8\n",
    "def find_single_bracket_match(n):\n",
    "    def dfs(left, right, pre):\n",
    "        if left == 0 and left == right:\n",
    "            print(pre)\n",
    "        if left > 0:\n",
    "        # left 可以随便加\n",
    "            dfs(left - 1, right, pre + '(')\n",
    "        if right > left:\n",
    "        # 合法检测\n",
    "            dfs(left, right - 1, pre + ')')\n",
    "    dfs(n, n, '')\n",
    "\n",
    "\n",
    "def find_double_bracket_match(small, big):\n",
    "    def dfs(s_left, s_right, b_left, b_right, pre):\n",
    "        if s_left == 0 and s_left == s_right and b_left == 0 and b_left == b_right:\n",
    "            print(pre)\n",
    "\n",
    "        if s_left == s_right:\n",
    "         # first generate []\n",
    "            if b_left > 0:\n",
    "                dfs(s_left, s_right, b_left - 1, b_right, pre + '[')\n",
    "            if b_right > b_left and pre[-1] != '[':\n",
    "                # filter []\n",
    "                dfs(s_left, s_right, b_left, b_right - 1, pre + ']')\n",
    "        # generate ()\n",
    "        if s_left > 0:\n",
    "            dfs(s_left - 1, s_right, b_left, b_right, pre + '(')\n",
    "        if s_right > s_left:\n",
    "            dfs(s_left, s_right - 1, b_left, b_right, pre + ')')\n",
    "    dfs(small, small, big, big, '')\n",
    "\n",
    "\n",
    "def find_single_bracket_match_dp(n):\n",
    "    dp = [''] * (n + 1)\n",
    "    dp[0] = ['']\n",
    "    # dp[i] 表示i个括号生成的所有合法序列\n",
    "    # dp[i] = ∑(dp[k])dp[i-k-1],  0≤k<i\n",
    "    # dp[i] = (dp[0])dp[i-1] + (dp[1])dp[i-2] + .... (dp[i-1])dp[0]\n",
    "    for i in range(1, n + 1):\n",
    "        dp[i] = []\n",
    "        for j in range(0, i):\n",
    "            left = dp[j]\n",
    "            right = dp[i - j - 1]\n",
    "            for l in left:\n",
    "                for r in right:\n",
    "                    dp[i].append('(' + l + ')' + r)\n",
    "    print(dp)\n",
    "    return dp[-1]\n",
    "\n",
    "\n",
    "#find_single_bracket_match(4)\n",
    "#find_double_bracket_match(3,2)\n",
    "find_single_bracket_match_dp(3)"
   ]
  },
  {
   "cell_type": "code",
   "execution_count": null,
   "id": "757e4a14-8b0f-44b5-a0f6-13658f968a85",
   "metadata": {},
   "outputs": [],
   "source": []
  }
 ],
 "metadata": {
  "kernelspec": {
   "display_name": "Python 3 (ipykernel)",
   "language": "python",
   "name": "python3"
  },
  "language_info": {
   "codemirror_mode": {
    "name": "ipython",
    "version": 3
   },
   "file_extension": ".py",
   "mimetype": "text/x-python",
   "name": "python",
   "nbconvert_exporter": "python",
   "pygments_lexer": "ipython3",
   "version": "3.12.1"
  }
 },
 "nbformat": 4,
 "nbformat_minor": 5
}
