{
 "cells": [
  {
   "cell_type": "markdown",
   "id": "ab1687f6-1db6-4329-bdaf-c9e0c543ec7c",
   "metadata": {},
   "source": [
    "### 问题介绍\n",
    "\n",
    "1. 物品 A = [$a_0$,$a_1$,...$a_{n-1}$]  $a_i$ 表示 物品体积\n",
    "2. 价值 V = [$v_0$,$v_1$,...$v_{n-1}$]  $v_i$ 表示物品 ai的价值\n",
    "3. 数量 C = [$c_0$,$c_1$,....$c_{n-1}$] $c_i$ 表示物品 ai的个数\n",
    " * 如果$c_i$ 取值0-1  就是 0-1背包问题\n",
    " * 如果$c_i$ 取值无穷，就是完全背包问题\n",
    " * 如果$c_i$ 取值K，就是多重背包问题\n",
    "4. 背包容量 W\n",
    "\n",
    "求不超过背包容量W的情况下，能装下物品的最大价值\n",
    "\n",
    " max($\\sum_0^{n-1}v_i * c_i$) , if $\\sum_0^{n-1}a_i$ < W\n",
    "\n",
    " 完全和多重背包都可以转化成成0-1背包\n",
    " \n",
    "### 解法\n",
    "1. 暴力搜索（求所有组合）\n",
    "2. 贪心算法（非最优）\n",
    "3. 动态规划（最优方法）\n",
    "\n",
    "dp[i][j] 表示在容量j和前i个商品的最大价值, 0$\\leq$ i $\\leq$ n, 0$\\leq$ j $\\leq$ W\n",
    "\n",
    "0-1背包： dp[i][j] = max(dp[i-1][j], dp[i-1][j-A[i]] + V[i]) , if j $\\geq$ A[i]  \n",
    "// dp[i-1][j] 不取当前 A[i]的最大价值  \n",
    "// dp[i-1][j-A[i]] + V[i], 取当前A[i]的最大价值， j $\\geq$ A[i]\n",
    "\n",
    "完全和多重可以转化成0-1背包问题，$c_i$ $\\leq$ W/$a_i$\n",
    "\n",
    "dp[i][j] = max(dp[i-1][j], dp[i-1][j-k*A[i]] + k*V[i]) , if j $\\geq$ A[i], k $\\leq$ C[i] \n",
    "\n",
    "## 优化\n",
    "dp[i][j] = max(dp[i-1][j], dp[i-1][j-k*A[i]] + k*V[i])  \n",
    "dp[i] 只跟 dp[i-1] 相关所以可以简化  \n",
    "dp[j] = max(dp[j], dp[j-k*A[i]] + k*V[i]) -- 必须逆序计算"
   ]
  },
  {
   "cell_type": "code",
   "execution_count": 2,
   "id": "faf2160f-e7a1-4670-aa23-fed3a25c14e9",
   "metadata": {},
   "outputs": [
    {
     "name": "stdout",
     "output_type": "stream",
     "text": [
      "(200, [4, 4])\n"
     ]
    }
   ],
   "source": [
    "#coding=utf-8\n",
    "\n",
    "def get_max_package_value(A, V, W, C=None):\n",
    "    if C is True:\n",
    "        # infinity\n",
    "        C = [W//item for item in A]\n",
    "        \n",
    "    if C is None:\n",
    "        # just one\n",
    "        C = [1] * len(A)\n",
    "    \n",
    "    dp = [0] * (W+1)\n",
    "    record = [[] for _ in range(W + 1)]\n",
    "    for i in range(len(A)):\n",
    "        K = min(W//A[i], C[i])  # max K\n",
    "        for k in range(1, K+1):\n",
    "            for j in range(W, -1, -1):\n",
    "                if j >= k*A[i]:\n",
    "                    if dp[j-k*A[i]] + k * V[i] > dp[j]:\n",
    "                        record[j] = record[j - k*A[i]] + k * [A[i]]\n",
    "                    dp[j] = max(dp[j], dp[j-k*A[i]] + k * V[i])\n",
    "    return dp[-1], record[-1]\n",
    "\n",
    "A = [2,3,4,5]\n",
    "V = [30,50,100,100]\n",
    "C = True\n",
    "W = 8\n",
    "print(get_max_package_value(A,V,W, C))"
   ]
  },
  {
   "cell_type": "code",
   "execution_count": null,
   "id": "c1160071-2a1a-44c8-949d-38e306bf3599",
   "metadata": {},
   "outputs": [],
   "source": []
  }
 ],
 "metadata": {
  "kernelspec": {
   "display_name": "Python 3 (ipykernel)",
   "language": "python",
   "name": "python3"
  },
  "language_info": {
   "codemirror_mode": {
    "name": "ipython",
    "version": 3
   },
   "file_extension": ".py",
   "mimetype": "text/x-python",
   "name": "python",
   "nbconvert_exporter": "python",
   "pygments_lexer": "ipython3",
   "version": "3.12.1"
  }
 },
 "nbformat": 4,
 "nbformat_minor": 5
}
