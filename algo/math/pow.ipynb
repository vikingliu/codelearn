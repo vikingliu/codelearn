{
 "cells": [
  {
   "cell_type": "code",
   "execution_count": 4,
   "id": "e63548ad-77bd-46ab-8a39-c36215a82450",
   "metadata": {},
   "outputs": [
    {
     "data": {
      "text/plain": [
       "128"
      ]
     },
     "execution_count": 4,
     "metadata": {},
     "output_type": "execute_result"
    }
   ],
   "source": [
    "# coding=utf-8\n",
    "def pow_int(n, m):\n",
    "    if m == 0:\n",
    "        return 1\n",
    "    if m == 1:\n",
    "        return n\n",
    "    # res = n ^ (m/2) * n ^ (m/2) * n ^ (m % 2)\n",
    "    r = pow(n, m >> 1)\n",
    "    return r * r * pow_int(n, m % 2)\n",
    "\n",
    "pow_int(2,7)\n",
    "    "
   ]
  },
  {
   "cell_type": "code",
   "execution_count": null,
   "id": "9ee2a357-c8d0-4635-8c6f-10c9e687b580",
   "metadata": {},
   "outputs": [],
   "source": [
    "def pow_float(n, m):\n",
    "    \n",
    "    "
   ]
  },
  {
   "cell_type": "code",
   "execution_count": null,
   "id": "a00b71ce-9711-4f6f-a02f-7bb533d888d7",
   "metadata": {},
   "outputs": [],
   "source": [
    "def pow_all(n, m):\n",
    "    # n ^ m = n ^ (int(m) + m - int(m)) = n^int(m) * n^(m - int(m))\n",
    "    x = int(m)\n",
    "    y = m - x\n",
    "    return pow_int(n, x) * pow_float(n, y)"
   ]
  }
 ],
 "metadata": {
  "kernelspec": {
   "display_name": "Python 3 (ipykernel)",
   "language": "python",
   "name": "python3"
  },
  "language_info": {
   "codemirror_mode": {
    "name": "ipython",
    "version": 3
   },
   "file_extension": ".py",
   "mimetype": "text/x-python",
   "name": "python",
   "nbconvert_exporter": "python",
   "pygments_lexer": "ipython3",
   "version": "3.12.1"
  }
 },
 "nbformat": 4,
 "nbformat_minor": 5
}
