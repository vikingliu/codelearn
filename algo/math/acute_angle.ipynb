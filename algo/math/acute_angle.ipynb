{
 "cells": [
  {
   "cell_type": "markdown",
   "id": "1ddf29fb-76ce-47cd-8181-4cce42b8496e",
   "metadata": {},
   "source": [
    "圆上去三个点 锐角三角形概率\n",
    "\n",
    "<img src=\"./img/acute_angle.jpeg\" style=\"zoom:30%\">\n"
   ]
  },
  {
   "cell_type": "code",
   "execution_count": 5,
   "id": "9e9b006e-c5fc-4b2e-979d-3ebb3f67837f",
   "metadata": {},
   "outputs": [
    {
     "name": "stdout",
     "output_type": "stream",
     "text": [
      "acute angle:\t0.250569\n",
      "obtuse angle:\t0.749431\n",
      "right angle:\t0.0\n",
      "\n"
     ]
    }
   ],
   "source": [
    "import math\n",
    "import random\n",
    "\n",
    "\n",
    "def simulation(N):\n",
    "    obtuse_angle, acute_angle, right_angle = 0, 0, 0\n",
    "    for _ in range(N):\n",
    "        # 半径为1的周长 = 2π\n",
    "        points = [random.random() * 2 * math.pi, random.random() * 2 * math.pi, random.random() * 2 * math.pi]\n",
    "        points.sort()\n",
    "        A, B, C = points\n",
    "        side = [chord(B - A), chord(C - B), chord(2 * math.pi - (C - A))]\n",
    "        side.sort()\n",
    "        x, y, z = side\n",
    "        judgeFlag = judge(x, y, z)\n",
    "        if judgeFlag == -1:\n",
    "            acute_angle += 1\n",
    "        if judgeFlag == 1:\n",
    "            obtuse_angle += 1\n",
    "        if judgeFlag == 0:\n",
    "            right_angle += 1\n",
    "    return acute_angle / N, obtuse_angle / N, right_angle / N\n",
    "\n",
    "\n",
    "def chord(theta):\n",
    "    if theta > math.pi:\n",
    "        theta = 2 * math.pi - theta\n",
    "    # 弦长 2 * sin(θ/2)\n",
    "    return 2 * math.sin(theta / 2)\n",
    "\n",
    "\n",
    "def judge(x, y, z):\n",
    "     # x^2 + y^2 > z ^2 锐角\n",
    "    if x ** 2 + y ** 2 > z ** 2:\n",
    "        return -1\n",
    "     # x^2 + y^2 > z ^2 钝角\n",
    "    elif x ** 2 + y ** 2 < z ** 2:\n",
    "        return 1\n",
    "     # x^2 + y^2 > z ^2 直角\n",
    "    else:\n",
    "        return 0\n",
    "\n",
    "\n",
    "acute, obtuse, right = simulation(1000000)\n",
    "print('acute angle:\\t{0}\\nobtuse angle:\\t{1}\\nright angle:\\t{2}\\n'.format(acute, obtuse, right))"
   ]
  },
  {
   "cell_type": "code",
   "execution_count": null,
   "id": "34cfb92e-96fa-420a-9dab-62db1beeec35",
   "metadata": {},
   "outputs": [],
   "source": []
  }
 ],
 "metadata": {
  "kernelspec": {
   "display_name": "Python 3 (ipykernel)",
   "language": "python",
   "name": "python3"
  },
  "language_info": {
   "codemirror_mode": {
    "name": "ipython",
    "version": 3
   },
   "file_extension": ".py",
   "mimetype": "text/x-python",
   "name": "python",
   "nbconvert_exporter": "python",
   "pygments_lexer": "ipython3",
   "version": "3.8.2"
  }
 },
 "nbformat": 4,
 "nbformat_minor": 5
}
