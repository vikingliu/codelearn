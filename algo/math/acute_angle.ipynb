{
 "cells": [
  {
   "cell_type": "markdown",
   "id": "1ddf29fb-76ce-47cd-8181-4cce42b8496e",
   "metadata": {},
   "source": [
    "圆上去三个点 锐角三角形概率\n",
    "\n",
    "<img src=\"./img/acute_angle.jpeg\" style=\"zoom:30%\">\n"
   ]
  },
  {
   "cell_type": "code",
   "execution_count": null,
   "id": "9e9b006e-c5fc-4b2e-979d-3ebb3f67837f",
   "metadata": {},
   "outputs": [],
   "source": []
  }
 ],
 "metadata": {
  "kernelspec": {
   "display_name": "Python 3 (ipykernel)",
   "language": "python",
   "name": "python3"
  },
  "language_info": {
   "codemirror_mode": {
    "name": "ipython",
    "version": 3
   },
   "file_extension": ".py",
   "mimetype": "text/x-python",
   "name": "python",
   "nbconvert_exporter": "python",
   "pygments_lexer": "ipython3",
   "version": "3.12.1"
  }
 },
 "nbformat": 4,
 "nbformat_minor": 5
}
