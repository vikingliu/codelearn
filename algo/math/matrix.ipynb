{
 "cells": [
  {
   "cell_type": "code",
   "execution_count": 2,
   "id": "02f86cb9-1abc-4808-886c-a9730ddc1865",
   "metadata": {},
   "outputs": [
    {
     "name": "stdout",
     "output_type": "stream",
     "text": [
      "[[0, 4, 5], [6, 6, 5], [14, 2, 0]]\n"
     ]
    }
   ],
   "source": [
    "def add(A, B):\n",
    "    rst = []\n",
    "    for i in range(len(A)):\n",
    "        row = [0] * len(A[i])\n",
    "        for j in range(len(A[i])):\n",
    "            row[j] = A[i][j] + B[i][j] \n",
    "        rst.append(row)\n",
    "    return rst\n",
    "A = [[1,2,2],\n",
    "    [4,3,1],\n",
    "    [5,-6,7]]\n",
    "\n",
    "B = [[-1,2,3],\n",
    "    [2,3,4],\n",
    "    [9,8,-7]]\n",
    "\n",
    "print(add(A,B))"
   ]
  },
  {
   "cell_type": "code",
   "execution_count": 3,
   "id": "4b6237fb-8653-42bb-b81d-9573f04f9b04",
   "metadata": {},
   "outputs": [
    {
     "name": "stdout",
     "output_type": "stream",
     "text": [
      "[[1, 4, 5], [2, 3, -6], [2, 1, 7]]\n"
     ]
    }
   ],
   "source": [
    "def T(A):\n",
    "    rst = []\n",
    "    for j in range(len(A[0])):\n",
    "        row = [0] * len(A)\n",
    "        for i in range(len(A)):\n",
    "            row[i] = A[i][j]\n",
    "        rst.append(row)\n",
    "    return rst\n",
    "A = [[1,2,2],\n",
    "    [4,3,1],\n",
    "    [5,-6,7]]\n",
    "print(T(A))"
   ]
  },
  {
   "cell_type": "code",
   "execution_count": 9,
   "id": "67a6268b-cd2e-4256-8317-acbca09c6857",
   "metadata": {},
   "outputs": [
    {
     "name": "stdout",
     "output_type": "stream",
     "text": [
      "[[21, 24], [11, 25]]\n"
     ]
    }
   ],
   "source": [
    "def multi(A, B):\n",
    "    \"\"\"\n",
    "    A = n*m ,  B = m*n\n",
    "    len(A[0]) = len(B)\n",
    "    \"\"\"\n",
    "    rst = []\n",
    "    for a_i in range(len(A)):\n",
    "        row = [0] * len(B[0])\n",
    "        for b_j in range(len(B[0])):\n",
    "            item = 0 \n",
    "            for k in range(len(A[0])):\n",
    "                item += A[a_i][k] * B[k][b_j]\n",
    "            row[b_j] = item\n",
    "        rst.append(row)\n",
    "    return rst\n",
    "A = [[1,2,2],\n",
    "    [4,3,1]]\n",
    "\n",
    "B = [[-1,2],\n",
    "    [2,3],\n",
    "    [9,8]]\n",
    "print(multi(A,B))"
   ]
  },
  {
   "cell_type": "code",
   "execution_count": null,
   "id": "453e5916-3053-429f-b648-c64bd62ebe9e",
   "metadata": {},
   "outputs": [],
   "source": []
  }
 ],
 "metadata": {
  "kernelspec": {
   "display_name": "Python 3 (ipykernel)",
   "language": "python",
   "name": "python3"
  },
  "language_info": {
   "codemirror_mode": {
    "name": "ipython",
    "version": 3
   },
   "file_extension": ".py",
   "mimetype": "text/x-python",
   "name": "python",
   "nbconvert_exporter": "python",
   "pygments_lexer": "ipython3",
   "version": "3.8.2"
  }
 },
 "nbformat": 4,
 "nbformat_minor": 5
}
