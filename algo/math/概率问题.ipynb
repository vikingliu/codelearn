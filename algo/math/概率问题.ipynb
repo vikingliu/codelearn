{
 "cells": [
  {
   "cell_type": "markdown",
   "id": "391a7f55-2193-4841-9658-a635226bc213",
   "metadata": {},
   "source": [
    "<img src=\"./img/triangle_probability.jpeg\" style=\"zoom:40%;\" />"
   ]
  },
  {
   "cell_type": "code",
   "execution_count": 2,
   "id": "f8468785-0c92-4f73-8ff7-28d6589c4d27",
   "metadata": {},
   "outputs": [
    {
     "name": "stdout",
     "output_type": "stream",
     "text": [
      "0.2539308176100629\n"
     ]
    }
   ],
   "source": [
    "import random\n",
    "\n",
    "def cal_tree_line_triangle_probability(iter = 10000):\n",
    "    triangle_points = 0\n",
    "    total_points = 0\n",
    "    \n",
    "    for i in range(iter):\n",
    "        x = random.random()\n",
    "        y = random.random()\n",
    "        if x + y < 1:\n",
    "            total_points += 1\n",
    "            if x < 0.5 and y < 0.5 and x + y > 0.5:\n",
    "                triangle_points += 1\n",
    "    return triangle_points/total_points\n",
    "print(cal_tree_line_triangle_probability())\n",
    "    "
   ]
  },
  {
   "cell_type": "code",
   "execution_count": null,
   "id": "3290b041-5dd3-4337-858b-0d531cd606b8",
   "metadata": {},
   "outputs": [],
   "source": []
  }
 ],
 "metadata": {
  "kernelspec": {
   "display_name": "Python 3 (ipykernel)",
   "language": "python",
   "name": "python3"
  },
  "language_info": {
   "codemirror_mode": {
    "name": "ipython",
    "version": 3
   },
   "file_extension": ".py",
   "mimetype": "text/x-python",
   "name": "python",
   "nbconvert_exporter": "python",
   "pygments_lexer": "ipython3",
   "version": "3.12.1"
  }
 },
 "nbformat": 4,
 "nbformat_minor": 5
}
