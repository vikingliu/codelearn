{
 "cells": [
  {
   "cell_type": "markdown",
   "id": "922543aa-9ad9-4dfe-b4cf-84795f838b91",
   "metadata": {},
   "source": [
    "有三个门，门后有羊或者车，总共两只羊一辆车。选手选一个门，主持人打开另一个门后为羊的门\n",
    "\n",
    "选手可以再做一次选择。求选手选中车的概率？\n",
    "\n",
    "不换结果的概率是1/3\n",
    "\n",
    "更换结果的概率是1/2\n",
    "* car（选），羊A（开），羊B\n",
    "* 羊A（选），car，羊B（开）\n",
    "* 羊B（选），car，羊A（开）\n",
    "\n",
    "更换选中car的概率是 2/3, 只要第一次选到羊，换结果就能命中car\n",
    "\n",
    "\n",
    "<img src=\"./img/sheep_car.png\" style=\"zoom:40%\">\n",
    "<img src=\"./img/sheep_and_car.png\" style=\"zoom:20%\">"
   ]
  },
  {
   "cell_type": "code",
   "execution_count": 11,
   "id": "7c13622f-6cde-40a3-b2fa-7ff6f30ac8b4",
   "metadata": {},
   "outputs": [
    {
     "name": "stdout",
     "output_type": "stream",
     "text": [
      "not change choice: 0.3345\n",
      "change choice: 0.6659\n"
     ]
    }
   ],
   "source": [
    "import random\n",
    "def sheep_and_car(change=False, iter=10000):\n",
    "    choices = ['sheep A', 'sheep B', 'car']\n",
    "    car_cnt = 0\n",
    "    for i in range(iter):\n",
    "        ans = random.choice(choices)\n",
    "        if change:\n",
    "            if ans == 'sheep A' or ans == 'sheep B':\n",
    "                car_cnt += 1\n",
    "        elif ans == 'car':\n",
    "            car_cnt += 1\n",
    "    return car_cnt / iter\n",
    "print('not change choice:', sheep_and_car())\n",
    "print('change choice:',sheep_and_car(True))\n",
    "    "
   ]
  }
 ],
 "metadata": {
  "kernelspec": {
   "display_name": "Python 3 (ipykernel)",
   "language": "python",
   "name": "python3"
  },
  "language_info": {
   "codemirror_mode": {
    "name": "ipython",
    "version": 3
   },
   "file_extension": ".py",
   "mimetype": "text/x-python",
   "name": "python",
   "nbconvert_exporter": "python",
   "pygments_lexer": "ipython3",
   "version": "3.12.1"
  }
 },
 "nbformat": 4,
 "nbformat_minor": 5
}
