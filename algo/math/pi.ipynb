{
 "cells": [
  {
   "cell_type": "code",
   "execution_count": 7,
   "id": "84505360-cb59-48de-b089-7cd969676eac",
   "metadata": {},
   "outputs": [
    {
     "name": "stdout",
     "output_type": "stream",
     "text": [
      "将进行无限计算，请用Ctrl_C或其他方式强制退出！！！\n",
      "开始计算...，退出请用Ctrl_C或其他强制退出方式...\n",
      "\n",
      "实验次数        计算结果\n",
      "100000     3.14448\n",
      "200000     3.14212\n",
      "300000     3.14444\n",
      "400000     3.14447\n",
      "500000     3.143808\n",
      "600000     3.1431133333333334\n",
      "700000     3.1425657142857144\n",
      "800000     3.14194\n",
      "900000     3.1417466666666667\n",
      "1000000     3.140988\n",
      "1000000     3.140988\n"
     ]
    }
   ],
   "source": [
    "#encoding=utf-8\n",
    "import random\n",
    "\n",
    "\n",
    "num_all = 0         #随机点总计数器\n",
    "num_cir = 0         #随机点在圆内的计数器\n",
    "num_halt = 1000000 #每产生这么多个随机点后，计算并打印一次目前的结果\n",
    "\n",
    "print(\"将进行无限计算，请用Ctrl_C或其他方式强制退出！！！\")\n",
    "#input(\"按回车(Enter)键开始...\")\n",
    "print(\"开始计算...，退出请用Ctrl_C或其他强制退出方式...\")\n",
    "print(\"\\n实验次数        计算结果\")\n",
    "\n",
    "\n",
    "for i in range(num_halt):\n",
    "    x = random.random()         #获得随机点的横坐标\n",
    "    y = random.random()         #获得随机点的纵坐标\n",
    "    if x*x + y*y < 1 :          #随机点(x,y)在圆内\n",
    "        num_cir = num_cir + 1   #圆内计数器+1\n",
    "    num_all = num_all + 1       #总计数器+1\n",
    "    if (i + 1) % 100000 == 0:\n",
    "        pi = 4*num_cir*1.0/num_all\n",
    "        print(num_all,\"   \", pi)\n",
    "        \n",
    "pi = 4*num_cir*1.0/num_all\n",
    "print(num_all,\"   \", pi)"
   ]
  },
  {
   "cell_type": "markdown",
   "id": "ce9eb7ce-4a21-43ee-8f7e-8029cf583bbc",
   "metadata": {},
   "source": [
    "<img src=\"./img/Cutcircle.png\" style=\"zoom:50%\">\n",
    "\n",
    "圆的面积 =  半圆周长 * 半径 R = 多边形的面积 = $S_{2N}$  \n",
    "N边型的周长 M * N， 半周长 = $\\frac {M * N} {2}$  \n",
    "$ S_{2N} = N边形的半周长×R =  \\frac {M * N} {2} * R$ \n",
    "\n",
    "π = $\\frac {S_圆} {R^2} = \\frac {lim S_{2N} } {R^2}  = \\frac {M * N} {2R} $\n",
    "\n",
    "<img src =\"./img/geyuanshu.png\" style=\"zoom:50%\">\n",
    "\n",
    "M是n边型的边长，m是2n边型的边长  \n",
    "\n",
    "n=6的时候，M = 1   \n",
    "\n",
    "$G={\\sqrt  {r^{2}-{\\frac  {M^{2}}{4}}}}$  \n",
    "j=r-G  \n",
    "$m^{2}={\\frac  {M^{2}}{4}}+j^{2}$  \n",
    "\n",
    "r = 1       \n",
    "$m^{2}={\\frac  {M^{2}}{4}}+(1-G)^{2}$                \n",
    "$m^{2}={\\frac  {M^{2}}{4}}+1-2\\times G+G^{2}$      \n",
    "$m^{2}={\\frac  {M^{2}}{4}}+1-2\\times G+1-{\\frac  {M^{2}}{4}}$      \n",
    "$m^{2}=2-2\\times G=2-2\\times {\\sqrt {1-{\\frac  {M^{2}}{4}}}}$      \n",
    "$m^{2}=2-{\\sqrt  {4-{M^{2}}}}$   \n",
    "\n",
    "$2-m^{2}={\\sqrt  {2+(2-M^{2})}}$  \n",
    "$m={\\sqrt {2 - {\\sqrt  {4-{M^{2}}}}}}$   \n",
    "$π = \\frac {m * n} {2}$\n",
    "\n"
   ]
  },
  {
   "cell_type": "code",
   "execution_count": 11,
   "id": "cabe43e1-f98a-44ae-9c2e-7003d5304cd8",
   "metadata": {},
   "outputs": [
    {
     "name": "stdout",
     "output_type": "stream",
     "text": [
      "内接正n边形         π计算结果               \n",
      "6                   3.000000000000      \n",
      "12                  3.105828541230249762\n",
      "24                  3.132628613281236873\n",
      "48                  3.139350203046872068\n",
      "96                  3.141031950890529778\n",
      "192                 3.141452472285344300\n",
      "384                 3.141557607911622085\n",
      "768                 3.141583892148935853\n",
      "1536                3.141590463236761721\n",
      "3072                3.141592106043048283\n",
      "6144                3.141592516588154638\n",
      "12288               3.141592618640789425\n",
      "24576               3.141592645321215738\n",
      "49152               3.141592645321215738\n",
      "98304               3.141592645321215738\n"
     ]
    }
   ],
   "source": [
    "\n",
    "# coding=utf-8\n",
    "import math\n",
    "\n",
    "n = 6\n",
    "m = 1\n",
    "print(\"%-15s%-20s\" % (\"内接正n边形\", \"π计算结果\"))\n",
    "print(\"%-20d%-20.12f\" % (n, n * m / 2))\n",
    "for i in range(14):\n",
    "    n = 2 * n\n",
    "    m = math.sqrt(2 - 2 * math.sqrt(1 - (m / 2) ** 2))\n",
    "    print(\"%-20d%-20.18f\" % (n, n * m / 2))"
   ]
  },
  {
   "cell_type": "code",
   "execution_count": null,
   "id": "e2447b9e-9ddb-4b63-a3a4-eaed2eec6648",
   "metadata": {},
   "outputs": [],
   "source": []
  }
 ],
 "metadata": {
  "kernelspec": {
   "display_name": "Python 3 (ipykernel)",
   "language": "python",
   "name": "python3"
  },
  "language_info": {
   "codemirror_mode": {
    "name": "ipython",
    "version": 3
   },
   "file_extension": ".py",
   "mimetype": "text/x-python",
   "name": "python",
   "nbconvert_exporter": "python",
   "pygments_lexer": "ipython3",
   "version": "3.12.1"
  }
 },
 "nbformat": 4,
 "nbformat_minor": 5
}
