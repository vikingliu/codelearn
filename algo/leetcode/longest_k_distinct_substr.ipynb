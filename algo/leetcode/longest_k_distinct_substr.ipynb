{
 "cells": [
  {
   "cell_type": "code",
   "execution_count": 10,
   "id": "a3834c26-9052-40ca-a55d-39b3bb2b42d4",
   "metadata": {},
   "outputs": [
    {
     "name": "stdout",
     "output_type": "stream",
     "text": [
      "cdecde\n"
     ]
    }
   ],
   "source": [
    "# coding=utf-8\n",
    "'''\n",
    "Given a string s and an integer k, return the length of the longest substring of s that contains at most k distinct characters.\n",
    "\n",
    "Input: s = \"eceba\", k = 2\n",
    "Output: 3\n",
    "Explanation: The substring is \"ece\" with length 3.\n",
    "\n",
    "Input: s = \"aa\", k = 1\n",
    "Output: 2\n",
    "Explanation: The substring is \"aa\" with length 2.\n",
    "'''\n",
    "\n",
    "\n",
    "def longest_k_substring(s, k):\n",
    "    character_counter = {}\n",
    "    if len(s) < k:\n",
    "        return 0\n",
    "    start = 0\n",
    "    end = 1\n",
    "    character_counter[s[0]] = 1\n",
    "    max_str = ''\n",
    "    while end < len(s):\n",
    "        while start < end < len(s):\n",
    "            if s[end] not in character_counter:\n",
    "                if len(character_counter) == k:\n",
    "                    # record the max_str, stop move end\n",
    "                    if end-start > len(max_str):\n",
    "                        max_str = s[start: end]\n",
    "                    \n",
    "                    break\n",
    "                character_counter[s[end]] = 1\n",
    "            else:\n",
    "                if len(character_counter) == k and end-start > len(max_str):\n",
    "                    # record the max_str\n",
    "                    max_str = s[start: end]\n",
    "                character_counter[s[end]] += 1\n",
    "            end += 1\n",
    "\n",
    "        #move left index\n",
    "        while start < end < len(s) and len(character_counter) >= k:\n",
    "            if character_counter[s[start]] == 1:\n",
    "                del character_counter[s[start]]\n",
    "            else:\n",
    "                character_counter[s[start]] -= 1\n",
    "            start += 1\n",
    "\n",
    "    return max_str\n",
    "\n",
    "print(longest_k_substring('abcdecdefgh', 3))\n"
   ]
  },
  {
   "cell_type": "code",
   "execution_count": null,
   "id": "df7004e0-841c-406f-bf3f-c57830172cfc",
   "metadata": {},
   "outputs": [],
   "source": []
  }
 ],
 "metadata": {
  "kernelspec": {
   "display_name": "Python 3 (ipykernel)",
   "language": "python",
   "name": "python3"
  },
  "language_info": {
   "codemirror_mode": {
    "name": "ipython",
    "version": 3
   },
   "file_extension": ".py",
   "mimetype": "text/x-python",
   "name": "python",
   "nbconvert_exporter": "python",
   "pygments_lexer": "ipython3",
   "version": "3.8.2"
  }
 },
 "nbformat": 4,
 "nbformat_minor": 5
}
