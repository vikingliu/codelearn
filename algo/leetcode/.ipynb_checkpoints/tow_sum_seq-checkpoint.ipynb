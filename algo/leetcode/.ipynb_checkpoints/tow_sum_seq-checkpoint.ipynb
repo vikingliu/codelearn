{
 "cells": [
  {
   "cell_type": "code",
   "execution_count": 3,
   "id": "aa8dd12e-b6e5-4c0a-b2fb-7b2a8415b4d6",
   "metadata": {},
   "outputs": [
    {
     "name": "stdout",
     "output_type": "stream",
     "text": [
      "[1, 99, 100, 199]\n"
     ]
    }
   ],
   "source": [
    "import math\n",
    "\"\"\"\n",
    "seq = [x,y,x+y,x+2y, 2x+3y, 3x+5y,5x+8y....]\n",
    "当前数等前两个数之和\n",
    "\"\"\"\n",
    "\n",
    "def get_num_sum(s):\n",
    "    n = len(s)\n",
    "    for i in range(n // 2):\n",
    "        # 生成第一个数\n",
    "        num1 = s[0: i + 1]\n",
    "        x = int(math.ceil((n + i) / 2.0))\n",
    "        for j in range(i + 1, x):\n",
    "            # 生成第二个数\n",
    "            num2 = s[i + 1: j + 1]\n",
    "            # 生成序列\n",
    "            nums = get_sequence(num1, num2, s)\n",
    "            if nums:\n",
    "                print(nums)\n",
    "\n",
    "\n",
    "def get_sequence(num1, num2, s):\n",
    "    sub_s = num1 + num2\n",
    "    nums = [int(num1), int(num2)]\n",
    "    while len(sub_s) < len(s):\n",
    "        # num[n] = num[n-1] + num[n-2]\n",
    "        if sub_s != s[:len(sub_s)]:\n",
    "            return []\n",
    "        num3 = nums[-1] + nums[-2]\n",
    "        nums.append(num3)\n",
    "        sub_s += str(num3)\n",
    "        \n",
    "    if sub_s == s:\n",
    "        return nums\n",
    "    return []\n",
    "\n",
    "\n",
    "get_num_sum('199100199')"
   ]
  },
  {
   "cell_type": "code",
   "execution_count": null,
   "id": "98acb3ed-05c9-47dd-b604-33f0ed2a2532",
   "metadata": {},
   "outputs": [],
   "source": []
  }
 ],
 "metadata": {
  "kernelspec": {
   "display_name": "Python 3 (ipykernel)",
   "language": "python",
   "name": "python3"
  },
  "language_info": {
   "codemirror_mode": {
    "name": "ipython",
    "version": 3
   },
   "file_extension": ".py",
   "mimetype": "text/x-python",
   "name": "python",
   "nbconvert_exporter": "python",
   "pygments_lexer": "ipython3",
   "version": "3.12.1"
  }
 },
 "nbformat": 4,
 "nbformat_minor": 5
}
