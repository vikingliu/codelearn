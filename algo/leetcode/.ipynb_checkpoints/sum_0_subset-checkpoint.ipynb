{
 "cells": [
  {
   "cell_type": "code",
   "execution_count": 1,
   "id": "e1cb920c-dc4a-48d5-8b54-17459917e13c",
   "metadata": {},
   "outputs": [
    {
     "name": "stdout",
     "output_type": "stream",
     "text": [
      "[14, 12, 9, 7, 6, 2]\n",
      "[[-2, 3, 2, 1, -4], [-2, 3, 2, -1, -4, 2], [-2, 3, 2, -1, -2], [-2, 3, -2, 1], [-2, 3, -2, -1, 4, -2], [-2, 3, -2, -1, 2], [-2, 3, 1, -4, 2], [-2, 3, 1, -2], [-2, 3, -1], [-2, -3, 2, 1, 4, -2], [-2, -3, 2, 1, 2], [-2, -3, 2, -1, 4], [-2, -3, -2, 1, 4, 2], [-2, -3, 1, 4], [-2, -3, -1, 4, 2], [-2, 2], [-2, -2, 4], [-2, 4, -2], [-2, 2], [2, 3, 2, -1, -4, -2], [2, 3, -2, 1, -4], [2, 3, -2, -1, -4, 2], [2, 3, -2, -1, -2], [2, 3, 1, -4, -2], [2, 3, -1, -4], [2, -3, 2, 1, -4, 2], [2, -3, 2, 1, -2], [2, -3, 2, -1], [2, -3, -2, 1, 4, -2], [2, -3, -2, 1, 2], [2, -3, -2, -1, 4], [2, -3, 1], [2, -3, -1, 4, -2], [2, -3, -1, 2], [2, 2, -4], [2, -2], [2, -4, 2], [2, -2], [3, 2, 1, -4, -2], [3, 2, -1, -4], [3, -2, 1, -4, 2], [3, -2, 1, -2], [3, -2, -1], [3, 1, -4], [3, -1, -4, 2], [3, -1, -2], [-3, 2, 1], [-3, 2, -1, 4, -2], [-3, 2, -1, 2], [-3, -2, 1, 4], [-3, -2, -1, 4, 2], [-3, 1, 4, -2], [-3, 1, 2], [-3, -1, 4], [2, -4, 2], [2, -2], [-2, 4, -2], [-2, 2]]\n"
     ]
    }
   ],
   "source": [
    "# coding=utf-8\n",
    "\n",
    "\"\"\"\n",
    " 一个数组，每个元素可以乘以-1，求和等于0的所有组合\n",
    "\"\"\"\n",
    "def get_comp(nums, i, pre, pre_sum, res):\n",
    "    if i == len(nums):\n",
    "        if pre and sum(pre) == 0:\n",
    "            res.append(pre.copy())\n",
    "        return\n",
    "    if -nums_sum[i] <= pre_sum <= nums_sum[i]:\n",
    "        # 加 nums[i]\n",
    "        get_comp(nums, i + 1, pre + [nums[i]], pre_sum + nums[i], res)\n",
    "        # 加 -1 * nums[i]\n",
    "        get_comp(nums, i + 1, pre + [-nums[i]], pre_sum - nums[i], res)\n",
    "        # 不加 nums[i]\n",
    "        get_comp(nums, i + 1, pre, pre_sum, res)\n",
    "\n",
    "\n",
    "res = []\n",
    "nums = [-2, 3, 2, 1, 4, 2]\n",
    "n = len(nums)\n",
    "nums_sum = [0] * len(nums)\n",
    "s = 0\n",
    "\n",
    "for i in range(n - 1, -1, -1):\n",
    "    s += abs(nums[i])\n",
    "    nums_sum[i] = s\n",
    "print(nums_sum)\n",
    "\n",
    "get_comp(nums, 0, [], 0, res)\n",
    "print(res)\n"
   ]
  },
  {
   "cell_type": "code",
   "execution_count": null,
   "id": "0090e82a-37b7-483c-9bda-69d9c33b01fe",
   "metadata": {},
   "outputs": [],
   "source": []
  }
 ],
 "metadata": {
  "kernelspec": {
   "display_name": "Python 3 (ipykernel)",
   "language": "python",
   "name": "python3"
  },
  "language_info": {
   "codemirror_mode": {
    "name": "ipython",
    "version": 3
   },
   "file_extension": ".py",
   "mimetype": "text/x-python",
   "name": "python",
   "nbconvert_exporter": "python",
   "pygments_lexer": "ipython3",
   "version": "3.8.2"
  }
 },
 "nbformat": 4,
 "nbformat_minor": 5
}
