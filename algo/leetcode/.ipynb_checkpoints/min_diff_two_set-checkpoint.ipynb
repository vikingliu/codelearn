{
 "cells": [
  {
   "cell_type": "code",
   "execution_count": 4,
   "id": "8103dcce-fb01-466d-89e9-5539b148b25a",
   "metadata": {},
   "outputs": [
    {
     "name": "stdout",
     "output_type": "stream",
     "text": [
      "7 10 [1, 2, 3, 5, -1]\n",
      "3 8 [1, 2, 3, -1, 3]\n",
      "1 6 [1, 2, 3]\n",
      "1\n"
     ]
    }
   ],
   "source": [
    "# coding=utf-8\n",
    "import sys\n",
    "\n",
    "min_diff = sys.maxsize\n",
    "\n",
    "\"\"\"\n",
    "一个数组，分成两个集合， 左右只差的最小值\n",
    "\"\"\"\n",
    "def get_min_diff(nums, i, pre_sum, pre_len, total, path=[]):\n",
    "    global min_diff\n",
    "    if i == len(nums):\n",
    "        diff = abs(total - pre_sum * 2)\n",
    "        if pre_len < len(nums) and diff < min_diff:\n",
    "            min_diff = diff\n",
    "            print(min_diff, pre_sum, path)\n",
    "        return\n",
    "\n",
    "    get_min_diff(nums, i + 1, pre_sum + nums[i], pre_len + 1, total, path + [nums[i]])\n",
    "    get_min_diff(nums, i + 1, pre_sum, pre_len, total, path)\n",
    "\n",
    "\n",
    "nums = [1, 2, 3, 5, -1, 3]\n",
    "get_min_diff(nums, 0, 0, 0, sum(nums))\n",
    "print(min_diff)\n"
   ]
  },
  {
   "cell_type": "code",
   "execution_count": null,
   "id": "39bef65c-0143-4fb4-8ed2-db332eedcd5e",
   "metadata": {},
   "outputs": [],
   "source": []
  }
 ],
 "metadata": {
  "kernelspec": {
   "display_name": "Python 3 (ipykernel)",
   "language": "python",
   "name": "python3"
  },
  "language_info": {
   "codemirror_mode": {
    "name": "ipython",
    "version": 3
   },
   "file_extension": ".py",
   "mimetype": "text/x-python",
   "name": "python",
   "nbconvert_exporter": "python",
   "pygments_lexer": "ipython3",
   "version": "3.8.2"
  }
 },
 "nbformat": 4,
 "nbformat_minor": 5
}
