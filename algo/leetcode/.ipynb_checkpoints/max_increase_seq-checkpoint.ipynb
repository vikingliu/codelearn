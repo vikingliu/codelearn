{
 "cells": [
  {
   "cell_type": "code",
   "execution_count": 1,
   "id": "5efff83b-4fc4-4493-a573-27e90804ca8d",
   "metadata": {},
   "outputs": [
    {
     "name": "stdout",
     "output_type": "stream",
     "text": [
      "[[13], [9], [2], [2, 5], [2, 3], [2, 5, 6], [2, 5, 6, 101], [2, 5, 6, 18], [2, 5, 6, 18, 19]]\n"
     ]
    }
   ],
   "source": [
    "# coding=utf-8\n",
    "\n",
    "#dp[i] max Ascending order\n",
    "# dp[i] = max(dp[j] + [nums[i]] if nums[i] > dp[j][-1] for j in range(i), [nums[i]])\n",
    "def max_seq(nums):\n",
    "    dp = [0] * len(nums)\n",
    "    dp[0] = [nums[0]]\n",
    "    for i in range(1, len(nums)):\n",
    "        dp[i] = [nums[i]]\n",
    "        for j in range(i):\n",
    "            if nums[i] > dp[j][-1] and len(dp[j]) + 1 > len(dp[i]):\n",
    "                dp[i] = dp[j] + [nums[i]]\n",
    "    return dp\n",
    "\n",
    "\n",
    "nums = [13, 9, 2, 5, 3, 6, 101, 18, 19]\n",
    "print(max_seq(nums))"
   ]
  },
  {
   "cell_type": "code",
   "execution_count": null,
   "id": "b1d76d7f-0d84-4920-bbe8-1fa0c21fa881",
   "metadata": {},
   "outputs": [],
   "source": []
  }
 ],
 "metadata": {
  "kernelspec": {
   "display_name": "Python 3 (ipykernel)",
   "language": "python",
   "name": "python3"
  },
  "language_info": {
   "codemirror_mode": {
    "name": "ipython",
    "version": 3
   },
   "file_extension": ".py",
   "mimetype": "text/x-python",
   "name": "python",
   "nbconvert_exporter": "python",
   "pygments_lexer": "ipython3",
   "version": "3.12.1"
  }
 },
 "nbformat": 4,
 "nbformat_minor": 5
}
