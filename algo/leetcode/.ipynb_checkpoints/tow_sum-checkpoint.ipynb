{
 "cells": [
  {
   "cell_type": "code",
   "execution_count": 4,
   "id": "14dfee86-ec6a-46bf-9ee3-fadc0b0cf34a",
   "metadata": {},
   "outputs": [
    {
     "name": "stdout",
     "output_type": "stream",
     "text": [
      "[(3, 3), (2, 4), (2, 4), (1, 5), (6, 0), (-1, 7)]\n",
      "[(3, 3), (2, 4), (1, 5), (6, 0), (-1, 7)]\n"
     ]
    }
   ],
   "source": [
    "# coding=utf-8\n",
    "\n",
    "import collections\n",
    "\n",
    "\n",
    "def get_pairs(nums, s):\n",
    "    '''\n",
    "\n",
    "    :param nums:\n",
    "    :param s:\n",
    "    :return:\n",
    "    '''\n",
    "    pre = set()\n",
    "    pair = []\n",
    "    for n in nums:\n",
    "        diff = s - n\n",
    "        if diff in pre:\n",
    "            pair.append((diff, n))\n",
    "        if n not in pre:\n",
    "            pre.add(n)\n",
    "    return pair\n",
    "\n",
    "\n",
    "def get_pairs_dup(nums, s):\n",
    "    '''\n",
    "     计算所有和为s的pair， nums 有重复的数据，每个数只能用一次\n",
    "    :param nums:\n",
    "    :param s: target sum\n",
    "    :return: all pairs\n",
    "    '''\n",
    "    pre = collections.defaultdict(int)\n",
    "    pair = []\n",
    "    for n in nums:\n",
    "        diff = s - n\n",
    "        if pre[diff] > 0:\n",
    "            pair.append((diff, n))\n",
    "            pre[diff] -= 1\n",
    "        pre[n] += 1\n",
    "    return pair\n",
    "\n",
    "\n",
    "nums = [1, 1, 2, 3, 3, 4, 4, 5, 6, 0, -1, 7]\n",
    "print(get_pairs(nums, 6))\n",
    "print(get_pairs_dup(nums, 6))\n"
   ]
  },
  {
   "cell_type": "code",
   "execution_count": null,
   "id": "edb0d2c0-47e1-43df-a5bb-a9cc51a5cb3c",
   "metadata": {},
   "outputs": [],
   "source": []
  }
 ],
 "metadata": {
  "kernelspec": {
   "display_name": "Python 3 (ipykernel)",
   "language": "python",
   "name": "python3"
  },
  "language_info": {
   "codemirror_mode": {
    "name": "ipython",
    "version": 3
   },
   "file_extension": ".py",
   "mimetype": "text/x-python",
   "name": "python",
   "nbconvert_exporter": "python",
   "pygments_lexer": "ipython3",
   "version": "3.12.1"
  }
 },
 "nbformat": 4,
 "nbformat_minor": 5
}
