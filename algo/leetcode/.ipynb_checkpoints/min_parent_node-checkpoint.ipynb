{
 "cells": [
  {
   "cell_type": "code",
   "execution_count": 2,
   "id": "5a54311c-d593-46b3-9d49-7d06a242fae2",
   "metadata": {},
   "outputs": [
    {
     "name": "stdout",
     "output_type": "stream",
     "text": [
      "node val:1\n"
     ]
    }
   ],
   "source": [
    "def min_parent(root, p0, p1):\n",
    "    res = None\n",
    "\n",
    "    def get_min_parent(root, p0, p1):\n",
    "        global res\n",
    "        if root is None:\n",
    "            return False\n",
    "\n",
    "        f_v = True if p0 == root or p1 == root else False\n",
    "\n",
    "        f_l_v = get_min_parent(root.left, p0, p1)\n",
    "        if f_v and f_l_v:\n",
    "            res = root\n",
    "            return True\n",
    "\n",
    "        if res is not None:\n",
    "            return True\n",
    "\n",
    "        f_r_v = get_min_parent(root.right, p0, p1)\n",
    "        if f_v and f_r_v:\n",
    "            res = root\n",
    "            return True\n",
    "\n",
    "        if f_l_v and f_r_v:\n",
    "            # find min root\n",
    "            res = root\n",
    "\n",
    "        return f_v or f_l_v or f_r_v\n",
    "\n",
    "    get_min_parent(root, p0, p1)\n",
    "    return res\n",
    "\n",
    "\n",
    "def find_min_parent(root, p, q):\n",
    "    if root is None:\n",
    "        return 0, None\n",
    "    val = 0\n",
    "    if root.val == p:\n",
    "        val = 1\n",
    "    if root.val == q:\n",
    "        val = 2\n",
    "    left_v, left_node = find_min_parent(root.left, p, q)\n",
    "    if left_v == 3 and left_node:\n",
    "        return left_v, left_node\n",
    "    right_v, right_node = find_min_parent(root.right, p, q)\n",
    "    if right_v == 3 and right_node:\n",
    "        return right_v, right_node\n",
    "\n",
    "    if val + left_v == 3 or val + right_v == 3 or left_v + right_v == 3:\n",
    "        return 3, root\n",
    "    return max(val, left_v, right_v), None\n",
    "\n",
    "\n",
    "class Node(object):\n",
    "    def __init__(self, val, left=None, right=None):\n",
    "        self.val = val\n",
    "        self.left = left\n",
    "        self.right = right\n",
    "\n",
    "    def __str__(self):\n",
    "        return 'node val:' + str(self.val)\n",
    "\n",
    "\n",
    "#       1\n",
    "#    2    3\n",
    "#       5   8\n",
    "\n",
    "root = Node(1, Node(2), Node(3, Node(5), Node(8)))\n",
    "v, n = find_min_parent(root, 2, 5)\n",
    "if n:\n",
    "    print(n)\n"
   ]
  },
  {
   "cell_type": "code",
   "execution_count": null,
   "id": "8880084e-8428-4c73-84be-a9095bc3006f",
   "metadata": {},
   "outputs": [],
   "source": []
  }
 ],
 "metadata": {
  "kernelspec": {
   "display_name": "Python 3 (ipykernel)",
   "language": "python",
   "name": "python3"
  },
  "language_info": {
   "codemirror_mode": {
    "name": "ipython",
    "version": 3
   },
   "file_extension": ".py",
   "mimetype": "text/x-python",
   "name": "python",
   "nbconvert_exporter": "python",
   "pygments_lexer": "ipython3",
   "version": "3.8.2"
  }
 },
 "nbformat": 4,
 "nbformat_minor": 5
}
