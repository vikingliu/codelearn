{
 "cells": [
  {
   "cell_type": "code",
   "execution_count": 1,
   "id": "a52095f0-66df-4279-8a14-6e6df190c814",
   "metadata": {},
   "outputs": [
    {
     "name": "stdout",
     "output_type": "stream",
     "text": [
      "['9', '998', '43', '433', '12987', '120', '112']\n"
     ]
    }
   ],
   "source": [
    "# coding=utf-8\n",
    "from functools import cmp_to_key\n",
    "\n",
    "\n",
    "def cmp(x, y):\n",
    "    return -1 if (x + y > y + x) else 1\n",
    "\n",
    "\n",
    "def max_seq_v(nums: list) -> list:\n",
    "    new_nums = [str(x) for x in nums]\n",
    "    return sorted(new_nums, key=cmp_to_key(cmp))\n",
    "\n",
    "\n",
    "nums = [433, 43, 9, 998, 112, 120, 12987]\n",
    "\n",
    "print(max_seq_v(nums))\n"
   ]
  },
  {
   "cell_type": "code",
   "execution_count": null,
   "id": "7d8bfde8-fc67-4957-8e88-1bb4915281a7",
   "metadata": {},
   "outputs": [],
   "source": []
  }
 ],
 "metadata": {
  "kernelspec": {
   "display_name": "Python 3 (ipykernel)",
   "language": "python",
   "name": "python3"
  },
  "language_info": {
   "codemirror_mode": {
    "name": "ipython",
    "version": 3
   },
   "file_extension": ".py",
   "mimetype": "text/x-python",
   "name": "python",
   "nbconvert_exporter": "python",
   "pygments_lexer": "ipython3",
   "version": "3.8.2"
  }
 },
 "nbformat": 4,
 "nbformat_minor": 5
}
