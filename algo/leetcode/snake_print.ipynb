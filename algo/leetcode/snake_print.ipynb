{
 "cells": [
  {
   "cell_type": "code",
   "execution_count": 1,
   "id": "0830de26-cddd-4ee2-acc2-7f6ae71f3b67",
   "metadata": {},
   "outputs": [
    {
     "name": "stdout",
     "output_type": "stream",
     "text": [
      "1 2 3 4 8 12 16 20 19 18 17 13 9 5 6 7 11 15 14 10 "
     ]
    }
   ],
   "source": [
    "# coding=utf-8\n",
    "\n",
    "def snake(data):\n",
    "    m, n = len(data), len(data[0])\n",
    "    total = m * n\n",
    "    i, j = 0, 0\n",
    "    cnt = 0\n",
    "    direction = 'right'\n",
    "    right, left, down, up = n - 1, 0, m - 1, 1\n",
    "    while cnt < total:\n",
    "        print(data[i][j], end=' ')\n",
    "        if direction == 'right':\n",
    "            if j == right:\n",
    "                direction = 'down'\n",
    "                i += 1\n",
    "                right -= 1\n",
    "            else:\n",
    "                j += 1\n",
    "        elif direction == 'down':\n",
    "            if i == down:\n",
    "                direction = 'left'\n",
    "                j -= 1\n",
    "                down -= 1\n",
    "            else:\n",
    "                i += 1\n",
    "        elif direction == 'left':\n",
    "            if j == left:\n",
    "                direction = 'up'\n",
    "                i -= 1\n",
    "                left += 1\n",
    "            else:\n",
    "                j -= 1\n",
    "        elif direction == 'up':\n",
    "            if i == up:\n",
    "                direction = 'right'\n",
    "                j += 1\n",
    "                up += 1\n",
    "            else:\n",
    "                i -= 1\n",
    "        cnt += 1\n",
    "\n",
    "\n",
    "data = [[1, 2, 3, 4],\n",
    "        [5, 6, 7, 8],\n",
    "        [9, 10, 11, 12],\n",
    "        [13, 14, 15, 16],\n",
    "        [17, 18, 19, 20]]\n",
    "\n",
    "snake(data)\n"
   ]
  },
  {
   "cell_type": "code",
   "execution_count": null,
   "id": "a4426180-bb37-49e1-bcae-7a4bb10b7458",
   "metadata": {},
   "outputs": [],
   "source": []
  }
 ],
 "metadata": {
  "kernelspec": {
   "display_name": "Python 3 (ipykernel)",
   "language": "python",
   "name": "python3"
  },
  "language_info": {
   "codemirror_mode": {
    "name": "ipython",
    "version": 3
   },
   "file_extension": ".py",
   "mimetype": "text/x-python",
   "name": "python",
   "nbconvert_exporter": "python",
   "pygments_lexer": "ipython3",
   "version": "3.12.1"
  }
 },
 "nbformat": 4,
 "nbformat_minor": 5
}
