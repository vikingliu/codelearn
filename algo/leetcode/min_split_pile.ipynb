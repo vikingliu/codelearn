{
 "cells": [
  {
   "cell_type": "code",
   "execution_count": null,
   "id": "91377b5a-b0f8-4ffb-8cdd-1b690ca82abe",
   "metadata": {},
   "outputs": [],
   "source": [
    "# coding=utf-8\n",
    "\n",
    "'''\n",
    "珂珂喜欢吃香蕉。这里有 N 堆香蕉，第 i 堆中有 piles[i] 根香蕉。警卫已经离开了，将在 H 小时后回来。\n",
    "珂珂可以决定她吃香蕉的速度 K （单位：根/小时）。每个小时，她将会选择一堆香蕉，从中吃掉 K 根。如果这堆香蕉少于 K 根，她将吃掉这堆的所有香蕉，然后这一小时内不会再吃更多的香蕉。\n",
    "珂珂喜欢慢慢吃，但仍然想在警卫回来前吃掉所有的香蕉。\n",
    "返回她可以在 H 小时内吃掉所有香蕉的最小速度 K（K 为整数）\n",
    "N=5\n",
    "\n",
    "piles=[3,4,5,7,9]\n",
    "\n",
    "H=7\n",
    "'''\n",
    "import math\n",
    "\n",
    "\n",
    "def min_speed(piles, H):\n",
    "    n = len(piles)\n",
    "    need_split_pile = H - n  # n + need_split_pile = H\n",
    "    start_split_index = n - need_split_pile - 1  #前面的不需要分堆，一口吃掉\n",
    "    while start_split_index < n:\n",
    "        min_v = piles[start_split_index] # 最小分堆的值\n",
    "        start_split_index += 1\n",
    "        h = start_split_index #前面的吃完耗时\n",
    "        for x in range(start, n):\n",
    "            # piles[x] 吃完的时间\n",
    "            h += math.ceil(piles[x] / min_v)\n",
    "            if h > H: #最小分堆值太小\n",
    "                break\n",
    "        #找到最小分堆值\n",
    "        if h == H:\n",
    "            return min_v\n",
    "\n",
    "    return math.ceil(piles[-1] / (rest + 1))\n",
    "\n",
    "\n",
    "piles = [3, 4, 5, 7, 25]\n",
    "piles.sort()\n",
    "print(min_speed(piles, 7))\n"
   ]
  }
 ],
 "metadata": {
  "kernelspec": {
   "display_name": "Python 3 (ipykernel)",
   "language": "python",
   "name": "python3"
  },
  "language_info": {
   "codemirror_mode": {
    "name": "ipython",
    "version": 3
   },
   "file_extension": ".py",
   "mimetype": "text/x-python",
   "name": "python",
   "nbconvert_exporter": "python",
   "pygments_lexer": "ipython3",
   "version": "3.12.1"
  }
 },
 "nbformat": 4,
 "nbformat_minor": 5
}
