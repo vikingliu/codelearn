{
 "cells": [
  {
   "cell_type": "code",
   "execution_count": null,
   "id": "c65839f7-26c7-46ba-bee5-8356e5bd7df3",
   "metadata": {},
   "outputs": [],
   "source": [
    "\"\"\"\n",
    "股票交易，低卖高卖，连续操作，求最大收益\n",
    "\"\"\"\n",
    "def get_max_value(nums):\n",
    "    s = 0\n",
    "    # 把股价分成多个升序，升序的价差之和\n",
    "    # 1，2，4 = 4 - 1 = （2-1）+ （4-2）\n",
    "    for i in range(1, len(nums)):\n",
    "        if nums[i] > nums[i - 1]:\n",
    "            s += nums[i] - nums[i - 1]\n",
    "    return s\n",
    "\n",
    "\n",
    "print(get_max_value([1, 3, 2, 5, 9]))"
   ]
  }
 ],
 "metadata": {
  "kernelspec": {
   "display_name": "Python 3 (ipykernel)",
   "language": "python",
   "name": "python3"
  },
  "language_info": {
   "codemirror_mode": {
    "name": "ipython",
    "version": 3
   },
   "file_extension": ".py",
   "mimetype": "text/x-python",
   "name": "python",
   "nbconvert_exporter": "python",
   "pygments_lexer": "ipython3",
   "version": "3.12.1"
  }
 },
 "nbformat": 4,
 "nbformat_minor": 5
}
