{
 "cells": [
  {
   "cell_type": "markdown",
   "id": "e7eb4d40-9ffa-485a-b35a-38686c847253",
   "metadata": {},
   "source": [
    "## SimHash\n",
    "\n",
    "SimHash是Google在2007年发表的论文《Detecting Near-Duplicates for Web Crawling 》中提到的一种指纹生成算法或者叫指纹提取算法，被Google广泛应用在亿级的网页去重的Job中，作为locality sensitive hash（局部敏感哈希）的一种，其主要思想是降维\n",
    "\n",
    "<img src=\"../../ml/data/img/simhash.png\" style=\"zoom:50%\"/>\n",
    "\n",
    "解释下上图：\n",
    " - （1）准备一篇文本\n",
    " - （2）过滤清洗，提取n个特征关键词，这步一般用分词的方法实现，关于分词，比较常用的有IK，mmseg4j，ansj\n",
    " - （3）特征加权，这一步如果有自己针对某个行业的定义的语料库时候可以使用，没有的话，就用分词后的词频即可\n",
    " - （4）对关键词进行hash降维01组成的签名（上述是6位）\n",
    " - （5）然后向量加权，对于每一个6位的签名的每一位，如果是1，hash和权重正相乘，如果为0，则hash和权重负相乘，至此就能得到每个特征值的向量。\n",
    " - （6）合并所有的特征向量相加，得到一个最终的向量，然后降维，对于最终的向量的每一位如果大于0则为1，否则为0，这样就能得到最终的simhash的指纹签名\n",
    "\n",
    "\n",
    "<img src=\"../../ml/data/img/simhash_example.png\" style=\"zoom:50%\"/>\n",
    "\n",
    "\n",
    "### 汉明距离\n",
    "两个码字的对应比特取值不同的比特数称为这两个码字的海明距离。在一个有效编码集中,任意两个码字的海明距离的最小值称为该编码集的海明距离。举例如下：10101和00110从第一位开始依次有第一位、第四、第五位不同，则海明距离为3。\n",
    "\n",
    "``` python\n",
    "# simhash1 异或 simhash2\n",
    "x = simhash1 ^ simhash2\n",
    "ans = 0\n",
    "while x:\n",
    "    ans += 1\n",
    "    x &= x - 1\n",
    "# x中1的个数就是汉明距离\n",
    "```\n",
    "n位的码字可以用n维空间的超立方体的一个顶点来表示。两个码字之间的海明距离就是超立方体两个顶点之间的一条边，而且是这两个顶点之间的最短距离。\n",
    "\n",
    "### 索引\n",
    "针对海量数据的去重效率，我们可以将64位指纹，切分为4份16位的数据块，根据抽屉原理在海明距离为3的情况，如果两个文档相似，那么它必有一个块的数据是相等的\n",
    "\n",
    "\n",
    "<img src=\"../../ml/data/img/simhash_index.png\" style=\"zoom:50%\"/>\n",
    "\n",
    "<img src=\"../../ml/data/img/simhash_build_index.png\" style=\"zoom:50%\"/>\n",
    "\n",
    "假设样本库，有2^34条数据（171亿数据），假设数据均匀分布，则每个16位（16个01数字随机组成的组合为2^16个）\n",
    "- 倒排返回的最大数量为2^34/2^16=2^(34-16)=262144个候选结果\n",
    "- 4个16位截断索引，总的结果为：4*262144=1048576，约为100多万\n",
    "\n",
    "通过这样一来的降维处理，原来需要比较171亿次，现在只需要比较100万次即可得到结果，这样以来大大提升了计算效率。\n",
    "\n",
    " "
   ]
  },
  {
   "cell_type": "code",
   "execution_count": null,
   "id": "6413bc2d-ab6b-4ca3-9d8a-d5208be0a7f8",
   "metadata": {},
   "outputs": [],
   "source": []
  }
 ],
 "metadata": {
  "kernelspec": {
   "display_name": "Python 3 (ipykernel)",
   "language": "python",
   "name": "python3"
  },
  "language_info": {
   "codemirror_mode": {
    "name": "ipython",
    "version": 3
   },
   "file_extension": ".py",
   "mimetype": "text/x-python",
   "name": "python",
   "nbconvert_exporter": "python",
   "pygments_lexer": "ipython3",
   "version": "3.8.2"
  }
 },
 "nbformat": 4,
 "nbformat_minor": 5
}
