{
 "cells": [
  {
   "cell_type": "code",
   "execution_count": 1,
   "id": "98ca9b5d-f4a9-4cd4-9439-757785786838",
   "metadata": {
    "ExecuteTime": {
     "end_time": "2024-03-11T11:30:08.843106Z",
     "start_time": "2024-03-11T11:30:08.828441Z"
    }
   },
   "outputs": [
    {
     "name": "stdout",
     "output_type": "stream",
     "text": [
      "70\n"
     ]
    }
   ],
   "source": [
    "# coding=utf-8\n",
    "import heapq\n",
    "\n",
    "\n",
    "def top_k(k, nums):\n",
    "    \"\"\"\n",
    "\n",
    "    :param k:\n",
    "    :param nums:\n",
    "    :return:\n",
    "    \"\"\"\n",
    "    # get head of each seq\n",
    "    idx = 0\n",
    "    heads = [(seq[0], idx, seq_idx) for seq_idx, seq in enumerate(nums)]\n",
    "    # build min heap\n",
    "    heapq.heapify(heads)\n",
    "    rst = 0\n",
    "    while k > 0 and heads:\n",
    "        topk, idx, seq_idx = heapq.heappop(heads)\n",
    "        rst = topk\n",
    "        if idx + 1 < len(nums[seq_idx]):\n",
    "            new_item = (nums[seq_idx][idx + 1], idx + 1, seq_idx)\n",
    "            heapq.heappush(heads, new_item)\n",
    "        k -= 1\n",
    "    return rst\n",
    "\n",
    "\n",
    "nums = [\n",
    "    [5, 8, 10, 12],\n",
    "    [3, 5, 7, 30],\n",
    "    [9, 10, 13, 15],\n",
    "    [2, 4, 8, 10, 40, 50,60,70]\n",
    "]\n",
    "\n",
    "print(top_k(20, nums))\n"
   ]
  },
  {
   "cell_type": "code",
   "execution_count": null,
   "id": "7d00ab34-b470-492f-b206-35b70e62e14b",
   "metadata": {},
   "outputs": [],
   "source": []
  }
 ],
 "metadata": {
  "kernelspec": {
   "display_name": "Python 3 (ipykernel)",
   "language": "python",
   "name": "python3"
  },
  "language_info": {
   "codemirror_mode": {
    "name": "ipython",
    "version": 3
   },
   "file_extension": ".py",
   "mimetype": "text/x-python",
   "name": "python",
   "nbconvert_exporter": "python",
   "pygments_lexer": "ipython3",
   "version": "3.12.1"
  }
 },
 "nbformat": 4,
 "nbformat_minor": 5
}
